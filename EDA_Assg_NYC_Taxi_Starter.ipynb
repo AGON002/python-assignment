{
  "cells": [
    {
      "cell_type": "markdown",
      "metadata": {
        "id": "view-in-github",
        "colab_type": "text"
      },
      "source": [
        "<a href=\"https://colab.research.google.com/github/AGON002/python-assignment/blob/main/EDA_Assg_NYC_Taxi_Starter.ipynb\" target=\"_parent\"><img src=\"https://colab.research.google.com/assets/colab-badge.svg\" alt=\"Open In Colab\"/></a>"
      ]
    },
    {
      "cell_type": "markdown",
      "metadata": {
        "id": "ZQl5n2IOuafL"
      },
      "source": [
        "# **New York City Yellow Taxi Data**"
      ]
    },
    {
      "cell_type": "markdown",
      "metadata": {
        "id": "DGQVIB4mEFrZ"
      },
      "source": [
        "## Objective\n",
        "In this case study you will be learning exploratory data analysis (EDA) with the help of a dataset on yellow taxi rides in New York City. This will enable you to understand why EDA is an important step in the process of data science and machine learning."
      ]
    },
    {
      "cell_type": "markdown",
      "metadata": {
        "id": "YJVMenVllLUL"
      },
      "source": [
        "## **Problem Statement**\n",
        "As an analyst at an upcoming taxi operation in NYC, you are tasked to use the 2023 taxi trip data to uncover insights that could help optimise taxi operations. The goal is to analyse patterns in the data that can inform strategic decisions to improve service efficiency, maximise revenue, and enhance passenger experience."
      ]
    },
    {
      "cell_type": "markdown",
      "metadata": {
        "id": "-OVfUMlHFkZD"
      },
      "source": [
        "## Tasks\n",
        "You need to perform the following steps for successfully completing this assignment:\n",
        "1. Data Loading\n",
        "2. Data Cleaning\n",
        "3. Exploratory Analysis: Bivariate and Multivariate\n",
        "4. Creating Visualisations to Support the Analysis\n",
        "5. Deriving Insights and Stating Conclusions"
      ]
    },
    {
      "cell_type": "markdown",
      "metadata": {
        "id": "gTxV-3GJUhWm"
      },
      "source": [
        "---"
      ]
    },
    {
      "cell_type": "markdown",
      "metadata": {
        "id": "ofebI8ITG-Li"
      },
      "source": [
        "**NOTE:** The marks given along with headings and sub-headings are cumulative marks for those particular headings/sub-headings.<br>\n",
        "\n",
        "The actual marks for each task are specified within the tasks themselves.\n",
        "\n",
        "For example, marks given with heading *2* or sub-heading *2.1* are the cumulative marks, for your reference only. <br>\n",
        "\n",
        "The marks you will receive for completing tasks are given with the tasks.\n",
        "\n",
        "Suppose the marks for two tasks are: 3 marks for 2.1.1 and 2 marks for 3.2.2, or\n",
        "* 2.1.1 [3 marks]\n",
        "* 3.2.2 [2 marks]\n",
        "\n",
        "then, you will earn 3 marks for completing task 2.1.1 and 2 marks for completing task 3.2.2.\n"
      ]
    },
    {
      "cell_type": "markdown",
      "metadata": {
        "id": "YdQjht7dUiHt"
      },
      "source": [
        "---"
      ]
    },
    {
      "cell_type": "markdown",
      "metadata": {
        "id": "0eaCZjHIvfuI"
      },
      "source": [
        "## Data Understanding\n",
        "The yellow taxi trip records include fields capturing pick-up and drop-off dates/times, pick-up and drop-off locations, trip distances, itemized fares, rate types, payment types, and driver-reported passenger counts.\n",
        "\n",
        "The data is stored in Parquet format (*.parquet*). The dataset is from 2009 to 2024. However, for this assignment, we will only be using the data from 2023.\n",
        "\n",
        "The data for each month is present in a different parquet file. You will get twelve files for each of the months in 2023.\n",
        "\n",
        "The data was collected and provided to the NYC Taxi and Limousine Commission (TLC) by technology providers like vendors and taxi hailing apps. <br>\n",
        "\n",
        "You can find the link to the TLC trip records page here: https://www.nyc.gov/site/tlc/about/tlc-trip-record-data.page"
      ]
    },
    {
      "cell_type": "markdown",
      "metadata": {
        "id": "LI6qC5IDxZU1"
      },
      "source": [
        "###  Data Description\n",
        "You can find the data description here: [Data Dictionary](https://www.nyc.gov/assets/tlc/downloads/pdf/data_dictionary_trip_records_yellow.pdf)"
      ]
    },
    {
      "cell_type": "markdown",
      "metadata": {
        "id": "FafCzrDuxHg2"
      },
      "source": [
        "**Trip Records**\n",
        "\n",
        "\n",
        "\n",
        "|Field Name       |description |\n",
        "|:----------------|:-----------|\n",
        "| VendorID | A code indicating the TPEP provider that provided the record. <br> 1= Creative Mobile Technologies, LLC; <br> 2= VeriFone Inc. |\n",
        "| tpep_pickup_datetime | The date and time when the meter was engaged.  |\n",
        "| tpep_dropoff_datetime | The date and time when the meter was disengaged.   |\n",
        "| Passenger_count | The number of passengers in the vehicle. <br> This is a driver-entered value. |\n",
        "| Trip_distance | The elapsed trip distance in miles reported by the taximeter. |\n",
        "| PULocationID | TLC Taxi Zone in which the taximeter was engaged |\n",
        "| DOLocationID | TLC Taxi Zone in which the taximeter was disengaged |\n",
        "|RateCodeID |The final rate code in effect at the end of the trip.<br> 1 = Standard rate <br> 2 = JFK <br> 3 = Newark <br>4 = Nassau or Westchester <br>5 = Negotiated fare <br>6 = Group ride |\n",
        "|Store_and_fwd_flag |This flag indicates whether the trip record was held in vehicle memory before sending to the vendor, aka “store and forward,” because the vehicle did not have a connection to the server.  <br>Y= store and forward trip <br>N= not a store and forward trip |\n",
        "|Payment_type| A numeric code signifying how the passenger paid for the trip. <br> 1 = Credit card <br>2 = Cash <br>3 = No charge <br>4 = Dispute <br>5 = Unknown <br>6 = Voided trip |\n",
        "|Fare_amount| The time-and-distance fare calculated by the meter. <br>Extra Miscellaneous extras and surcharges.  Currently, this only includes the 0.50 and 1 USD rush hour and overnight charges. |\n",
        "|MTA_tax |0.50 USD MTA tax that is automatically triggered based on the metered rate in use. |\n",
        "|Improvement_surcharge | 0.30 USD improvement surcharge assessed trips at the flag drop. The improvement surcharge began being levied in 2015. |\n",
        "|Tip_amount |Tip amount – This field is automatically populated for credit card tips. Cash tips are not included. |\n",
        "| Tolls_amount | Total amount of all tolls paid in trip.  |\n",
        "| total_amount | The total amount charged to passengers. Does not include cash tips. |\n",
        "|Congestion_Surcharge |Total amount collected in trip for NYS congestion surcharge. |\n",
        "| Airport_fee | 1.25 USD for pick up only at LaGuardia and John F. Kennedy Airports|\n",
        "\n",
        "Although the amounts of extra charges and taxes applied are specified in the data dictionary, you will see that some cases have different values of these charges in the actual data."
      ]
    },
    {
      "cell_type": "markdown",
      "metadata": {
        "id": "mL-FWYFnVEdE"
      },
      "source": [
        "**Taxi Zones**\n",
        "\n",
        "Each of the trip records contains a field corresponding to the location of the pickup or drop-off of the trip, populated by numbers ranging from 1-263.\n",
        "\n",
        "These numbers correspond to taxi zones, which may be downloaded as a table or map/shapefile and matched to the trip records using a join.\n",
        "\n",
        "This is covered in more detail in later sections."
      ]
    },
    {
      "cell_type": "markdown",
      "metadata": {
        "id": "z66W3s51U0gF"
      },
      "source": [
        "---"
      ]
    },
    {
      "cell_type": "code",
      "execution_count": null,
      "metadata": {
        "id": "kRYdzWGmpyRZ",
        "outputId": "7da369d2-d715-4a7e-81cd-90dd4e369368"
      },
      "outputs": [
        {
          "name": "stdout",
          "output_type": "stream",
          "text": [
            "Requirement already satisfied: numpy==1.26.4 in c:\\users\\sumanth\\anaconda3\\lib\\site-packages (1.26.4)\n",
            "Requirement already satisfied: pandas==2.2.2 in c:\\users\\sumanth\\anaconda3\\lib\\site-packages (2.2.2)\n",
            "Requirement already satisfied: seaborn==0.13.2 in c:\\users\\sumanth\\anaconda3\\lib\\site-packages (0.13.2)\n",
            "Requirement already satisfied: matplotlib==3.10.0 in c:\\users\\sumanth\\anaconda3\\lib\\site-packages (3.10.0)\n",
            "Requirement already satisfied: python-dateutil>=2.8.2 in c:\\users\\sumanth\\appdata\\roaming\\python\\python312\\site-packages (from pandas==2.2.2) (2.9.0.post0)\n",
            "Requirement already satisfied: pytz>=2020.1 in c:\\users\\sumanth\\appdata\\roaming\\python\\python312\\site-packages (from pandas==2.2.2) (2025.1)\n",
            "Requirement already satisfied: tzdata>=2022.7 in c:\\users\\sumanth\\appdata\\roaming\\python\\python312\\site-packages (from pandas==2.2.2) (2025.1)\n",
            "Requirement already satisfied: contourpy>=1.0.1 in c:\\users\\sumanth\\anaconda3\\lib\\site-packages (from matplotlib==3.10.0) (1.2.0)\n",
            "Requirement already satisfied: cycler>=0.10 in c:\\users\\sumanth\\anaconda3\\lib\\site-packages (from matplotlib==3.10.0) (0.11.0)\n",
            "Requirement already satisfied: fonttools>=4.22.0 in c:\\users\\sumanth\\anaconda3\\lib\\site-packages (from matplotlib==3.10.0) (4.51.0)\n",
            "Requirement already satisfied: kiwisolver>=1.3.1 in c:\\users\\sumanth\\anaconda3\\lib\\site-packages (from matplotlib==3.10.0) (1.4.4)\n",
            "Requirement already satisfied: packaging>=20.0 in c:\\users\\sumanth\\appdata\\roaming\\python\\python312\\site-packages (from matplotlib==3.10.0) (24.2)\n",
            "Requirement already satisfied: pillow>=8 in c:\\users\\sumanth\\anaconda3\\lib\\site-packages (from matplotlib==3.10.0) (10.4.0)\n",
            "Requirement already satisfied: pyparsing>=2.3.1 in c:\\users\\sumanth\\anaconda3\\lib\\site-packages (from matplotlib==3.10.0) (3.1.2)\n",
            "Requirement already satisfied: six>=1.5 in c:\\users\\sumanth\\appdata\\roaming\\python\\python312\\site-packages (from python-dateutil>=2.8.2->pandas==2.2.2) (1.17.0)\n",
            "Note: you may need to restart the kernel to use updated packages.\n"
          ]
        }
      ],
      "source": [
        "# numpy version: 1.26.4\n",
        "# pandas version: 2.2.2\n",
        "# matplotlib version: 3.10.0\n",
        "# seaborn version: 0.13.2\n",
        "%pip install numpy==1.26.4 pandas==2.2.2 seaborn==0.13.2 matplotlib==3.10.0"
      ]
    },
    {
      "cell_type": "markdown",
      "metadata": {
        "id": "Kw-WRzBfyS7j"
      },
      "source": [
        "## **1** Data Preparation\n",
        "\n",
        "<font color = red>[5 marks]</font> <br>"
      ]
    },
    {
      "cell_type": "markdown",
      "metadata": {
        "id": "nM2X-s6lycvQ"
      },
      "source": [
        "### Import Libraries"
      ]
    },
    {
      "cell_type": "code",
      "execution_count": 160,
      "metadata": {
        "id": "juReqsAzEdW3"
      },
      "outputs": [],
      "source": [
        "# Import warnings\n",
        "import warnings\n"
      ]
    },
    {
      "cell_type": "code",
      "execution_count": 161,
      "metadata": {
        "id": "3XZjOlJiy1dr"
      },
      "outputs": [],
      "source": [
        "# Import the libraries you will be using for analysis\n",
        "\n",
        "import numpy as np\n",
        "import pandas as pd\n",
        "import matplotlib.pyplot as plt\n",
        "import seaborn as sns\n",
        "\n"
      ]
    },
    {
      "cell_type": "code",
      "execution_count": 162,
      "metadata": {
        "id": "NsH5LNrSgW9q",
        "colab": {
          "base_uri": "https://localhost:8080/"
        },
        "outputId": "2ed13bf1-fb2d-492a-b919-557695c22be6"
      },
      "outputs": [
        {
          "output_type": "stream",
          "name": "stdout",
          "text": [
            "numpy version: 2.0.2\n",
            "pandas version: 2.2.2\n",
            "matplotlib version: 3.10.0\n",
            "seaborn version: 0.13.2\n"
          ]
        }
      ],
      "source": [
        "# Recommended versions\n",
        "# numpy version: 1.26.4\n",
        "# pandas version: 2.2.2\n",
        "# matplotlib version: 3.10.0\n",
        "# seaborn version: 0.13.2\n",
        "\n",
        "# Check versions\n",
        "print(\"numpy version:\", np.__version__)\n",
        "print(\"pandas version:\", pd.__version__)\n",
        "print(\"matplotlib version:\", plt.matplotlib.__version__)\n",
        "print(\"seaborn version:\", sns.__version__)"
      ]
    },
    {
      "cell_type": "markdown",
      "metadata": {
        "id": "NgHgbPIepaYl"
      },
      "source": [
        "### **1.1** Load the dataset\n",
        "<font color = red>[5 marks]</font> <br>"
      ]
    },
    {
      "cell_type": "markdown",
      "metadata": {
        "id": "KrGluF_gpeHs"
      },
      "source": [
        "You will see twelve files, one for each month.\n",
        "\n",
        "To read parquet files with Pandas, you have to follow a similar syntax as that for CSV files.\n",
        "\n",
        "`df = pd.read_parquet('file.parquet')`"
      ]
    },
    {
      "cell_type": "code",
      "execution_count": 218,
      "metadata": {
        "id": "kIpIsuSSzCp9",
        "colab": {
          "base_uri": "https://localhost:8080/"
        },
        "outputId": "8494f323-957c-456a-b93e-d920ab3bd8d8"
      },
      "outputs": [
        {
          "output_type": "stream",
          "name": "stdout",
          "text": [
            "Drive already mounted at /content/drive; to attempt to forcibly remount, call drive.mount(\"/content/drive\", force_remount=True).\n",
            "<class 'pandas.core.frame.DataFrame'>\n",
            "RangeIndex: 3066766 entries, 0 to 3066765\n",
            "Data columns (total 19 columns):\n",
            " #   Column                 Dtype         \n",
            "---  ------                 -----         \n",
            " 0   VendorID               int64         \n",
            " 1   tpep_pickup_datetime   datetime64[us]\n",
            " 2   tpep_dropoff_datetime  datetime64[us]\n",
            " 3   passenger_count        float64       \n",
            " 4   trip_distance          float64       \n",
            " 5   RatecodeID             float64       \n",
            " 6   store_and_fwd_flag     object        \n",
            " 7   PULocationID           int64         \n",
            " 8   DOLocationID           int64         \n",
            " 9   payment_type           int64         \n",
            " 10  fare_amount            float64       \n",
            " 11  extra                  float64       \n",
            " 12  mta_tax                float64       \n",
            " 13  tip_amount             float64       \n",
            " 14  tolls_amount           float64       \n",
            " 15  improvement_surcharge  float64       \n",
            " 16  total_amount           float64       \n",
            " 17  congestion_surcharge   float64       \n",
            " 18  airport_fee            float64       \n",
            "dtypes: datetime64[us](2), float64(12), int64(4), object(1)\n",
            "memory usage: 444.6+ MB\n"
          ]
        }
      ],
      "source": [
        "# Try loading one file\n",
        "\n",
        "from google.colab import drive\n",
        "drive.mount('/content/drive')\n",
        "\n",
        "df= pd.read_parquet('/content/drive/MyDrive/data_files/yellow_tripdata_2023-01.parquet')\n",
        "df.info()"
      ]
    },
    {
      "cell_type": "markdown",
      "metadata": {
        "id": "eh-keWIyqcyr"
      },
      "source": [
        "How many rows are there? Do you think handling such a large number of rows is computationally feasible when we have to combine the data for all twelve months into one?\n",
        "\n",
        "To handle this, we need to sample a fraction of data from each of the files. How to go about that? Think of a way to select only some portion of the data from each month's file that accurately represents the trends."
      ]
    },
    {
      "cell_type": "markdown",
      "metadata": {
        "id": "zHx7lh_3QGmj"
      },
      "source": [
        "#### Sampling the Data\n",
        "> One way is to take a small percentage of entries for pickup in every hour of a date. So, for all the days in a month, we can iterate through the hours and select 5% values randomly from those. Use `tpep_pickup_datetime` for this. Separate date and hour from the datetime values and then for each date, select some fraction of trips for each of the 24 hours.\n",
        "\n",
        "To sample data, you can use the `sample()` method. Follow this syntax:\n",
        "\n",
        "```Python\n",
        "# sampled_data is an empty DF to keep appending sampled data of each hour\n",
        "# hour_data is the DF of entries for an hour 'X' on a date 'Y'\n",
        "\n",
        "sample = hour_data.sample(frac = 0.05, random_state = 42)\n",
        "# sample 0.05 of the hour_data\n",
        "# random_state is just a seed for sampling, you can define it yourself\n",
        "\n",
        "sampled_data = pd.concat([sampled_data, sample]) # adding data for this hour to the DF\n",
        "```\n",
        "\n",
        "This *sampled_data* will contain 5% values selected at random from each hour.\n",
        "\n",
        "Note that the code given above is only the part that will be used for sampling and not the complete code required for sampling and combining the data files.\n",
        "\n",
        "Keep in mind that you sample by date AND hour, not just hour. (Why?)"
      ]
    },
    {
      "cell_type": "markdown",
      "metadata": {
        "id": "3zog80nsqvKp"
      },
      "source": [
        "---"
      ]
    },
    {
      "cell_type": "markdown",
      "metadata": {
        "id": "Fp24-wpQrlC5"
      },
      "source": [
        "**1.1.1** <font color = red>[5 marks]</font> <br>\n",
        "Figure out how to sample and combine the files."
      ]
    },
    {
      "cell_type": "markdown",
      "metadata": {
        "id": "vRGOnciGOvq0"
      },
      "source": [
        "**Note:** It is not mandatory to use the method specified above. While sampling, you only need to make sure that your sampled data represents the overall data of all the months accurately."
      ]
    },
    {
      "cell_type": "code",
      "execution_count": 219,
      "metadata": {
        "id": "3cpuzPFvP2iC"
      },
      "outputs": [],
      "source": [
        "# Sample the data\n",
        "# It is recommmended to not load all the files at once to avoid memory overload"
      ]
    },
    {
      "cell_type": "code",
      "execution_count": 219,
      "metadata": {
        "id": "h3x5bCWmarTO"
      },
      "outputs": [],
      "source": []
    },
    {
      "cell_type": "code",
      "execution_count": 219,
      "metadata": {
        "id": "t1EXP0PHzPs0"
      },
      "outputs": [],
      "source": []
    },
    {
      "cell_type": "code",
      "execution_count": 229,
      "metadata": {
        "colab": {
          "base_uri": "https://localhost:8080/"
        },
        "outputId": "8043453f-bb69-4d78-fee0-05c5584a697f",
        "id": "qKNYMfDEqQ5G"
      },
      "outputs": [
        {
          "output_type": "stream",
          "name": "stderr",
          "text": [
            "<ipython-input-229-c64d31029aa7>:36: DeprecationWarning: DataFrameGroupBy.apply operated on the grouping columns. This behavior is deprecated, and in a future version of pandas the grouping columns will be excluded from the operation. Either pass `include_groups=False` to exclude the groupings or explicitly select the grouping columns after groupby to silence this warning.\n",
            "  .apply(lambda x: x.sample(frac=sample_fraction, random_state=42))\n",
            "<ipython-input-229-c64d31029aa7>:36: DeprecationWarning: DataFrameGroupBy.apply operated on the grouping columns. This behavior is deprecated, and in a future version of pandas the grouping columns will be excluded from the operation. Either pass `include_groups=False` to exclude the groupings or explicitly select the grouping columns after groupby to silence this warning.\n",
            "  .apply(lambda x: x.sample(frac=sample_fraction, random_state=42))\n",
            "<ipython-input-229-c64d31029aa7>:36: DeprecationWarning: DataFrameGroupBy.apply operated on the grouping columns. This behavior is deprecated, and in a future version of pandas the grouping columns will be excluded from the operation. Either pass `include_groups=False` to exclude the groupings or explicitly select the grouping columns after groupby to silence this warning.\n",
            "  .apply(lambda x: x.sample(frac=sample_fraction, random_state=42))\n",
            "<ipython-input-229-c64d31029aa7>:36: DeprecationWarning: DataFrameGroupBy.apply operated on the grouping columns. This behavior is deprecated, and in a future version of pandas the grouping columns will be excluded from the operation. Either pass `include_groups=False` to exclude the groupings or explicitly select the grouping columns after groupby to silence this warning.\n",
            "  .apply(lambda x: x.sample(frac=sample_fraction, random_state=42))\n",
            "<ipython-input-229-c64d31029aa7>:36: DeprecationWarning: DataFrameGroupBy.apply operated on the grouping columns. This behavior is deprecated, and in a future version of pandas the grouping columns will be excluded from the operation. Either pass `include_groups=False` to exclude the groupings or explicitly select the grouping columns after groupby to silence this warning.\n",
            "  .apply(lambda x: x.sample(frac=sample_fraction, random_state=42))\n",
            "<ipython-input-229-c64d31029aa7>:36: DeprecationWarning: DataFrameGroupBy.apply operated on the grouping columns. This behavior is deprecated, and in a future version of pandas the grouping columns will be excluded from the operation. Either pass `include_groups=False` to exclude the groupings or explicitly select the grouping columns after groupby to silence this warning.\n",
            "  .apply(lambda x: x.sample(frac=sample_fraction, random_state=42))\n",
            "<ipython-input-229-c64d31029aa7>:36: DeprecationWarning: DataFrameGroupBy.apply operated on the grouping columns. This behavior is deprecated, and in a future version of pandas the grouping columns will be excluded from the operation. Either pass `include_groups=False` to exclude the groupings or explicitly select the grouping columns after groupby to silence this warning.\n",
            "  .apply(lambda x: x.sample(frac=sample_fraction, random_state=42))\n",
            "<ipython-input-229-c64d31029aa7>:36: DeprecationWarning: DataFrameGroupBy.apply operated on the grouping columns. This behavior is deprecated, and in a future version of pandas the grouping columns will be excluded from the operation. Either pass `include_groups=False` to exclude the groupings or explicitly select the grouping columns after groupby to silence this warning.\n",
            "  .apply(lambda x: x.sample(frac=sample_fraction, random_state=42))\n",
            "<ipython-input-229-c64d31029aa7>:36: DeprecationWarning: DataFrameGroupBy.apply operated on the grouping columns. This behavior is deprecated, and in a future version of pandas the grouping columns will be excluded from the operation. Either pass `include_groups=False` to exclude the groupings or explicitly select the grouping columns after groupby to silence this warning.\n",
            "  .apply(lambda x: x.sample(frac=sample_fraction, random_state=42))\n",
            "<ipython-input-229-c64d31029aa7>:36: DeprecationWarning: DataFrameGroupBy.apply operated on the grouping columns. This behavior is deprecated, and in a future version of pandas the grouping columns will be excluded from the operation. Either pass `include_groups=False` to exclude the groupings or explicitly select the grouping columns after groupby to silence this warning.\n",
            "  .apply(lambda x: x.sample(frac=sample_fraction, random_state=42))\n",
            "<ipython-input-229-c64d31029aa7>:36: DeprecationWarning: DataFrameGroupBy.apply operated on the grouping columns. This behavior is deprecated, and in a future version of pandas the grouping columns will be excluded from the operation. Either pass `include_groups=False` to exclude the groupings or explicitly select the grouping columns after groupby to silence this warning.\n",
            "  .apply(lambda x: x.sample(frac=sample_fraction, random_state=42))\n"
          ]
        },
        {
          "output_type": "stream",
          "name": "stdout",
          "text": [
            "Error reading file Taxi_data.csv: Could not open Parquet input source '<Buffer>': Parquet magic bytes not found in footer. Either the file is corrupted or this is not a parquet file.\n"
          ]
        },
        {
          "output_type": "stream",
          "name": "stderr",
          "text": [
            "<ipython-input-229-c64d31029aa7>:36: DeprecationWarning: DataFrameGroupBy.apply operated on the grouping columns. This behavior is deprecated, and in a future version of pandas the grouping columns will be excluded from the operation. Either pass `include_groups=False` to exclude the groupings or explicitly select the grouping columns after groupby to silence this warning.\n",
            "  .apply(lambda x: x.sample(frac=sample_fraction, random_state=42))\n"
          ]
        }
      ],
      "source": [
        "# Take a small percentage of entries from each hour of every date.\n",
        "# Iterating through the monthly data:\n",
        "#   read a month file -> day -> hour: append sampled data -> move to next hour -> move to next day after 24 hours -> move to next month file\n",
        "# Create a single dataframe for the year combining all the monthly data\n",
        "\n",
        "# Select the folder having data files\n",
        "import os\n",
        "\n",
        "# Select the folder having data files\n",
        "os.chdir('/content/drive/MyDrive/data_files')\n",
        "\n",
        "# Create a list of all the twelve files to read\n",
        "file_list = os.listdir()\n",
        "\n",
        "# initialise an empty dataframe\n",
        "df = pd.DataFrame()\n",
        "sample_fraction = 0.007\n",
        "\n",
        "# iterate through the list of files and sample one by one:\n",
        "for file_name in file_list:\n",
        "    try:\n",
        "        # file path for the current file\n",
        "        file_path = os.path.join(os.getcwd(), file_name)\n",
        "\n",
        "        # Reading the current file\n",
        "        df_each = pd.read_parquet(file_path)\n",
        "        df_each['date'] = df_each['tpep_pickup_datetime'].dt.date\n",
        "        df_each['hour'] = df_each['tpep_pickup_datetime'].dt.hour\n",
        "\n",
        "        # We will store the sampled data for the current date in this df by appending the sampled data from each hour to this\n",
        "        # After completing iteration through each date, we will append this data to the final dataframe.\n",
        "        sampled_data = pd.DataFrame()\n",
        "\n",
        "        sampled = (\n",
        "          df_each.groupby(['date', 'hour'], group_keys=False)\n",
        "          .apply(lambda x: x.sample(frac=sample_fraction, random_state=42))\n",
        "        )\n",
        "\n",
        "        df = pd.concat([df, sampled])\n",
        "    except Exception as e:\n",
        "        print(f\"Error reading file {file_name}: {e}\")"
      ]
    },
    {
      "cell_type": "markdown",
      "metadata": {
        "id": "Sej6pZkzw2AK"
      },
      "source": [
        "After combining the data files into one DataFrame, convert the new DataFrame to a CSV or parquet file and store it to use directly.\n",
        "\n",
        "Ideally, you can try keeping the total entries to around 250,000 to 300,000."
      ]
    },
    {
      "cell_type": "code",
      "execution_count": 230,
      "metadata": {
        "id": "okaVAsdPxJow"
      },
      "outputs": [],
      "source": [
        "# Store the df in csv/parquet\n",
        "# df.to_parquet('')\n",
        "df.to_csv('Taxi_data.csv')\n"
      ]
    },
    {
      "cell_type": "markdown",
      "metadata": {
        "id": "QaOS3H9izZ0N"
      },
      "source": [
        "## **2** Data Cleaning\n",
        "<font color = red>[30 marks]</font> <br>"
      ]
    },
    {
      "cell_type": "markdown",
      "metadata": {
        "id": "5y3PKWqhxRA9"
      },
      "source": [
        "Now we can load the new data directly."
      ]
    },
    {
      "cell_type": "code",
      "execution_count": 231,
      "metadata": {
        "id": "FOuOL0SDxQHd"
      },
      "outputs": [],
      "source": [
        "# Load the new data file\n",
        "\n",
        "df= pd.read_csv('Taxi_data.csv')"
      ]
    },
    {
      "cell_type": "code",
      "execution_count": 232,
      "metadata": {
        "id": "fbzmFKyn1780",
        "colab": {
          "base_uri": "https://localhost:8080/",
          "height": 359
        },
        "outputId": "0233a760-7c13-4a45-d51e-8474dcdabbba"
      },
      "outputs": [
        {
          "output_type": "execute_result",
          "data": {
            "text/plain": [
              "   Unnamed: 0  VendorID tpep_pickup_datetime tpep_dropoff_datetime  \\\n",
              "0        1164         2  2023-01-01 00:10:30   2023-01-01 00:11:49   \n",
              "1        1868         2  2023-01-01 00:49:02   2023-01-01 00:55:15   \n",
              "2        3106         1  2023-01-01 00:47:17   2023-01-01 01:07:01   \n",
              "3         808         2  2023-01-01 00:06:02   2023-01-01 00:31:38   \n",
              "4         169         2  2023-01-01 00:02:19   2023-01-01 00:30:49   \n",
              "\n",
              "   passenger_count  trip_distance  RatecodeID store_and_fwd_flag  \\\n",
              "0              1.0           0.49         1.0                  N   \n",
              "1              1.0           0.75         1.0                  N   \n",
              "2              2.0           2.90         1.0                  N   \n",
              "3              1.0           2.50         1.0                  N   \n",
              "4              1.0          20.37         2.0                  N   \n",
              "\n",
              "   PULocationID  DOLocationID  ...  mta_tax  tip_amount  tolls_amount  \\\n",
              "0           239           238  ...      0.5        1.88          0.00   \n",
              "1            45           148  ...      0.5        0.00          0.00   \n",
              "2           142           170  ...      0.5        4.80          0.00   \n",
              "3            43           161  ...      0.5        7.25          0.00   \n",
              "4           132           140  ...      0.5       12.00          6.55   \n",
              "\n",
              "   improvement_surcharge  total_amount  congestion_surcharge  airport_fee  \\\n",
              "0                    1.0         11.28                   2.5          0.0   \n",
              "1                    1.0         12.90                   2.5          0.0   \n",
              "2                    1.0         28.90                   2.5          0.0   \n",
              "3                    1.0         36.25                   2.5          0.0   \n",
              "4                    1.0         92.55                   2.5          0.0   \n",
              "\n",
              "         date  hour  Airport_fee  \n",
              "0  2023-01-01     0          NaN  \n",
              "1  2023-01-01     0          NaN  \n",
              "2  2023-01-01     0          NaN  \n",
              "3  2023-01-01     0          NaN  \n",
              "4  2023-01-01     0          NaN  \n",
              "\n",
              "[5 rows x 23 columns]"
            ],
            "text/html": [
              "\n",
              "  <div id=\"df-8cd0f41d-eda9-49ce-a643-df26e16929d1\" class=\"colab-df-container\">\n",
              "    <div>\n",
              "<style scoped>\n",
              "    .dataframe tbody tr th:only-of-type {\n",
              "        vertical-align: middle;\n",
              "    }\n",
              "\n",
              "    .dataframe tbody tr th {\n",
              "        vertical-align: top;\n",
              "    }\n",
              "\n",
              "    .dataframe thead th {\n",
              "        text-align: right;\n",
              "    }\n",
              "</style>\n",
              "<table border=\"1\" class=\"dataframe\">\n",
              "  <thead>\n",
              "    <tr style=\"text-align: right;\">\n",
              "      <th></th>\n",
              "      <th>Unnamed: 0</th>\n",
              "      <th>VendorID</th>\n",
              "      <th>tpep_pickup_datetime</th>\n",
              "      <th>tpep_dropoff_datetime</th>\n",
              "      <th>passenger_count</th>\n",
              "      <th>trip_distance</th>\n",
              "      <th>RatecodeID</th>\n",
              "      <th>store_and_fwd_flag</th>\n",
              "      <th>PULocationID</th>\n",
              "      <th>DOLocationID</th>\n",
              "      <th>...</th>\n",
              "      <th>mta_tax</th>\n",
              "      <th>tip_amount</th>\n",
              "      <th>tolls_amount</th>\n",
              "      <th>improvement_surcharge</th>\n",
              "      <th>total_amount</th>\n",
              "      <th>congestion_surcharge</th>\n",
              "      <th>airport_fee</th>\n",
              "      <th>date</th>\n",
              "      <th>hour</th>\n",
              "      <th>Airport_fee</th>\n",
              "    </tr>\n",
              "  </thead>\n",
              "  <tbody>\n",
              "    <tr>\n",
              "      <th>0</th>\n",
              "      <td>1164</td>\n",
              "      <td>2</td>\n",
              "      <td>2023-01-01 00:10:30</td>\n",
              "      <td>2023-01-01 00:11:49</td>\n",
              "      <td>1.0</td>\n",
              "      <td>0.49</td>\n",
              "      <td>1.0</td>\n",
              "      <td>N</td>\n",
              "      <td>239</td>\n",
              "      <td>238</td>\n",
              "      <td>...</td>\n",
              "      <td>0.5</td>\n",
              "      <td>1.88</td>\n",
              "      <td>0.00</td>\n",
              "      <td>1.0</td>\n",
              "      <td>11.28</td>\n",
              "      <td>2.5</td>\n",
              "      <td>0.0</td>\n",
              "      <td>2023-01-01</td>\n",
              "      <td>0</td>\n",
              "      <td>NaN</td>\n",
              "    </tr>\n",
              "    <tr>\n",
              "      <th>1</th>\n",
              "      <td>1868</td>\n",
              "      <td>2</td>\n",
              "      <td>2023-01-01 00:49:02</td>\n",
              "      <td>2023-01-01 00:55:15</td>\n",
              "      <td>1.0</td>\n",
              "      <td>0.75</td>\n",
              "      <td>1.0</td>\n",
              "      <td>N</td>\n",
              "      <td>45</td>\n",
              "      <td>148</td>\n",
              "      <td>...</td>\n",
              "      <td>0.5</td>\n",
              "      <td>0.00</td>\n",
              "      <td>0.00</td>\n",
              "      <td>1.0</td>\n",
              "      <td>12.90</td>\n",
              "      <td>2.5</td>\n",
              "      <td>0.0</td>\n",
              "      <td>2023-01-01</td>\n",
              "      <td>0</td>\n",
              "      <td>NaN</td>\n",
              "    </tr>\n",
              "    <tr>\n",
              "      <th>2</th>\n",
              "      <td>3106</td>\n",
              "      <td>1</td>\n",
              "      <td>2023-01-01 00:47:17</td>\n",
              "      <td>2023-01-01 01:07:01</td>\n",
              "      <td>2.0</td>\n",
              "      <td>2.90</td>\n",
              "      <td>1.0</td>\n",
              "      <td>N</td>\n",
              "      <td>142</td>\n",
              "      <td>170</td>\n",
              "      <td>...</td>\n",
              "      <td>0.5</td>\n",
              "      <td>4.80</td>\n",
              "      <td>0.00</td>\n",
              "      <td>1.0</td>\n",
              "      <td>28.90</td>\n",
              "      <td>2.5</td>\n",
              "      <td>0.0</td>\n",
              "      <td>2023-01-01</td>\n",
              "      <td>0</td>\n",
              "      <td>NaN</td>\n",
              "    </tr>\n",
              "    <tr>\n",
              "      <th>3</th>\n",
              "      <td>808</td>\n",
              "      <td>2</td>\n",
              "      <td>2023-01-01 00:06:02</td>\n",
              "      <td>2023-01-01 00:31:38</td>\n",
              "      <td>1.0</td>\n",
              "      <td>2.50</td>\n",
              "      <td>1.0</td>\n",
              "      <td>N</td>\n",
              "      <td>43</td>\n",
              "      <td>161</td>\n",
              "      <td>...</td>\n",
              "      <td>0.5</td>\n",
              "      <td>7.25</td>\n",
              "      <td>0.00</td>\n",
              "      <td>1.0</td>\n",
              "      <td>36.25</td>\n",
              "      <td>2.5</td>\n",
              "      <td>0.0</td>\n",
              "      <td>2023-01-01</td>\n",
              "      <td>0</td>\n",
              "      <td>NaN</td>\n",
              "    </tr>\n",
              "    <tr>\n",
              "      <th>4</th>\n",
              "      <td>169</td>\n",
              "      <td>2</td>\n",
              "      <td>2023-01-01 00:02:19</td>\n",
              "      <td>2023-01-01 00:30:49</td>\n",
              "      <td>1.0</td>\n",
              "      <td>20.37</td>\n",
              "      <td>2.0</td>\n",
              "      <td>N</td>\n",
              "      <td>132</td>\n",
              "      <td>140</td>\n",
              "      <td>...</td>\n",
              "      <td>0.5</td>\n",
              "      <td>12.00</td>\n",
              "      <td>6.55</td>\n",
              "      <td>1.0</td>\n",
              "      <td>92.55</td>\n",
              "      <td>2.5</td>\n",
              "      <td>0.0</td>\n",
              "      <td>2023-01-01</td>\n",
              "      <td>0</td>\n",
              "      <td>NaN</td>\n",
              "    </tr>\n",
              "  </tbody>\n",
              "</table>\n",
              "<p>5 rows × 23 columns</p>\n",
              "</div>\n",
              "    <div class=\"colab-df-buttons\">\n",
              "\n",
              "  <div class=\"colab-df-container\">\n",
              "    <button class=\"colab-df-convert\" onclick=\"convertToInteractive('df-8cd0f41d-eda9-49ce-a643-df26e16929d1')\"\n",
              "            title=\"Convert this dataframe to an interactive table.\"\n",
              "            style=\"display:none;\">\n",
              "\n",
              "  <svg xmlns=\"http://www.w3.org/2000/svg\" height=\"24px\" viewBox=\"0 -960 960 960\">\n",
              "    <path d=\"M120-120v-720h720v720H120Zm60-500h600v-160H180v160Zm220 220h160v-160H400v160Zm0 220h160v-160H400v160ZM180-400h160v-160H180v160Zm440 0h160v-160H620v160ZM180-180h160v-160H180v160Zm440 0h160v-160H620v160Z\"/>\n",
              "  </svg>\n",
              "    </button>\n",
              "\n",
              "  <style>\n",
              "    .colab-df-container {\n",
              "      display:flex;\n",
              "      gap: 12px;\n",
              "    }\n",
              "\n",
              "    .colab-df-convert {\n",
              "      background-color: #E8F0FE;\n",
              "      border: none;\n",
              "      border-radius: 50%;\n",
              "      cursor: pointer;\n",
              "      display: none;\n",
              "      fill: #1967D2;\n",
              "      height: 32px;\n",
              "      padding: 0 0 0 0;\n",
              "      width: 32px;\n",
              "    }\n",
              "\n",
              "    .colab-df-convert:hover {\n",
              "      background-color: #E2EBFA;\n",
              "      box-shadow: 0px 1px 2px rgba(60, 64, 67, 0.3), 0px 1px 3px 1px rgba(60, 64, 67, 0.15);\n",
              "      fill: #174EA6;\n",
              "    }\n",
              "\n",
              "    .colab-df-buttons div {\n",
              "      margin-bottom: 4px;\n",
              "    }\n",
              "\n",
              "    [theme=dark] .colab-df-convert {\n",
              "      background-color: #3B4455;\n",
              "      fill: #D2E3FC;\n",
              "    }\n",
              "\n",
              "    [theme=dark] .colab-df-convert:hover {\n",
              "      background-color: #434B5C;\n",
              "      box-shadow: 0px 1px 3px 1px rgba(0, 0, 0, 0.15);\n",
              "      filter: drop-shadow(0px 1px 2px rgba(0, 0, 0, 0.3));\n",
              "      fill: #FFFFFF;\n",
              "    }\n",
              "  </style>\n",
              "\n",
              "    <script>\n",
              "      const buttonEl =\n",
              "        document.querySelector('#df-8cd0f41d-eda9-49ce-a643-df26e16929d1 button.colab-df-convert');\n",
              "      buttonEl.style.display =\n",
              "        google.colab.kernel.accessAllowed ? 'block' : 'none';\n",
              "\n",
              "      async function convertToInteractive(key) {\n",
              "        const element = document.querySelector('#df-8cd0f41d-eda9-49ce-a643-df26e16929d1');\n",
              "        const dataTable =\n",
              "          await google.colab.kernel.invokeFunction('convertToInteractive',\n",
              "                                                    [key], {});\n",
              "        if (!dataTable) return;\n",
              "\n",
              "        const docLinkHtml = 'Like what you see? Visit the ' +\n",
              "          '<a target=\"_blank\" href=https://colab.research.google.com/notebooks/data_table.ipynb>data table notebook</a>'\n",
              "          + ' to learn more about interactive tables.';\n",
              "        element.innerHTML = '';\n",
              "        dataTable['output_type'] = 'display_data';\n",
              "        await google.colab.output.renderOutput(dataTable, element);\n",
              "        const docLink = document.createElement('div');\n",
              "        docLink.innerHTML = docLinkHtml;\n",
              "        element.appendChild(docLink);\n",
              "      }\n",
              "    </script>\n",
              "  </div>\n",
              "\n",
              "\n",
              "    <div id=\"df-db07df34-59d6-4b8c-a33a-7767bec5d812\">\n",
              "      <button class=\"colab-df-quickchart\" onclick=\"quickchart('df-db07df34-59d6-4b8c-a33a-7767bec5d812')\"\n",
              "                title=\"Suggest charts\"\n",
              "                style=\"display:none;\">\n",
              "\n",
              "<svg xmlns=\"http://www.w3.org/2000/svg\" height=\"24px\"viewBox=\"0 0 24 24\"\n",
              "     width=\"24px\">\n",
              "    <g>\n",
              "        <path d=\"M19 3H5c-1.1 0-2 .9-2 2v14c0 1.1.9 2 2 2h14c1.1 0 2-.9 2-2V5c0-1.1-.9-2-2-2zM9 17H7v-7h2v7zm4 0h-2V7h2v10zm4 0h-2v-4h2v4z\"/>\n",
              "    </g>\n",
              "</svg>\n",
              "      </button>\n",
              "\n",
              "<style>\n",
              "  .colab-df-quickchart {\n",
              "      --bg-color: #E8F0FE;\n",
              "      --fill-color: #1967D2;\n",
              "      --hover-bg-color: #E2EBFA;\n",
              "      --hover-fill-color: #174EA6;\n",
              "      --disabled-fill-color: #AAA;\n",
              "      --disabled-bg-color: #DDD;\n",
              "  }\n",
              "\n",
              "  [theme=dark] .colab-df-quickchart {\n",
              "      --bg-color: #3B4455;\n",
              "      --fill-color: #D2E3FC;\n",
              "      --hover-bg-color: #434B5C;\n",
              "      --hover-fill-color: #FFFFFF;\n",
              "      --disabled-bg-color: #3B4455;\n",
              "      --disabled-fill-color: #666;\n",
              "  }\n",
              "\n",
              "  .colab-df-quickchart {\n",
              "    background-color: var(--bg-color);\n",
              "    border: none;\n",
              "    border-radius: 50%;\n",
              "    cursor: pointer;\n",
              "    display: none;\n",
              "    fill: var(--fill-color);\n",
              "    height: 32px;\n",
              "    padding: 0;\n",
              "    width: 32px;\n",
              "  }\n",
              "\n",
              "  .colab-df-quickchart:hover {\n",
              "    background-color: var(--hover-bg-color);\n",
              "    box-shadow: 0 1px 2px rgba(60, 64, 67, 0.3), 0 1px 3px 1px rgba(60, 64, 67, 0.15);\n",
              "    fill: var(--button-hover-fill-color);\n",
              "  }\n",
              "\n",
              "  .colab-df-quickchart-complete:disabled,\n",
              "  .colab-df-quickchart-complete:disabled:hover {\n",
              "    background-color: var(--disabled-bg-color);\n",
              "    fill: var(--disabled-fill-color);\n",
              "    box-shadow: none;\n",
              "  }\n",
              "\n",
              "  .colab-df-spinner {\n",
              "    border: 2px solid var(--fill-color);\n",
              "    border-color: transparent;\n",
              "    border-bottom-color: var(--fill-color);\n",
              "    animation:\n",
              "      spin 1s steps(1) infinite;\n",
              "  }\n",
              "\n",
              "  @keyframes spin {\n",
              "    0% {\n",
              "      border-color: transparent;\n",
              "      border-bottom-color: var(--fill-color);\n",
              "      border-left-color: var(--fill-color);\n",
              "    }\n",
              "    20% {\n",
              "      border-color: transparent;\n",
              "      border-left-color: var(--fill-color);\n",
              "      border-top-color: var(--fill-color);\n",
              "    }\n",
              "    30% {\n",
              "      border-color: transparent;\n",
              "      border-left-color: var(--fill-color);\n",
              "      border-top-color: var(--fill-color);\n",
              "      border-right-color: var(--fill-color);\n",
              "    }\n",
              "    40% {\n",
              "      border-color: transparent;\n",
              "      border-right-color: var(--fill-color);\n",
              "      border-top-color: var(--fill-color);\n",
              "    }\n",
              "    60% {\n",
              "      border-color: transparent;\n",
              "      border-right-color: var(--fill-color);\n",
              "    }\n",
              "    80% {\n",
              "      border-color: transparent;\n",
              "      border-right-color: var(--fill-color);\n",
              "      border-bottom-color: var(--fill-color);\n",
              "    }\n",
              "    90% {\n",
              "      border-color: transparent;\n",
              "      border-bottom-color: var(--fill-color);\n",
              "    }\n",
              "  }\n",
              "</style>\n",
              "\n",
              "      <script>\n",
              "        async function quickchart(key) {\n",
              "          const quickchartButtonEl =\n",
              "            document.querySelector('#' + key + ' button');\n",
              "          quickchartButtonEl.disabled = true;  // To prevent multiple clicks.\n",
              "          quickchartButtonEl.classList.add('colab-df-spinner');\n",
              "          try {\n",
              "            const charts = await google.colab.kernel.invokeFunction(\n",
              "                'suggestCharts', [key], {});\n",
              "          } catch (error) {\n",
              "            console.error('Error during call to suggestCharts:', error);\n",
              "          }\n",
              "          quickchartButtonEl.classList.remove('colab-df-spinner');\n",
              "          quickchartButtonEl.classList.add('colab-df-quickchart-complete');\n",
              "        }\n",
              "        (() => {\n",
              "          let quickchartButtonEl =\n",
              "            document.querySelector('#df-db07df34-59d6-4b8c-a33a-7767bec5d812 button');\n",
              "          quickchartButtonEl.style.display =\n",
              "            google.colab.kernel.accessAllowed ? 'block' : 'none';\n",
              "        })();\n",
              "      </script>\n",
              "    </div>\n",
              "\n",
              "    </div>\n",
              "  </div>\n"
            ],
            "application/vnd.google.colaboratory.intrinsic+json": {
              "type": "dataframe",
              "variable_name": "df"
            }
          },
          "metadata": {},
          "execution_count": 232
        }
      ],
      "source": [
        "# df.head()\n",
        "df.head()"
      ]
    },
    {
      "cell_type": "code",
      "execution_count": 233,
      "metadata": {
        "id": "FH83U4A49ErC",
        "colab": {
          "base_uri": "https://localhost:8080/"
        },
        "outputId": "df647de8-6966-47c8-d410-a309830b376b"
      },
      "outputs": [
        {
          "output_type": "stream",
          "name": "stdout",
          "text": [
            "<class 'pandas.core.frame.DataFrame'>\n",
            "RangeIndex: 268150 entries, 0 to 268149\n",
            "Data columns (total 23 columns):\n",
            " #   Column                 Non-Null Count   Dtype  \n",
            "---  ------                 --------------   -----  \n",
            " 0   Unnamed: 0             268150 non-null  int64  \n",
            " 1   VendorID               268150 non-null  int64  \n",
            " 2   tpep_pickup_datetime   268150 non-null  object \n",
            " 3   tpep_dropoff_datetime  268150 non-null  object \n",
            " 4   passenger_count        259263 non-null  float64\n",
            " 5   trip_distance          268150 non-null  float64\n",
            " 6   RatecodeID             259263 non-null  float64\n",
            " 7   store_and_fwd_flag     259263 non-null  object \n",
            " 8   PULocationID           268150 non-null  int64  \n",
            " 9   DOLocationID           268150 non-null  int64  \n",
            " 10  payment_type           268150 non-null  int64  \n",
            " 11  fare_amount            268150 non-null  float64\n",
            " 12  extra                  268150 non-null  float64\n",
            " 13  mta_tax                268150 non-null  float64\n",
            " 14  tip_amount             268150 non-null  float64\n",
            " 15  tolls_amount           268150 non-null  float64\n",
            " 16  improvement_surcharge  268150 non-null  float64\n",
            " 17  total_amount           268150 non-null  float64\n",
            " 18  congestion_surcharge   259263 non-null  float64\n",
            " 19  airport_fee            20975 non-null   float64\n",
            " 20  date                   268150 non-null  object \n",
            " 21  hour                   268150 non-null  int64  \n",
            " 22  Airport_fee            238288 non-null  float64\n",
            "dtypes: float64(13), int64(6), object(4)\n",
            "memory usage: 47.1+ MB\n"
          ]
        }
      ],
      "source": [
        "# df.info()\n",
        "df.info()\n",
        "\n",
        "\n"
      ]
    },
    {
      "cell_type": "code",
      "source": [
        "df.describe()\n"
      ],
      "metadata": {
        "colab": {
          "base_uri": "https://localhost:8080/",
          "height": 320
        },
        "id": "M4oUokNazplT",
        "outputId": "b5078775-959e-473c-e1f8-861bc9a2d32a"
      },
      "execution_count": 234,
      "outputs": [
        {
          "output_type": "execute_result",
          "data": {
            "text/plain": [
              "         Unnamed: 0       VendorID  passenger_count  trip_distance  \\\n",
              "count  2.681500e+05  268150.000000    259263.000000  268150.000000   \n",
              "mean   1.604426e+06       1.736804         1.371152       4.349966   \n",
              "std    9.373572e+05       0.444583         0.892247     266.246479   \n",
              "min    1.400000e+01       1.000000         0.000000       0.000000   \n",
              "25%    7.971672e+05       1.000000         1.000000       1.040000   \n",
              "50%    1.594866e+06       2.000000         1.000000       1.780000   \n",
              "75%    2.391461e+06       2.000000         1.000000       3.400000   \n",
              "max    3.522222e+06       6.000000         8.000000  116439.710000   \n",
              "\n",
              "          RatecodeID   PULocationID   DOLocationID   payment_type  \\\n",
              "count  259263.000000  268150.000000  268150.000000  268150.000000   \n",
              "mean        1.630090     165.026459     163.957505       1.186705   \n",
              "std         7.353466      64.086976      69.831952       0.556279   \n",
              "min         1.000000       1.000000       1.000000       0.000000   \n",
              "25%         1.000000     132.000000     114.000000       1.000000   \n",
              "50%         1.000000     162.000000     162.000000       1.000000   \n",
              "75%         1.000000     234.000000     234.000000       1.000000   \n",
              "max        99.000000     265.000000     265.000000       4.000000   \n",
              "\n",
              "         fare_amount          extra        mta_tax     tip_amount  \\\n",
              "count  268150.000000  268150.000000  268150.000000  268150.000000   \n",
              "mean       19.464329       1.560645       0.485588       3.514942   \n",
              "std        18.996295       1.843220       0.108607       4.112804   \n",
              "min      -525.200000      -7.500000      -0.500000    -411.000000   \n",
              "25%         9.300000       0.000000       0.500000       1.000000   \n",
              "50%        13.500000       1.000000       0.500000       2.800000   \n",
              "75%        21.900000       2.500000       0.500000       4.400000   \n",
              "max       715.600000      11.750000       0.800000     126.350000   \n",
              "\n",
              "        tolls_amount  improvement_surcharge   total_amount  \\\n",
              "count  268150.000000          268150.000000  268150.000000   \n",
              "mean        0.585036               0.979394      28.388632   \n",
              "std         2.174314               0.199302      23.687554   \n",
              "min       -42.000000              -1.000000    -505.950000   \n",
              "25%         0.000000               1.000000      15.900000   \n",
              "50%         0.000000               1.000000      21.000000   \n",
              "75%         0.000000               1.000000      30.720000   \n",
              "max        72.000000               1.000000     724.150000   \n",
              "\n",
              "       congestion_surcharge   airport_fee           hour    Airport_fee  \n",
              "count         259263.000000  20975.000000  268150.000000  238288.000000  \n",
              "mean               2.264197      0.111204      14.261626       0.141202  \n",
              "std                0.797480      0.361067       5.813194       0.474563  \n",
              "min               -2.500000     -1.250000       0.000000      -1.750000  \n",
              "25%                2.500000      0.000000      11.000000       0.000000  \n",
              "50%                2.500000      0.000000      15.000000       0.000000  \n",
              "75%                2.500000      0.000000      19.000000       0.000000  \n",
              "max                2.500000      1.250000      23.000000       1.750000  "
            ],
            "text/html": [
              "\n",
              "  <div id=\"df-d2387dff-5ebd-4ce5-aa22-53757842890c\" class=\"colab-df-container\">\n",
              "    <div>\n",
              "<style scoped>\n",
              "    .dataframe tbody tr th:only-of-type {\n",
              "        vertical-align: middle;\n",
              "    }\n",
              "\n",
              "    .dataframe tbody tr th {\n",
              "        vertical-align: top;\n",
              "    }\n",
              "\n",
              "    .dataframe thead th {\n",
              "        text-align: right;\n",
              "    }\n",
              "</style>\n",
              "<table border=\"1\" class=\"dataframe\">\n",
              "  <thead>\n",
              "    <tr style=\"text-align: right;\">\n",
              "      <th></th>\n",
              "      <th>Unnamed: 0</th>\n",
              "      <th>VendorID</th>\n",
              "      <th>passenger_count</th>\n",
              "      <th>trip_distance</th>\n",
              "      <th>RatecodeID</th>\n",
              "      <th>PULocationID</th>\n",
              "      <th>DOLocationID</th>\n",
              "      <th>payment_type</th>\n",
              "      <th>fare_amount</th>\n",
              "      <th>extra</th>\n",
              "      <th>mta_tax</th>\n",
              "      <th>tip_amount</th>\n",
              "      <th>tolls_amount</th>\n",
              "      <th>improvement_surcharge</th>\n",
              "      <th>total_amount</th>\n",
              "      <th>congestion_surcharge</th>\n",
              "      <th>airport_fee</th>\n",
              "      <th>hour</th>\n",
              "      <th>Airport_fee</th>\n",
              "    </tr>\n",
              "  </thead>\n",
              "  <tbody>\n",
              "    <tr>\n",
              "      <th>count</th>\n",
              "      <td>2.681500e+05</td>\n",
              "      <td>268150.000000</td>\n",
              "      <td>259263.000000</td>\n",
              "      <td>268150.000000</td>\n",
              "      <td>259263.000000</td>\n",
              "      <td>268150.000000</td>\n",
              "      <td>268150.000000</td>\n",
              "      <td>268150.000000</td>\n",
              "      <td>268150.000000</td>\n",
              "      <td>268150.000000</td>\n",
              "      <td>268150.000000</td>\n",
              "      <td>268150.000000</td>\n",
              "      <td>268150.000000</td>\n",
              "      <td>268150.000000</td>\n",
              "      <td>268150.000000</td>\n",
              "      <td>259263.000000</td>\n",
              "      <td>20975.000000</td>\n",
              "      <td>268150.000000</td>\n",
              "      <td>238288.000000</td>\n",
              "    </tr>\n",
              "    <tr>\n",
              "      <th>mean</th>\n",
              "      <td>1.604426e+06</td>\n",
              "      <td>1.736804</td>\n",
              "      <td>1.371152</td>\n",
              "      <td>4.349966</td>\n",
              "      <td>1.630090</td>\n",
              "      <td>165.026459</td>\n",
              "      <td>163.957505</td>\n",
              "      <td>1.186705</td>\n",
              "      <td>19.464329</td>\n",
              "      <td>1.560645</td>\n",
              "      <td>0.485588</td>\n",
              "      <td>3.514942</td>\n",
              "      <td>0.585036</td>\n",
              "      <td>0.979394</td>\n",
              "      <td>28.388632</td>\n",
              "      <td>2.264197</td>\n",
              "      <td>0.111204</td>\n",
              "      <td>14.261626</td>\n",
              "      <td>0.141202</td>\n",
              "    </tr>\n",
              "    <tr>\n",
              "      <th>std</th>\n",
              "      <td>9.373572e+05</td>\n",
              "      <td>0.444583</td>\n",
              "      <td>0.892247</td>\n",
              "      <td>266.246479</td>\n",
              "      <td>7.353466</td>\n",
              "      <td>64.086976</td>\n",
              "      <td>69.831952</td>\n",
              "      <td>0.556279</td>\n",
              "      <td>18.996295</td>\n",
              "      <td>1.843220</td>\n",
              "      <td>0.108607</td>\n",
              "      <td>4.112804</td>\n",
              "      <td>2.174314</td>\n",
              "      <td>0.199302</td>\n",
              "      <td>23.687554</td>\n",
              "      <td>0.797480</td>\n",
              "      <td>0.361067</td>\n",
              "      <td>5.813194</td>\n",
              "      <td>0.474563</td>\n",
              "    </tr>\n",
              "    <tr>\n",
              "      <th>min</th>\n",
              "      <td>1.400000e+01</td>\n",
              "      <td>1.000000</td>\n",
              "      <td>0.000000</td>\n",
              "      <td>0.000000</td>\n",
              "      <td>1.000000</td>\n",
              "      <td>1.000000</td>\n",
              "      <td>1.000000</td>\n",
              "      <td>0.000000</td>\n",
              "      <td>-525.200000</td>\n",
              "      <td>-7.500000</td>\n",
              "      <td>-0.500000</td>\n",
              "      <td>-411.000000</td>\n",
              "      <td>-42.000000</td>\n",
              "      <td>-1.000000</td>\n",
              "      <td>-505.950000</td>\n",
              "      <td>-2.500000</td>\n",
              "      <td>-1.250000</td>\n",
              "      <td>0.000000</td>\n",
              "      <td>-1.750000</td>\n",
              "    </tr>\n",
              "    <tr>\n",
              "      <th>25%</th>\n",
              "      <td>7.971672e+05</td>\n",
              "      <td>1.000000</td>\n",
              "      <td>1.000000</td>\n",
              "      <td>1.040000</td>\n",
              "      <td>1.000000</td>\n",
              "      <td>132.000000</td>\n",
              "      <td>114.000000</td>\n",
              "      <td>1.000000</td>\n",
              "      <td>9.300000</td>\n",
              "      <td>0.000000</td>\n",
              "      <td>0.500000</td>\n",
              "      <td>1.000000</td>\n",
              "      <td>0.000000</td>\n",
              "      <td>1.000000</td>\n",
              "      <td>15.900000</td>\n",
              "      <td>2.500000</td>\n",
              "      <td>0.000000</td>\n",
              "      <td>11.000000</td>\n",
              "      <td>0.000000</td>\n",
              "    </tr>\n",
              "    <tr>\n",
              "      <th>50%</th>\n",
              "      <td>1.594866e+06</td>\n",
              "      <td>2.000000</td>\n",
              "      <td>1.000000</td>\n",
              "      <td>1.780000</td>\n",
              "      <td>1.000000</td>\n",
              "      <td>162.000000</td>\n",
              "      <td>162.000000</td>\n",
              "      <td>1.000000</td>\n",
              "      <td>13.500000</td>\n",
              "      <td>1.000000</td>\n",
              "      <td>0.500000</td>\n",
              "      <td>2.800000</td>\n",
              "      <td>0.000000</td>\n",
              "      <td>1.000000</td>\n",
              "      <td>21.000000</td>\n",
              "      <td>2.500000</td>\n",
              "      <td>0.000000</td>\n",
              "      <td>15.000000</td>\n",
              "      <td>0.000000</td>\n",
              "    </tr>\n",
              "    <tr>\n",
              "      <th>75%</th>\n",
              "      <td>2.391461e+06</td>\n",
              "      <td>2.000000</td>\n",
              "      <td>1.000000</td>\n",
              "      <td>3.400000</td>\n",
              "      <td>1.000000</td>\n",
              "      <td>234.000000</td>\n",
              "      <td>234.000000</td>\n",
              "      <td>1.000000</td>\n",
              "      <td>21.900000</td>\n",
              "      <td>2.500000</td>\n",
              "      <td>0.500000</td>\n",
              "      <td>4.400000</td>\n",
              "      <td>0.000000</td>\n",
              "      <td>1.000000</td>\n",
              "      <td>30.720000</td>\n",
              "      <td>2.500000</td>\n",
              "      <td>0.000000</td>\n",
              "      <td>19.000000</td>\n",
              "      <td>0.000000</td>\n",
              "    </tr>\n",
              "    <tr>\n",
              "      <th>max</th>\n",
              "      <td>3.522222e+06</td>\n",
              "      <td>6.000000</td>\n",
              "      <td>8.000000</td>\n",
              "      <td>116439.710000</td>\n",
              "      <td>99.000000</td>\n",
              "      <td>265.000000</td>\n",
              "      <td>265.000000</td>\n",
              "      <td>4.000000</td>\n",
              "      <td>715.600000</td>\n",
              "      <td>11.750000</td>\n",
              "      <td>0.800000</td>\n",
              "      <td>126.350000</td>\n",
              "      <td>72.000000</td>\n",
              "      <td>1.000000</td>\n",
              "      <td>724.150000</td>\n",
              "      <td>2.500000</td>\n",
              "      <td>1.250000</td>\n",
              "      <td>23.000000</td>\n",
              "      <td>1.750000</td>\n",
              "    </tr>\n",
              "  </tbody>\n",
              "</table>\n",
              "</div>\n",
              "    <div class=\"colab-df-buttons\">\n",
              "\n",
              "  <div class=\"colab-df-container\">\n",
              "    <button class=\"colab-df-convert\" onclick=\"convertToInteractive('df-d2387dff-5ebd-4ce5-aa22-53757842890c')\"\n",
              "            title=\"Convert this dataframe to an interactive table.\"\n",
              "            style=\"display:none;\">\n",
              "\n",
              "  <svg xmlns=\"http://www.w3.org/2000/svg\" height=\"24px\" viewBox=\"0 -960 960 960\">\n",
              "    <path d=\"M120-120v-720h720v720H120Zm60-500h600v-160H180v160Zm220 220h160v-160H400v160Zm0 220h160v-160H400v160ZM180-400h160v-160H180v160Zm440 0h160v-160H620v160ZM180-180h160v-160H180v160Zm440 0h160v-160H620v160Z\"/>\n",
              "  </svg>\n",
              "    </button>\n",
              "\n",
              "  <style>\n",
              "    .colab-df-container {\n",
              "      display:flex;\n",
              "      gap: 12px;\n",
              "    }\n",
              "\n",
              "    .colab-df-convert {\n",
              "      background-color: #E8F0FE;\n",
              "      border: none;\n",
              "      border-radius: 50%;\n",
              "      cursor: pointer;\n",
              "      display: none;\n",
              "      fill: #1967D2;\n",
              "      height: 32px;\n",
              "      padding: 0 0 0 0;\n",
              "      width: 32px;\n",
              "    }\n",
              "\n",
              "    .colab-df-convert:hover {\n",
              "      background-color: #E2EBFA;\n",
              "      box-shadow: 0px 1px 2px rgba(60, 64, 67, 0.3), 0px 1px 3px 1px rgba(60, 64, 67, 0.15);\n",
              "      fill: #174EA6;\n",
              "    }\n",
              "\n",
              "    .colab-df-buttons div {\n",
              "      margin-bottom: 4px;\n",
              "    }\n",
              "\n",
              "    [theme=dark] .colab-df-convert {\n",
              "      background-color: #3B4455;\n",
              "      fill: #D2E3FC;\n",
              "    }\n",
              "\n",
              "    [theme=dark] .colab-df-convert:hover {\n",
              "      background-color: #434B5C;\n",
              "      box-shadow: 0px 1px 3px 1px rgba(0, 0, 0, 0.15);\n",
              "      filter: drop-shadow(0px 1px 2px rgba(0, 0, 0, 0.3));\n",
              "      fill: #FFFFFF;\n",
              "    }\n",
              "  </style>\n",
              "\n",
              "    <script>\n",
              "      const buttonEl =\n",
              "        document.querySelector('#df-d2387dff-5ebd-4ce5-aa22-53757842890c button.colab-df-convert');\n",
              "      buttonEl.style.display =\n",
              "        google.colab.kernel.accessAllowed ? 'block' : 'none';\n",
              "\n",
              "      async function convertToInteractive(key) {\n",
              "        const element = document.querySelector('#df-d2387dff-5ebd-4ce5-aa22-53757842890c');\n",
              "        const dataTable =\n",
              "          await google.colab.kernel.invokeFunction('convertToInteractive',\n",
              "                                                    [key], {});\n",
              "        if (!dataTable) return;\n",
              "\n",
              "        const docLinkHtml = 'Like what you see? Visit the ' +\n",
              "          '<a target=\"_blank\" href=https://colab.research.google.com/notebooks/data_table.ipynb>data table notebook</a>'\n",
              "          + ' to learn more about interactive tables.';\n",
              "        element.innerHTML = '';\n",
              "        dataTable['output_type'] = 'display_data';\n",
              "        await google.colab.output.renderOutput(dataTable, element);\n",
              "        const docLink = document.createElement('div');\n",
              "        docLink.innerHTML = docLinkHtml;\n",
              "        element.appendChild(docLink);\n",
              "      }\n",
              "    </script>\n",
              "  </div>\n",
              "\n",
              "\n",
              "    <div id=\"df-bf1d58b1-0d26-4880-a10a-52f5997a2330\">\n",
              "      <button class=\"colab-df-quickchart\" onclick=\"quickchart('df-bf1d58b1-0d26-4880-a10a-52f5997a2330')\"\n",
              "                title=\"Suggest charts\"\n",
              "                style=\"display:none;\">\n",
              "\n",
              "<svg xmlns=\"http://www.w3.org/2000/svg\" height=\"24px\"viewBox=\"0 0 24 24\"\n",
              "     width=\"24px\">\n",
              "    <g>\n",
              "        <path d=\"M19 3H5c-1.1 0-2 .9-2 2v14c0 1.1.9 2 2 2h14c1.1 0 2-.9 2-2V5c0-1.1-.9-2-2-2zM9 17H7v-7h2v7zm4 0h-2V7h2v10zm4 0h-2v-4h2v4z\"/>\n",
              "    </g>\n",
              "</svg>\n",
              "      </button>\n",
              "\n",
              "<style>\n",
              "  .colab-df-quickchart {\n",
              "      --bg-color: #E8F0FE;\n",
              "      --fill-color: #1967D2;\n",
              "      --hover-bg-color: #E2EBFA;\n",
              "      --hover-fill-color: #174EA6;\n",
              "      --disabled-fill-color: #AAA;\n",
              "      --disabled-bg-color: #DDD;\n",
              "  }\n",
              "\n",
              "  [theme=dark] .colab-df-quickchart {\n",
              "      --bg-color: #3B4455;\n",
              "      --fill-color: #D2E3FC;\n",
              "      --hover-bg-color: #434B5C;\n",
              "      --hover-fill-color: #FFFFFF;\n",
              "      --disabled-bg-color: #3B4455;\n",
              "      --disabled-fill-color: #666;\n",
              "  }\n",
              "\n",
              "  .colab-df-quickchart {\n",
              "    background-color: var(--bg-color);\n",
              "    border: none;\n",
              "    border-radius: 50%;\n",
              "    cursor: pointer;\n",
              "    display: none;\n",
              "    fill: var(--fill-color);\n",
              "    height: 32px;\n",
              "    padding: 0;\n",
              "    width: 32px;\n",
              "  }\n",
              "\n",
              "  .colab-df-quickchart:hover {\n",
              "    background-color: var(--hover-bg-color);\n",
              "    box-shadow: 0 1px 2px rgba(60, 64, 67, 0.3), 0 1px 3px 1px rgba(60, 64, 67, 0.15);\n",
              "    fill: var(--button-hover-fill-color);\n",
              "  }\n",
              "\n",
              "  .colab-df-quickchart-complete:disabled,\n",
              "  .colab-df-quickchart-complete:disabled:hover {\n",
              "    background-color: var(--disabled-bg-color);\n",
              "    fill: var(--disabled-fill-color);\n",
              "    box-shadow: none;\n",
              "  }\n",
              "\n",
              "  .colab-df-spinner {\n",
              "    border: 2px solid var(--fill-color);\n",
              "    border-color: transparent;\n",
              "    border-bottom-color: var(--fill-color);\n",
              "    animation:\n",
              "      spin 1s steps(1) infinite;\n",
              "  }\n",
              "\n",
              "  @keyframes spin {\n",
              "    0% {\n",
              "      border-color: transparent;\n",
              "      border-bottom-color: var(--fill-color);\n",
              "      border-left-color: var(--fill-color);\n",
              "    }\n",
              "    20% {\n",
              "      border-color: transparent;\n",
              "      border-left-color: var(--fill-color);\n",
              "      border-top-color: var(--fill-color);\n",
              "    }\n",
              "    30% {\n",
              "      border-color: transparent;\n",
              "      border-left-color: var(--fill-color);\n",
              "      border-top-color: var(--fill-color);\n",
              "      border-right-color: var(--fill-color);\n",
              "    }\n",
              "    40% {\n",
              "      border-color: transparent;\n",
              "      border-right-color: var(--fill-color);\n",
              "      border-top-color: var(--fill-color);\n",
              "    }\n",
              "    60% {\n",
              "      border-color: transparent;\n",
              "      border-right-color: var(--fill-color);\n",
              "    }\n",
              "    80% {\n",
              "      border-color: transparent;\n",
              "      border-right-color: var(--fill-color);\n",
              "      border-bottom-color: var(--fill-color);\n",
              "    }\n",
              "    90% {\n",
              "      border-color: transparent;\n",
              "      border-bottom-color: var(--fill-color);\n",
              "    }\n",
              "  }\n",
              "</style>\n",
              "\n",
              "      <script>\n",
              "        async function quickchart(key) {\n",
              "          const quickchartButtonEl =\n",
              "            document.querySelector('#' + key + ' button');\n",
              "          quickchartButtonEl.disabled = true;  // To prevent multiple clicks.\n",
              "          quickchartButtonEl.classList.add('colab-df-spinner');\n",
              "          try {\n",
              "            const charts = await google.colab.kernel.invokeFunction(\n",
              "                'suggestCharts', [key], {});\n",
              "          } catch (error) {\n",
              "            console.error('Error during call to suggestCharts:', error);\n",
              "          }\n",
              "          quickchartButtonEl.classList.remove('colab-df-spinner');\n",
              "          quickchartButtonEl.classList.add('colab-df-quickchart-complete');\n",
              "        }\n",
              "        (() => {\n",
              "          let quickchartButtonEl =\n",
              "            document.querySelector('#df-bf1d58b1-0d26-4880-a10a-52f5997a2330 button');\n",
              "          quickchartButtonEl.style.display =\n",
              "            google.colab.kernel.accessAllowed ? 'block' : 'none';\n",
              "        })();\n",
              "      </script>\n",
              "    </div>\n",
              "\n",
              "    </div>\n",
              "  </div>\n"
            ],
            "application/vnd.google.colaboratory.intrinsic+json": {
              "type": "dataframe",
              "summary": "{\n  \"name\": \"df\",\n  \"rows\": 8,\n  \"fields\": [\n    {\n      \"column\": \"Unnamed: 0\",\n      \"properties\": {\n        \"dtype\": \"number\",\n        \"std\": 1157841.9304383097,\n        \"min\": 14.0,\n        \"max\": 3522222.0,\n        \"num_unique_values\": 8,\n        \"samples\": [\n          1604425.576416185,\n          1594866.0,\n          268150.0\n        ],\n        \"semantic_type\": \"\",\n        \"description\": \"\"\n      }\n    },\n    {\n      \"column\": \"VendorID\",\n      \"properties\": {\n        \"dtype\": \"number\",\n        \"std\": 94804.62543482122,\n        \"min\": 0.4445827770266045,\n        \"max\": 268150.0,\n        \"num_unique_values\": 6,\n        \"samples\": [\n          268150.0,\n          1.7368040275964944,\n          6.0\n        ],\n        \"semantic_type\": \"\",\n        \"description\": \"\"\n      }\n    },\n    {\n      \"column\": \"passenger_count\",\n      \"properties\": {\n        \"dtype\": \"number\",\n        \"std\": 91662.64283729921,\n        \"min\": 0.0,\n        \"max\": 259263.0,\n        \"num_unique_values\": 6,\n        \"samples\": [\n          259263.0,\n          1.3711520733772269,\n          8.0\n        ],\n        \"semantic_type\": \"\",\n        \"description\": \"\"\n      }\n    },\n    {\n      \"column\": \"trip_distance\",\n      \"properties\": {\n        \"dtype\": \"number\",\n        \"std\": 97795.28113768912,\n        \"min\": 0.0,\n        \"max\": 268150.0,\n        \"num_unique_values\": 8,\n        \"samples\": [\n          4.349966063770276,\n          1.78,\n          268150.0\n        ],\n        \"semantic_type\": \"\",\n        \"description\": \"\"\n      }\n    },\n    {\n      \"column\": \"RatecodeID\",\n      \"properties\": {\n        \"dtype\": \"number\",\n        \"std\": 91657.66297081384,\n        \"min\": 1.0,\n        \"max\": 259263.0,\n        \"num_unique_values\": 5,\n        \"samples\": [\n          1.6300899087027458,\n          99.0,\n          7.35346604781498\n        ],\n        \"semantic_type\": \"\",\n        \"description\": \"\"\n      }\n    },\n    {\n      \"column\": \"PULocationID\",\n      \"properties\": {\n        \"dtype\": \"number\",\n        \"std\": 94753.7046892419,\n        \"min\": 1.0,\n        \"max\": 268150.0,\n        \"num_unique_values\": 8,\n        \"samples\": [\n          165.02645907141525,\n          162.0,\n          268150.0\n        ],\n        \"semantic_type\": \"\",\n        \"description\": \"\"\n      }\n    },\n    {\n      \"column\": \"DOLocationID\",\n      \"properties\": {\n        \"dtype\": \"number\",\n        \"std\": 94754.37754530559,\n        \"min\": 1.0,\n        \"max\": 268150.0,\n        \"num_unique_values\": 8,\n        \"samples\": [\n          163.95750512772702,\n          162.0,\n          268150.0\n        ],\n        \"semantic_type\": \"\",\n        \"description\": \"\"\n      }\n    },\n    {\n      \"column\": \"payment_type\",\n      \"properties\": {\n        \"dtype\": \"number\",\n        \"std\": 94804.90010760141,\n        \"min\": 0.0,\n        \"max\": 268150.0,\n        \"num_unique_values\": 6,\n        \"samples\": [\n          268150.0,\n          1.1867052023121387,\n          4.0\n        ],\n        \"semantic_type\": \"\",\n        \"description\": \"\"\n      }\n    },\n    {\n      \"column\": \"fare_amount\",\n      \"properties\": {\n        \"dtype\": \"number\",\n        \"std\": 94792.11157594636,\n        \"min\": -525.2,\n        \"max\": 268150.0,\n        \"num_unique_values\": 8,\n        \"samples\": [\n          19.464329405183666,\n          13.5,\n          268150.0\n        ],\n        \"semantic_type\": \"\",\n        \"description\": \"\"\n      }\n    },\n    {\n      \"column\": \"extra\",\n      \"properties\": {\n        \"dtype\": \"number\",\n        \"std\": 94804.77847521345,\n        \"min\": -7.5,\n        \"max\": 268150.0,\n        \"num_unique_values\": 8,\n        \"samples\": [\n          1.5606446764870407,\n          1.0,\n          268150.0\n        ],\n        \"semantic_type\": \"\",\n        \"description\": \"\"\n      }\n    },\n    {\n      \"column\": \"mta_tax\",\n      \"properties\": {\n        \"dtype\": \"number\",\n        \"std\": 94805.22076326393,\n        \"min\": -0.5,\n        \"max\": 268150.0,\n        \"num_unique_values\": 6,\n        \"samples\": [\n          268150.0,\n          0.48558791721051653,\n          0.8\n        ],\n        \"semantic_type\": \"\",\n        \"description\": \"\"\n      }\n    },\n    {\n      \"column\": \"tip_amount\",\n      \"properties\": {\n        \"dtype\": \"number\",\n        \"std\": 94819.05080500976,\n        \"min\": -411.0,\n        \"max\": 268150.0,\n        \"num_unique_values\": 8,\n        \"samples\": [\n          3.5149421965317913,\n          2.8,\n          268150.0\n        ],\n        \"semantic_type\": \"\",\n        \"description\": \"\"\n      }\n    },\n    {\n      \"column\": \"tolls_amount\",\n      \"properties\": {\n        \"dtype\": \"number\",\n        \"std\": 94803.6922137409,\n        \"min\": -42.0,\n        \"max\": 268150.0,\n        \"num_unique_values\": 6,\n        \"samples\": [\n          268150.0,\n          0.5850356889800484,\n          72.0\n        ],\n        \"semantic_type\": \"\",\n        \"description\": \"\"\n      }\n    },\n    {\n      \"column\": \"improvement_surcharge\",\n      \"properties\": {\n        \"dtype\": \"number\",\n        \"std\": 94805.13063423157,\n        \"min\": -1.0,\n        \"max\": 268150.0,\n        \"num_unique_values\": 5,\n        \"samples\": [\n          0.9793939958978182,\n          1.0,\n          0.1993015142626472\n        ],\n        \"semantic_type\": \"\",\n        \"description\": \"\"\n      }\n    },\n    {\n      \"column\": \"total_amount\",\n      \"properties\": {\n        \"dtype\": \"number\",\n        \"std\": 94788.8533858016,\n        \"min\": -505.95,\n        \"max\": 268150.0,\n        \"num_unique_values\": 8,\n        \"samples\": [\n          28.38863218347939,\n          21.0,\n          268150.0\n        ],\n        \"semantic_type\": \"\",\n        \"description\": \"\"\n      }\n    },\n    {\n      \"column\": \"congestion_surcharge\",\n      \"properties\": {\n        \"dtype\": \"number\",\n        \"std\": 91662.77927654036,\n        \"min\": -2.5,\n        \"max\": 259263.0,\n        \"num_unique_values\": 5,\n        \"samples\": [\n          2.264196973729379,\n          2.5,\n          0.7974804835531\n        ],\n        \"semantic_type\": \"\",\n        \"description\": \"\"\n      }\n    },\n    {\n      \"column\": \"airport_fee\",\n      \"properties\": {\n        \"dtype\": \"number\",\n        \"std\": 7415.758545584415,\n        \"min\": -1.25,\n        \"max\": 20975.0,\n        \"num_unique_values\": 6,\n        \"samples\": [\n          20975.0,\n          0.11120381406436233,\n          1.25\n        ],\n        \"semantic_type\": \"\",\n        \"description\": \"\"\n      }\n    },\n    {\n      \"column\": \"hour\",\n      \"properties\": {\n        \"dtype\": \"number\",\n        \"std\": 94800.89351241835,\n        \"min\": 0.0,\n        \"max\": 268150.0,\n        \"num_unique_values\": 8,\n        \"samples\": [\n          14.261625955621854,\n          15.0,\n          268150.0\n        ],\n        \"semantic_type\": \"\",\n        \"description\": \"\"\n      }\n    },\n    {\n      \"column\": \"Airport_fee\",\n      \"properties\": {\n        \"dtype\": \"number\",\n        \"std\": 84247.49924219794,\n        \"min\": -1.75,\n        \"max\": 238288.0,\n        \"num_unique_values\": 6,\n        \"samples\": [\n          238288.0,\n          0.14120203283421742,\n          1.75\n        ],\n        \"semantic_type\": \"\",\n        \"description\": \"\"\n      }\n    }\n  ]\n}"
            }
          },
          "metadata": {},
          "execution_count": 234
        }
      ]
    },
    {
      "cell_type": "code",
      "source": [
        "df.isnull().sum()\n"
      ],
      "metadata": {
        "colab": {
          "base_uri": "https://localhost:8080/",
          "height": 805
        },
        "id": "xBD9RZuZz9-J",
        "outputId": "6bfcf0de-c1bb-43b2-8d49-6e5cf1f322cf"
      },
      "execution_count": 235,
      "outputs": [
        {
          "output_type": "execute_result",
          "data": {
            "text/plain": [
              "Unnamed: 0                    0\n",
              "VendorID                      0\n",
              "tpep_pickup_datetime          0\n",
              "tpep_dropoff_datetime         0\n",
              "passenger_count            8887\n",
              "trip_distance                 0\n",
              "RatecodeID                 8887\n",
              "store_and_fwd_flag         8887\n",
              "PULocationID                  0\n",
              "DOLocationID                  0\n",
              "payment_type                  0\n",
              "fare_amount                   0\n",
              "extra                         0\n",
              "mta_tax                       0\n",
              "tip_amount                    0\n",
              "tolls_amount                  0\n",
              "improvement_surcharge         0\n",
              "total_amount                  0\n",
              "congestion_surcharge       8887\n",
              "airport_fee              247175\n",
              "date                          0\n",
              "hour                          0\n",
              "Airport_fee               29862\n",
              "dtype: int64"
            ],
            "text/html": [
              "<div>\n",
              "<style scoped>\n",
              "    .dataframe tbody tr th:only-of-type {\n",
              "        vertical-align: middle;\n",
              "    }\n",
              "\n",
              "    .dataframe tbody tr th {\n",
              "        vertical-align: top;\n",
              "    }\n",
              "\n",
              "    .dataframe thead th {\n",
              "        text-align: right;\n",
              "    }\n",
              "</style>\n",
              "<table border=\"1\" class=\"dataframe\">\n",
              "  <thead>\n",
              "    <tr style=\"text-align: right;\">\n",
              "      <th></th>\n",
              "      <th>0</th>\n",
              "    </tr>\n",
              "  </thead>\n",
              "  <tbody>\n",
              "    <tr>\n",
              "      <th>Unnamed: 0</th>\n",
              "      <td>0</td>\n",
              "    </tr>\n",
              "    <tr>\n",
              "      <th>VendorID</th>\n",
              "      <td>0</td>\n",
              "    </tr>\n",
              "    <tr>\n",
              "      <th>tpep_pickup_datetime</th>\n",
              "      <td>0</td>\n",
              "    </tr>\n",
              "    <tr>\n",
              "      <th>tpep_dropoff_datetime</th>\n",
              "      <td>0</td>\n",
              "    </tr>\n",
              "    <tr>\n",
              "      <th>passenger_count</th>\n",
              "      <td>8887</td>\n",
              "    </tr>\n",
              "    <tr>\n",
              "      <th>trip_distance</th>\n",
              "      <td>0</td>\n",
              "    </tr>\n",
              "    <tr>\n",
              "      <th>RatecodeID</th>\n",
              "      <td>8887</td>\n",
              "    </tr>\n",
              "    <tr>\n",
              "      <th>store_and_fwd_flag</th>\n",
              "      <td>8887</td>\n",
              "    </tr>\n",
              "    <tr>\n",
              "      <th>PULocationID</th>\n",
              "      <td>0</td>\n",
              "    </tr>\n",
              "    <tr>\n",
              "      <th>DOLocationID</th>\n",
              "      <td>0</td>\n",
              "    </tr>\n",
              "    <tr>\n",
              "      <th>payment_type</th>\n",
              "      <td>0</td>\n",
              "    </tr>\n",
              "    <tr>\n",
              "      <th>fare_amount</th>\n",
              "      <td>0</td>\n",
              "    </tr>\n",
              "    <tr>\n",
              "      <th>extra</th>\n",
              "      <td>0</td>\n",
              "    </tr>\n",
              "    <tr>\n",
              "      <th>mta_tax</th>\n",
              "      <td>0</td>\n",
              "    </tr>\n",
              "    <tr>\n",
              "      <th>tip_amount</th>\n",
              "      <td>0</td>\n",
              "    </tr>\n",
              "    <tr>\n",
              "      <th>tolls_amount</th>\n",
              "      <td>0</td>\n",
              "    </tr>\n",
              "    <tr>\n",
              "      <th>improvement_surcharge</th>\n",
              "      <td>0</td>\n",
              "    </tr>\n",
              "    <tr>\n",
              "      <th>total_amount</th>\n",
              "      <td>0</td>\n",
              "    </tr>\n",
              "    <tr>\n",
              "      <th>congestion_surcharge</th>\n",
              "      <td>8887</td>\n",
              "    </tr>\n",
              "    <tr>\n",
              "      <th>airport_fee</th>\n",
              "      <td>247175</td>\n",
              "    </tr>\n",
              "    <tr>\n",
              "      <th>date</th>\n",
              "      <td>0</td>\n",
              "    </tr>\n",
              "    <tr>\n",
              "      <th>hour</th>\n",
              "      <td>0</td>\n",
              "    </tr>\n",
              "    <tr>\n",
              "      <th>Airport_fee</th>\n",
              "      <td>29862</td>\n",
              "    </tr>\n",
              "  </tbody>\n",
              "</table>\n",
              "</div><br><label><b>dtype:</b> int64</label>"
            ]
          },
          "metadata": {},
          "execution_count": 235
        }
      ]
    },
    {
      "cell_type": "code",
      "source": [
        "df[df.isnull().any(axis=1)]"
      ],
      "metadata": {
        "colab": {
          "base_uri": "https://localhost:8080/",
          "height": 634
        },
        "id": "eNbp0_KW0_W7",
        "outputId": "1cb58c76-4eaa-418e-ba6b-0f174be5f370"
      },
      "execution_count": 236,
      "outputs": [
        {
          "output_type": "execute_result",
          "data": {
            "text/plain": [
              "        Unnamed: 0  VendorID tpep_pickup_datetime tpep_dropoff_datetime  \\\n",
              "0             1164         2  2023-01-01 00:10:30   2023-01-01 00:11:49   \n",
              "1             1868         2  2023-01-01 00:49:02   2023-01-01 00:55:15   \n",
              "2             3106         1  2023-01-01 00:47:17   2023-01-01 01:07:01   \n",
              "3              808         2  2023-01-01 00:06:02   2023-01-01 00:31:38   \n",
              "4              169         2  2023-01-01 00:02:19   2023-01-01 00:30:49   \n",
              "...            ...       ...                  ...                   ...   \n",
              "268145     3202993         2  2023-11-30 23:34:08   2023-11-30 23:45:41   \n",
              "268146     3202493         2  2023-11-30 23:28:24   2023-11-30 23:39:51   \n",
              "268147     3205476         2  2023-11-30 23:14:41   2023-11-30 23:33:52   \n",
              "268148     3201592         2  2023-11-30 23:02:11   2023-11-30 23:08:23   \n",
              "268149     3202362         2  2023-11-30 23:28:13   2023-11-30 23:31:27   \n",
              "\n",
              "        passenger_count  trip_distance  RatecodeID store_and_fwd_flag  \\\n",
              "0                   1.0           0.49         1.0                  N   \n",
              "1                   1.0           0.75         1.0                  N   \n",
              "2                   2.0           2.90         1.0                  N   \n",
              "3                   1.0           2.50         1.0                  N   \n",
              "4                   1.0          20.37         2.0                  N   \n",
              "...                 ...            ...         ...                ...   \n",
              "268145              1.0           1.73         1.0                  N   \n",
              "268146              2.0           2.24         1.0                  N   \n",
              "268147              2.0           2.50         1.0                  N   \n",
              "268148              1.0           0.98         1.0                  N   \n",
              "268149              3.0           0.87         1.0                  N   \n",
              "\n",
              "        PULocationID  DOLocationID  ...  mta_tax  tip_amount  tolls_amount  \\\n",
              "0                239           238  ...      0.5        1.88          0.00   \n",
              "1                 45           148  ...      0.5        0.00          0.00   \n",
              "2                142           170  ...      0.5        4.80          0.00   \n",
              "3                 43           161  ...      0.5        7.25          0.00   \n",
              "4                132           140  ...      0.5       12.00          6.55   \n",
              "...              ...           ...  ...      ...         ...           ...   \n",
              "268145            68           170  ...      0.5        0.00          0.00   \n",
              "268146           263           162  ...      0.5        3.70          0.00   \n",
              "268147           264           264  ...      0.5        4.18          0.00   \n",
              "268148           142            48  ...      0.5        2.00          0.00   \n",
              "268149            50           142  ...      0.5        3.45          0.00   \n",
              "\n",
              "        improvement_surcharge  total_amount  congestion_surcharge  \\\n",
              "0                         1.0         11.28                   2.5   \n",
              "1                         1.0         12.90                   2.5   \n",
              "2                         1.0         28.90                   2.5   \n",
              "3                         1.0         36.25                   2.5   \n",
              "4                         1.0         92.55                   2.5   \n",
              "...                       ...           ...                   ...   \n",
              "268145                    1.0         17.80                   2.5   \n",
              "268146                    1.0         22.20                   2.5   \n",
              "268147                    1.0         25.08                   0.0   \n",
              "268148                    1.0         14.90                   2.5   \n",
              "268149                    1.0         14.95                   2.5   \n",
              "\n",
              "        airport_fee        date  hour  Airport_fee  \n",
              "0               0.0  2023-01-01     0          NaN  \n",
              "1               0.0  2023-01-01     0          NaN  \n",
              "2               0.0  2023-01-01     0          NaN  \n",
              "3               0.0  2023-01-01     0          NaN  \n",
              "4               0.0  2023-01-01     0          NaN  \n",
              "...             ...         ...   ...          ...  \n",
              "268145          NaN  2023-11-30    23          0.0  \n",
              "268146          NaN  2023-11-30    23          0.0  \n",
              "268147          NaN  2023-11-30    23          0.0  \n",
              "268148          NaN  2023-11-30    23          0.0  \n",
              "268149          NaN  2023-11-30    23          0.0  \n",
              "\n",
              "[268150 rows x 23 columns]"
            ],
            "text/html": [
              "\n",
              "  <div id=\"df-f22ab043-25f1-4299-a827-66eea52b05b3\" class=\"colab-df-container\">\n",
              "    <div>\n",
              "<style scoped>\n",
              "    .dataframe tbody tr th:only-of-type {\n",
              "        vertical-align: middle;\n",
              "    }\n",
              "\n",
              "    .dataframe tbody tr th {\n",
              "        vertical-align: top;\n",
              "    }\n",
              "\n",
              "    .dataframe thead th {\n",
              "        text-align: right;\n",
              "    }\n",
              "</style>\n",
              "<table border=\"1\" class=\"dataframe\">\n",
              "  <thead>\n",
              "    <tr style=\"text-align: right;\">\n",
              "      <th></th>\n",
              "      <th>Unnamed: 0</th>\n",
              "      <th>VendorID</th>\n",
              "      <th>tpep_pickup_datetime</th>\n",
              "      <th>tpep_dropoff_datetime</th>\n",
              "      <th>passenger_count</th>\n",
              "      <th>trip_distance</th>\n",
              "      <th>RatecodeID</th>\n",
              "      <th>store_and_fwd_flag</th>\n",
              "      <th>PULocationID</th>\n",
              "      <th>DOLocationID</th>\n",
              "      <th>...</th>\n",
              "      <th>mta_tax</th>\n",
              "      <th>tip_amount</th>\n",
              "      <th>tolls_amount</th>\n",
              "      <th>improvement_surcharge</th>\n",
              "      <th>total_amount</th>\n",
              "      <th>congestion_surcharge</th>\n",
              "      <th>airport_fee</th>\n",
              "      <th>date</th>\n",
              "      <th>hour</th>\n",
              "      <th>Airport_fee</th>\n",
              "    </tr>\n",
              "  </thead>\n",
              "  <tbody>\n",
              "    <tr>\n",
              "      <th>0</th>\n",
              "      <td>1164</td>\n",
              "      <td>2</td>\n",
              "      <td>2023-01-01 00:10:30</td>\n",
              "      <td>2023-01-01 00:11:49</td>\n",
              "      <td>1.0</td>\n",
              "      <td>0.49</td>\n",
              "      <td>1.0</td>\n",
              "      <td>N</td>\n",
              "      <td>239</td>\n",
              "      <td>238</td>\n",
              "      <td>...</td>\n",
              "      <td>0.5</td>\n",
              "      <td>1.88</td>\n",
              "      <td>0.00</td>\n",
              "      <td>1.0</td>\n",
              "      <td>11.28</td>\n",
              "      <td>2.5</td>\n",
              "      <td>0.0</td>\n",
              "      <td>2023-01-01</td>\n",
              "      <td>0</td>\n",
              "      <td>NaN</td>\n",
              "    </tr>\n",
              "    <tr>\n",
              "      <th>1</th>\n",
              "      <td>1868</td>\n",
              "      <td>2</td>\n",
              "      <td>2023-01-01 00:49:02</td>\n",
              "      <td>2023-01-01 00:55:15</td>\n",
              "      <td>1.0</td>\n",
              "      <td>0.75</td>\n",
              "      <td>1.0</td>\n",
              "      <td>N</td>\n",
              "      <td>45</td>\n",
              "      <td>148</td>\n",
              "      <td>...</td>\n",
              "      <td>0.5</td>\n",
              "      <td>0.00</td>\n",
              "      <td>0.00</td>\n",
              "      <td>1.0</td>\n",
              "      <td>12.90</td>\n",
              "      <td>2.5</td>\n",
              "      <td>0.0</td>\n",
              "      <td>2023-01-01</td>\n",
              "      <td>0</td>\n",
              "      <td>NaN</td>\n",
              "    </tr>\n",
              "    <tr>\n",
              "      <th>2</th>\n",
              "      <td>3106</td>\n",
              "      <td>1</td>\n",
              "      <td>2023-01-01 00:47:17</td>\n",
              "      <td>2023-01-01 01:07:01</td>\n",
              "      <td>2.0</td>\n",
              "      <td>2.90</td>\n",
              "      <td>1.0</td>\n",
              "      <td>N</td>\n",
              "      <td>142</td>\n",
              "      <td>170</td>\n",
              "      <td>...</td>\n",
              "      <td>0.5</td>\n",
              "      <td>4.80</td>\n",
              "      <td>0.00</td>\n",
              "      <td>1.0</td>\n",
              "      <td>28.90</td>\n",
              "      <td>2.5</td>\n",
              "      <td>0.0</td>\n",
              "      <td>2023-01-01</td>\n",
              "      <td>0</td>\n",
              "      <td>NaN</td>\n",
              "    </tr>\n",
              "    <tr>\n",
              "      <th>3</th>\n",
              "      <td>808</td>\n",
              "      <td>2</td>\n",
              "      <td>2023-01-01 00:06:02</td>\n",
              "      <td>2023-01-01 00:31:38</td>\n",
              "      <td>1.0</td>\n",
              "      <td>2.50</td>\n",
              "      <td>1.0</td>\n",
              "      <td>N</td>\n",
              "      <td>43</td>\n",
              "      <td>161</td>\n",
              "      <td>...</td>\n",
              "      <td>0.5</td>\n",
              "      <td>7.25</td>\n",
              "      <td>0.00</td>\n",
              "      <td>1.0</td>\n",
              "      <td>36.25</td>\n",
              "      <td>2.5</td>\n",
              "      <td>0.0</td>\n",
              "      <td>2023-01-01</td>\n",
              "      <td>0</td>\n",
              "      <td>NaN</td>\n",
              "    </tr>\n",
              "    <tr>\n",
              "      <th>4</th>\n",
              "      <td>169</td>\n",
              "      <td>2</td>\n",
              "      <td>2023-01-01 00:02:19</td>\n",
              "      <td>2023-01-01 00:30:49</td>\n",
              "      <td>1.0</td>\n",
              "      <td>20.37</td>\n",
              "      <td>2.0</td>\n",
              "      <td>N</td>\n",
              "      <td>132</td>\n",
              "      <td>140</td>\n",
              "      <td>...</td>\n",
              "      <td>0.5</td>\n",
              "      <td>12.00</td>\n",
              "      <td>6.55</td>\n",
              "      <td>1.0</td>\n",
              "      <td>92.55</td>\n",
              "      <td>2.5</td>\n",
              "      <td>0.0</td>\n",
              "      <td>2023-01-01</td>\n",
              "      <td>0</td>\n",
              "      <td>NaN</td>\n",
              "    </tr>\n",
              "    <tr>\n",
              "      <th>...</th>\n",
              "      <td>...</td>\n",
              "      <td>...</td>\n",
              "      <td>...</td>\n",
              "      <td>...</td>\n",
              "      <td>...</td>\n",
              "      <td>...</td>\n",
              "      <td>...</td>\n",
              "      <td>...</td>\n",
              "      <td>...</td>\n",
              "      <td>...</td>\n",
              "      <td>...</td>\n",
              "      <td>...</td>\n",
              "      <td>...</td>\n",
              "      <td>...</td>\n",
              "      <td>...</td>\n",
              "      <td>...</td>\n",
              "      <td>...</td>\n",
              "      <td>...</td>\n",
              "      <td>...</td>\n",
              "      <td>...</td>\n",
              "      <td>...</td>\n",
              "    </tr>\n",
              "    <tr>\n",
              "      <th>268145</th>\n",
              "      <td>3202993</td>\n",
              "      <td>2</td>\n",
              "      <td>2023-11-30 23:34:08</td>\n",
              "      <td>2023-11-30 23:45:41</td>\n",
              "      <td>1.0</td>\n",
              "      <td>1.73</td>\n",
              "      <td>1.0</td>\n",
              "      <td>N</td>\n",
              "      <td>68</td>\n",
              "      <td>170</td>\n",
              "      <td>...</td>\n",
              "      <td>0.5</td>\n",
              "      <td>0.00</td>\n",
              "      <td>0.00</td>\n",
              "      <td>1.0</td>\n",
              "      <td>17.80</td>\n",
              "      <td>2.5</td>\n",
              "      <td>NaN</td>\n",
              "      <td>2023-11-30</td>\n",
              "      <td>23</td>\n",
              "      <td>0.0</td>\n",
              "    </tr>\n",
              "    <tr>\n",
              "      <th>268146</th>\n",
              "      <td>3202493</td>\n",
              "      <td>2</td>\n",
              "      <td>2023-11-30 23:28:24</td>\n",
              "      <td>2023-11-30 23:39:51</td>\n",
              "      <td>2.0</td>\n",
              "      <td>2.24</td>\n",
              "      <td>1.0</td>\n",
              "      <td>N</td>\n",
              "      <td>263</td>\n",
              "      <td>162</td>\n",
              "      <td>...</td>\n",
              "      <td>0.5</td>\n",
              "      <td>3.70</td>\n",
              "      <td>0.00</td>\n",
              "      <td>1.0</td>\n",
              "      <td>22.20</td>\n",
              "      <td>2.5</td>\n",
              "      <td>NaN</td>\n",
              "      <td>2023-11-30</td>\n",
              "      <td>23</td>\n",
              "      <td>0.0</td>\n",
              "    </tr>\n",
              "    <tr>\n",
              "      <th>268147</th>\n",
              "      <td>3205476</td>\n",
              "      <td>2</td>\n",
              "      <td>2023-11-30 23:14:41</td>\n",
              "      <td>2023-11-30 23:33:52</td>\n",
              "      <td>2.0</td>\n",
              "      <td>2.50</td>\n",
              "      <td>1.0</td>\n",
              "      <td>N</td>\n",
              "      <td>264</td>\n",
              "      <td>264</td>\n",
              "      <td>...</td>\n",
              "      <td>0.5</td>\n",
              "      <td>4.18</td>\n",
              "      <td>0.00</td>\n",
              "      <td>1.0</td>\n",
              "      <td>25.08</td>\n",
              "      <td>0.0</td>\n",
              "      <td>NaN</td>\n",
              "      <td>2023-11-30</td>\n",
              "      <td>23</td>\n",
              "      <td>0.0</td>\n",
              "    </tr>\n",
              "    <tr>\n",
              "      <th>268148</th>\n",
              "      <td>3201592</td>\n",
              "      <td>2</td>\n",
              "      <td>2023-11-30 23:02:11</td>\n",
              "      <td>2023-11-30 23:08:23</td>\n",
              "      <td>1.0</td>\n",
              "      <td>0.98</td>\n",
              "      <td>1.0</td>\n",
              "      <td>N</td>\n",
              "      <td>142</td>\n",
              "      <td>48</td>\n",
              "      <td>...</td>\n",
              "      <td>0.5</td>\n",
              "      <td>2.00</td>\n",
              "      <td>0.00</td>\n",
              "      <td>1.0</td>\n",
              "      <td>14.90</td>\n",
              "      <td>2.5</td>\n",
              "      <td>NaN</td>\n",
              "      <td>2023-11-30</td>\n",
              "      <td>23</td>\n",
              "      <td>0.0</td>\n",
              "    </tr>\n",
              "    <tr>\n",
              "      <th>268149</th>\n",
              "      <td>3202362</td>\n",
              "      <td>2</td>\n",
              "      <td>2023-11-30 23:28:13</td>\n",
              "      <td>2023-11-30 23:31:27</td>\n",
              "      <td>3.0</td>\n",
              "      <td>0.87</td>\n",
              "      <td>1.0</td>\n",
              "      <td>N</td>\n",
              "      <td>50</td>\n",
              "      <td>142</td>\n",
              "      <td>...</td>\n",
              "      <td>0.5</td>\n",
              "      <td>3.45</td>\n",
              "      <td>0.00</td>\n",
              "      <td>1.0</td>\n",
              "      <td>14.95</td>\n",
              "      <td>2.5</td>\n",
              "      <td>NaN</td>\n",
              "      <td>2023-11-30</td>\n",
              "      <td>23</td>\n",
              "      <td>0.0</td>\n",
              "    </tr>\n",
              "  </tbody>\n",
              "</table>\n",
              "<p>268150 rows × 23 columns</p>\n",
              "</div>\n",
              "    <div class=\"colab-df-buttons\">\n",
              "\n",
              "  <div class=\"colab-df-container\">\n",
              "    <button class=\"colab-df-convert\" onclick=\"convertToInteractive('df-f22ab043-25f1-4299-a827-66eea52b05b3')\"\n",
              "            title=\"Convert this dataframe to an interactive table.\"\n",
              "            style=\"display:none;\">\n",
              "\n",
              "  <svg xmlns=\"http://www.w3.org/2000/svg\" height=\"24px\" viewBox=\"0 -960 960 960\">\n",
              "    <path d=\"M120-120v-720h720v720H120Zm60-500h600v-160H180v160Zm220 220h160v-160H400v160Zm0 220h160v-160H400v160ZM180-400h160v-160H180v160Zm440 0h160v-160H620v160ZM180-180h160v-160H180v160Zm440 0h160v-160H620v160Z\"/>\n",
              "  </svg>\n",
              "    </button>\n",
              "\n",
              "  <style>\n",
              "    .colab-df-container {\n",
              "      display:flex;\n",
              "      gap: 12px;\n",
              "    }\n",
              "\n",
              "    .colab-df-convert {\n",
              "      background-color: #E8F0FE;\n",
              "      border: none;\n",
              "      border-radius: 50%;\n",
              "      cursor: pointer;\n",
              "      display: none;\n",
              "      fill: #1967D2;\n",
              "      height: 32px;\n",
              "      padding: 0 0 0 0;\n",
              "      width: 32px;\n",
              "    }\n",
              "\n",
              "    .colab-df-convert:hover {\n",
              "      background-color: #E2EBFA;\n",
              "      box-shadow: 0px 1px 2px rgba(60, 64, 67, 0.3), 0px 1px 3px 1px rgba(60, 64, 67, 0.15);\n",
              "      fill: #174EA6;\n",
              "    }\n",
              "\n",
              "    .colab-df-buttons div {\n",
              "      margin-bottom: 4px;\n",
              "    }\n",
              "\n",
              "    [theme=dark] .colab-df-convert {\n",
              "      background-color: #3B4455;\n",
              "      fill: #D2E3FC;\n",
              "    }\n",
              "\n",
              "    [theme=dark] .colab-df-convert:hover {\n",
              "      background-color: #434B5C;\n",
              "      box-shadow: 0px 1px 3px 1px rgba(0, 0, 0, 0.15);\n",
              "      filter: drop-shadow(0px 1px 2px rgba(0, 0, 0, 0.3));\n",
              "      fill: #FFFFFF;\n",
              "    }\n",
              "  </style>\n",
              "\n",
              "    <script>\n",
              "      const buttonEl =\n",
              "        document.querySelector('#df-f22ab043-25f1-4299-a827-66eea52b05b3 button.colab-df-convert');\n",
              "      buttonEl.style.display =\n",
              "        google.colab.kernel.accessAllowed ? 'block' : 'none';\n",
              "\n",
              "      async function convertToInteractive(key) {\n",
              "        const element = document.querySelector('#df-f22ab043-25f1-4299-a827-66eea52b05b3');\n",
              "        const dataTable =\n",
              "          await google.colab.kernel.invokeFunction('convertToInteractive',\n",
              "                                                    [key], {});\n",
              "        if (!dataTable) return;\n",
              "\n",
              "        const docLinkHtml = 'Like what you see? Visit the ' +\n",
              "          '<a target=\"_blank\" href=https://colab.research.google.com/notebooks/data_table.ipynb>data table notebook</a>'\n",
              "          + ' to learn more about interactive tables.';\n",
              "        element.innerHTML = '';\n",
              "        dataTable['output_type'] = 'display_data';\n",
              "        await google.colab.output.renderOutput(dataTable, element);\n",
              "        const docLink = document.createElement('div');\n",
              "        docLink.innerHTML = docLinkHtml;\n",
              "        element.appendChild(docLink);\n",
              "      }\n",
              "    </script>\n",
              "  </div>\n",
              "\n",
              "\n",
              "    <div id=\"df-c78259c1-5875-4340-a453-120890f33cfd\">\n",
              "      <button class=\"colab-df-quickchart\" onclick=\"quickchart('df-c78259c1-5875-4340-a453-120890f33cfd')\"\n",
              "                title=\"Suggest charts\"\n",
              "                style=\"display:none;\">\n",
              "\n",
              "<svg xmlns=\"http://www.w3.org/2000/svg\" height=\"24px\"viewBox=\"0 0 24 24\"\n",
              "     width=\"24px\">\n",
              "    <g>\n",
              "        <path d=\"M19 3H5c-1.1 0-2 .9-2 2v14c0 1.1.9 2 2 2h14c1.1 0 2-.9 2-2V5c0-1.1-.9-2-2-2zM9 17H7v-7h2v7zm4 0h-2V7h2v10zm4 0h-2v-4h2v4z\"/>\n",
              "    </g>\n",
              "</svg>\n",
              "      </button>\n",
              "\n",
              "<style>\n",
              "  .colab-df-quickchart {\n",
              "      --bg-color: #E8F0FE;\n",
              "      --fill-color: #1967D2;\n",
              "      --hover-bg-color: #E2EBFA;\n",
              "      --hover-fill-color: #174EA6;\n",
              "      --disabled-fill-color: #AAA;\n",
              "      --disabled-bg-color: #DDD;\n",
              "  }\n",
              "\n",
              "  [theme=dark] .colab-df-quickchart {\n",
              "      --bg-color: #3B4455;\n",
              "      --fill-color: #D2E3FC;\n",
              "      --hover-bg-color: #434B5C;\n",
              "      --hover-fill-color: #FFFFFF;\n",
              "      --disabled-bg-color: #3B4455;\n",
              "      --disabled-fill-color: #666;\n",
              "  }\n",
              "\n",
              "  .colab-df-quickchart {\n",
              "    background-color: var(--bg-color);\n",
              "    border: none;\n",
              "    border-radius: 50%;\n",
              "    cursor: pointer;\n",
              "    display: none;\n",
              "    fill: var(--fill-color);\n",
              "    height: 32px;\n",
              "    padding: 0;\n",
              "    width: 32px;\n",
              "  }\n",
              "\n",
              "  .colab-df-quickchart:hover {\n",
              "    background-color: var(--hover-bg-color);\n",
              "    box-shadow: 0 1px 2px rgba(60, 64, 67, 0.3), 0 1px 3px 1px rgba(60, 64, 67, 0.15);\n",
              "    fill: var(--button-hover-fill-color);\n",
              "  }\n",
              "\n",
              "  .colab-df-quickchart-complete:disabled,\n",
              "  .colab-df-quickchart-complete:disabled:hover {\n",
              "    background-color: var(--disabled-bg-color);\n",
              "    fill: var(--disabled-fill-color);\n",
              "    box-shadow: none;\n",
              "  }\n",
              "\n",
              "  .colab-df-spinner {\n",
              "    border: 2px solid var(--fill-color);\n",
              "    border-color: transparent;\n",
              "    border-bottom-color: var(--fill-color);\n",
              "    animation:\n",
              "      spin 1s steps(1) infinite;\n",
              "  }\n",
              "\n",
              "  @keyframes spin {\n",
              "    0% {\n",
              "      border-color: transparent;\n",
              "      border-bottom-color: var(--fill-color);\n",
              "      border-left-color: var(--fill-color);\n",
              "    }\n",
              "    20% {\n",
              "      border-color: transparent;\n",
              "      border-left-color: var(--fill-color);\n",
              "      border-top-color: var(--fill-color);\n",
              "    }\n",
              "    30% {\n",
              "      border-color: transparent;\n",
              "      border-left-color: var(--fill-color);\n",
              "      border-top-color: var(--fill-color);\n",
              "      border-right-color: var(--fill-color);\n",
              "    }\n",
              "    40% {\n",
              "      border-color: transparent;\n",
              "      border-right-color: var(--fill-color);\n",
              "      border-top-color: var(--fill-color);\n",
              "    }\n",
              "    60% {\n",
              "      border-color: transparent;\n",
              "      border-right-color: var(--fill-color);\n",
              "    }\n",
              "    80% {\n",
              "      border-color: transparent;\n",
              "      border-right-color: var(--fill-color);\n",
              "      border-bottom-color: var(--fill-color);\n",
              "    }\n",
              "    90% {\n",
              "      border-color: transparent;\n",
              "      border-bottom-color: var(--fill-color);\n",
              "    }\n",
              "  }\n",
              "</style>\n",
              "\n",
              "      <script>\n",
              "        async function quickchart(key) {\n",
              "          const quickchartButtonEl =\n",
              "            document.querySelector('#' + key + ' button');\n",
              "          quickchartButtonEl.disabled = true;  // To prevent multiple clicks.\n",
              "          quickchartButtonEl.classList.add('colab-df-spinner');\n",
              "          try {\n",
              "            const charts = await google.colab.kernel.invokeFunction(\n",
              "                'suggestCharts', [key], {});\n",
              "          } catch (error) {\n",
              "            console.error('Error during call to suggestCharts:', error);\n",
              "          }\n",
              "          quickchartButtonEl.classList.remove('colab-df-spinner');\n",
              "          quickchartButtonEl.classList.add('colab-df-quickchart-complete');\n",
              "        }\n",
              "        (() => {\n",
              "          let quickchartButtonEl =\n",
              "            document.querySelector('#df-c78259c1-5875-4340-a453-120890f33cfd button');\n",
              "          quickchartButtonEl.style.display =\n",
              "            google.colab.kernel.accessAllowed ? 'block' : 'none';\n",
              "        })();\n",
              "      </script>\n",
              "    </div>\n",
              "\n",
              "    </div>\n",
              "  </div>\n"
            ],
            "application/vnd.google.colaboratory.intrinsic+json": {
              "type": "dataframe"
            }
          },
          "metadata": {},
          "execution_count": 236
        }
      ]
    },
    {
      "cell_type": "markdown",
      "metadata": {
        "id": "HZvPSwJx0S3K"
      },
      "source": [
        "#### **2.1** Fixing Columns\n",
        "<font color = red>[10 marks]</font> <br>\n",
        "\n",
        "Fix/drop any columns as you seem necessary in the below sections"
      ]
    },
    {
      "cell_type": "markdown",
      "metadata": {
        "id": "358takCd2FiM"
      },
      "source": [
        "**2.1.1** <font color = red>[2 marks]</font> <br>\n",
        "\n",
        "Fix the index and drop unnecessary columns"
      ]
    },
    {
      "cell_type": "code",
      "execution_count": 237,
      "metadata": {
        "id": "KHHFyZxa2PEM",
        "colab": {
          "base_uri": "https://localhost:8080/",
          "height": 774
        },
        "outputId": "137f768a-8a57-40f7-e88b-93fecffb41a7"
      },
      "outputs": [
        {
          "output_type": "execute_result",
          "data": {
            "text/plain": [
              "VendorID                      0\n",
              "tpep_pickup_datetime          0\n",
              "tpep_dropoff_datetime         0\n",
              "passenger_count            8887\n",
              "trip_distance                 0\n",
              "RatecodeID                 8887\n",
              "store_and_fwd_flag         8887\n",
              "PULocationID                  0\n",
              "DOLocationID                  0\n",
              "payment_type                  0\n",
              "fare_amount                   0\n",
              "extra                         0\n",
              "mta_tax                       0\n",
              "tip_amount                    0\n",
              "tolls_amount                  0\n",
              "improvement_surcharge         0\n",
              "total_amount                  0\n",
              "congestion_surcharge       8887\n",
              "airport_fee              247175\n",
              "date                          0\n",
              "hour                          0\n",
              "Airport_fee               29862\n",
              "dtype: int64"
            ],
            "text/html": [
              "<div>\n",
              "<style scoped>\n",
              "    .dataframe tbody tr th:only-of-type {\n",
              "        vertical-align: middle;\n",
              "    }\n",
              "\n",
              "    .dataframe tbody tr th {\n",
              "        vertical-align: top;\n",
              "    }\n",
              "\n",
              "    .dataframe thead th {\n",
              "        text-align: right;\n",
              "    }\n",
              "</style>\n",
              "<table border=\"1\" class=\"dataframe\">\n",
              "  <thead>\n",
              "    <tr style=\"text-align: right;\">\n",
              "      <th></th>\n",
              "      <th>0</th>\n",
              "    </tr>\n",
              "  </thead>\n",
              "  <tbody>\n",
              "    <tr>\n",
              "      <th>VendorID</th>\n",
              "      <td>0</td>\n",
              "    </tr>\n",
              "    <tr>\n",
              "      <th>tpep_pickup_datetime</th>\n",
              "      <td>0</td>\n",
              "    </tr>\n",
              "    <tr>\n",
              "      <th>tpep_dropoff_datetime</th>\n",
              "      <td>0</td>\n",
              "    </tr>\n",
              "    <tr>\n",
              "      <th>passenger_count</th>\n",
              "      <td>8887</td>\n",
              "    </tr>\n",
              "    <tr>\n",
              "      <th>trip_distance</th>\n",
              "      <td>0</td>\n",
              "    </tr>\n",
              "    <tr>\n",
              "      <th>RatecodeID</th>\n",
              "      <td>8887</td>\n",
              "    </tr>\n",
              "    <tr>\n",
              "      <th>store_and_fwd_flag</th>\n",
              "      <td>8887</td>\n",
              "    </tr>\n",
              "    <tr>\n",
              "      <th>PULocationID</th>\n",
              "      <td>0</td>\n",
              "    </tr>\n",
              "    <tr>\n",
              "      <th>DOLocationID</th>\n",
              "      <td>0</td>\n",
              "    </tr>\n",
              "    <tr>\n",
              "      <th>payment_type</th>\n",
              "      <td>0</td>\n",
              "    </tr>\n",
              "    <tr>\n",
              "      <th>fare_amount</th>\n",
              "      <td>0</td>\n",
              "    </tr>\n",
              "    <tr>\n",
              "      <th>extra</th>\n",
              "      <td>0</td>\n",
              "    </tr>\n",
              "    <tr>\n",
              "      <th>mta_tax</th>\n",
              "      <td>0</td>\n",
              "    </tr>\n",
              "    <tr>\n",
              "      <th>tip_amount</th>\n",
              "      <td>0</td>\n",
              "    </tr>\n",
              "    <tr>\n",
              "      <th>tolls_amount</th>\n",
              "      <td>0</td>\n",
              "    </tr>\n",
              "    <tr>\n",
              "      <th>improvement_surcharge</th>\n",
              "      <td>0</td>\n",
              "    </tr>\n",
              "    <tr>\n",
              "      <th>total_amount</th>\n",
              "      <td>0</td>\n",
              "    </tr>\n",
              "    <tr>\n",
              "      <th>congestion_surcharge</th>\n",
              "      <td>8887</td>\n",
              "    </tr>\n",
              "    <tr>\n",
              "      <th>airport_fee</th>\n",
              "      <td>247175</td>\n",
              "    </tr>\n",
              "    <tr>\n",
              "      <th>date</th>\n",
              "      <td>0</td>\n",
              "    </tr>\n",
              "    <tr>\n",
              "      <th>hour</th>\n",
              "      <td>0</td>\n",
              "    </tr>\n",
              "    <tr>\n",
              "      <th>Airport_fee</th>\n",
              "      <td>29862</td>\n",
              "    </tr>\n",
              "  </tbody>\n",
              "</table>\n",
              "</div><br><label><b>dtype:</b> int64</label>"
            ]
          },
          "metadata": {},
          "execution_count": 237
        }
      ],
      "source": [
        "# Fix the index and drop any columns that are not needed\n",
        "df.reset_index(drop=True, inplace=True)\n",
        "df.drop(columns=['Unnamed: 0'], inplace=True)\n",
        "df.isnull().sum()\n",
        "\n"
      ]
    },
    {
      "cell_type": "markdown",
      "metadata": {
        "id": "TIFmxvIT2wsn"
      },
      "source": [
        "**2.1.2** <font color = red>[3 marks]</font> <br>\n",
        "There are two airport fee columns. This is possibly an error in naming columns. Let's see whether these can be combined into a single column."
      ]
    },
    {
      "cell_type": "code",
      "execution_count": 238,
      "metadata": {
        "id": "rmtgnb1x6TrV",
        "colab": {
          "base_uri": "https://localhost:8080/"
        },
        "outputId": "6eea248b-e3ce-4eed-e9b4-0e8a78c0884e"
      },
      "outputs": [
        {
          "output_type": "stream",
          "name": "stderr",
          "text": [
            "<ipython-input-238-49f25ac9a824>:2: FutureWarning: A value is trying to be set on a copy of a DataFrame or Series through chained assignment using an inplace method.\n",
            "The behavior will change in pandas 3.0. This inplace method will never work because the intermediate object on which we are setting values always behaves as a copy.\n",
            "\n",
            "For example, when doing 'df[col].method(value, inplace=True)', try using 'df.method({col: value}, inplace=True)' or df[col] = df[col].method(value) instead, to perform the operation inplace on the original object.\n",
            "\n",
            "\n",
            "  df['Airport_fee'].fillna(df['airport_fee'], inplace=True)\n"
          ]
        }
      ],
      "source": [
        "# Combine the two airport fee columns\n",
        "df['Airport_fee'].fillna(df['airport_fee'], inplace=True)\n",
        "df.drop(columns =['airport_fee'], inplace=True)"
      ]
    },
    {
      "cell_type": "markdown",
      "metadata": {
        "id": "1g4AHG7mOYgP"
      },
      "source": [
        "**2.1.3** <font color = red>[5 marks]</font> <br>\n",
        "Fix columns with negative (monetary) values"
      ]
    },
    {
      "cell_type": "code",
      "execution_count": 239,
      "metadata": {
        "id": "nBsMT2MII1Hv",
        "colab": {
          "base_uri": "https://localhost:8080/",
          "height": 617
        },
        "outputId": "41de9b3f-a372-4904-fa2a-de855cacf771"
      },
      "outputs": [
        {
          "output_type": "execute_result",
          "data": {
            "text/plain": [
              "        VendorID tpep_pickup_datetime tpep_dropoff_datetime  passenger_count  \\\n",
              "84             2  2023-01-01 02:29:07   2023-01-01 02:29:24              1.0   \n",
              "171            2  2023-01-01 06:36:37   2023-01-01 06:44:17              1.0   \n",
              "204            2  2023-01-01 10:15:22   2023-01-01 10:15:30              1.0   \n",
              "272            2  2023-01-01 13:15:52   2023-01-01 13:28:52              1.0   \n",
              "570            2  2023-01-02 07:11:35   2023-01-02 07:11:43              1.0   \n",
              "...          ...                  ...                   ...              ...   \n",
              "267696         2  2023-11-30 15:02:21   2023-11-30 15:05:44              1.0   \n",
              "267746         2  2023-11-30 16:04:13   2023-11-30 16:06:06              1.0   \n",
              "267780         2  2023-11-30 17:44:21   2023-11-30 17:44:40              1.0   \n",
              "267792         2  2023-11-30 17:29:21   2023-11-30 17:29:39              1.0   \n",
              "267958         2  2023-11-30 20:10:42   2023-11-30 20:17:15              1.0   \n",
              "\n",
              "        trip_distance  RatecodeID store_and_fwd_flag  PULocationID  \\\n",
              "84               0.00         3.0                  N           234   \n",
              "171              1.84         1.0                  N           162   \n",
              "204              0.00         1.0                  N            75   \n",
              "272              2.47         1.0                  N           246   \n",
              "570              0.00         1.0                  N           100   \n",
              "...               ...         ...                ...           ...   \n",
              "267696           0.61         1.0                  N           262   \n",
              "267746           0.35         1.0                  N           107   \n",
              "267780           0.06         1.0                  N            70   \n",
              "267792           0.03         1.0                  N           142   \n",
              "267958           1.32         1.0                  N            43   \n",
              "\n",
              "        DOLocationID  payment_type  ...  extra  mta_tax  tip_amount  \\\n",
              "84               234             4  ...   -1.0      0.0         0.0   \n",
              "171              100             4  ...    0.0     -0.5         0.0   \n",
              "204               75             1  ...    0.0     -0.5         0.0   \n",
              "272              125             4  ...    0.0     -0.5         0.0   \n",
              "570              100             3  ...    0.0     -0.5         0.0   \n",
              "...              ...           ...  ...    ...      ...         ...   \n",
              "267696           236             3  ...    0.0     -0.5         0.0   \n",
              "267746           107             4  ...   -2.5     -0.5         0.0   \n",
              "267780            70             3  ...   -7.5     -0.5         0.0   \n",
              "267792           142             3  ...   -2.5     -0.5         0.0   \n",
              "267958            43             3  ...   -1.0     -0.5         0.0   \n",
              "\n",
              "        tolls_amount  improvement_surcharge  total_amount  \\\n",
              "84               0.0                   -1.0         -25.0   \n",
              "171              0.0                   -1.0         -14.7   \n",
              "204              0.0                   -1.0          -4.5   \n",
              "272              0.0                   -1.0         -18.9   \n",
              "570              0.0                   -1.0          -7.0   \n",
              "...              ...                    ...           ...   \n",
              "267696           0.0                   -1.0          -9.8   \n",
              "267746           0.0                   -1.0         -10.9   \n",
              "267780           0.0                   -1.0         -12.0   \n",
              "267792           0.0                   -1.0          -9.5   \n",
              "267958           0.0                   -1.0         -14.3   \n",
              "\n",
              "        congestion_surcharge        date hour  Airport_fee  \n",
              "84                       0.0  2023-01-01    2          0.0  \n",
              "171                     -2.5  2023-01-01    6          0.0  \n",
              "204                      0.0  2023-01-01   10          0.0  \n",
              "272                     -2.5  2023-01-01   13          0.0  \n",
              "570                     -2.5  2023-01-02    7          0.0  \n",
              "...                      ...         ...  ...          ...  \n",
              "267696                  -2.5  2023-11-30   15          0.0  \n",
              "267746                  -2.5  2023-11-30   16          0.0  \n",
              "267780                   0.0  2023-11-30   17          0.0  \n",
              "267792                  -2.5  2023-11-30   17          0.0  \n",
              "267958                  -2.5  2023-11-30   20          0.0  \n",
              "\n",
              "[2668 rows x 21 columns]"
            ],
            "text/html": [
              "\n",
              "  <div id=\"df-c6562356-0717-4a3f-9e57-784492c6fc6b\" class=\"colab-df-container\">\n",
              "    <div>\n",
              "<style scoped>\n",
              "    .dataframe tbody tr th:only-of-type {\n",
              "        vertical-align: middle;\n",
              "    }\n",
              "\n",
              "    .dataframe tbody tr th {\n",
              "        vertical-align: top;\n",
              "    }\n",
              "\n",
              "    .dataframe thead th {\n",
              "        text-align: right;\n",
              "    }\n",
              "</style>\n",
              "<table border=\"1\" class=\"dataframe\">\n",
              "  <thead>\n",
              "    <tr style=\"text-align: right;\">\n",
              "      <th></th>\n",
              "      <th>VendorID</th>\n",
              "      <th>tpep_pickup_datetime</th>\n",
              "      <th>tpep_dropoff_datetime</th>\n",
              "      <th>passenger_count</th>\n",
              "      <th>trip_distance</th>\n",
              "      <th>RatecodeID</th>\n",
              "      <th>store_and_fwd_flag</th>\n",
              "      <th>PULocationID</th>\n",
              "      <th>DOLocationID</th>\n",
              "      <th>payment_type</th>\n",
              "      <th>...</th>\n",
              "      <th>extra</th>\n",
              "      <th>mta_tax</th>\n",
              "      <th>tip_amount</th>\n",
              "      <th>tolls_amount</th>\n",
              "      <th>improvement_surcharge</th>\n",
              "      <th>total_amount</th>\n",
              "      <th>congestion_surcharge</th>\n",
              "      <th>date</th>\n",
              "      <th>hour</th>\n",
              "      <th>Airport_fee</th>\n",
              "    </tr>\n",
              "  </thead>\n",
              "  <tbody>\n",
              "    <tr>\n",
              "      <th>84</th>\n",
              "      <td>2</td>\n",
              "      <td>2023-01-01 02:29:07</td>\n",
              "      <td>2023-01-01 02:29:24</td>\n",
              "      <td>1.0</td>\n",
              "      <td>0.00</td>\n",
              "      <td>3.0</td>\n",
              "      <td>N</td>\n",
              "      <td>234</td>\n",
              "      <td>234</td>\n",
              "      <td>4</td>\n",
              "      <td>...</td>\n",
              "      <td>-1.0</td>\n",
              "      <td>0.0</td>\n",
              "      <td>0.0</td>\n",
              "      <td>0.0</td>\n",
              "      <td>-1.0</td>\n",
              "      <td>-25.0</td>\n",
              "      <td>0.0</td>\n",
              "      <td>2023-01-01</td>\n",
              "      <td>2</td>\n",
              "      <td>0.0</td>\n",
              "    </tr>\n",
              "    <tr>\n",
              "      <th>171</th>\n",
              "      <td>2</td>\n",
              "      <td>2023-01-01 06:36:37</td>\n",
              "      <td>2023-01-01 06:44:17</td>\n",
              "      <td>1.0</td>\n",
              "      <td>1.84</td>\n",
              "      <td>1.0</td>\n",
              "      <td>N</td>\n",
              "      <td>162</td>\n",
              "      <td>100</td>\n",
              "      <td>4</td>\n",
              "      <td>...</td>\n",
              "      <td>0.0</td>\n",
              "      <td>-0.5</td>\n",
              "      <td>0.0</td>\n",
              "      <td>0.0</td>\n",
              "      <td>-1.0</td>\n",
              "      <td>-14.7</td>\n",
              "      <td>-2.5</td>\n",
              "      <td>2023-01-01</td>\n",
              "      <td>6</td>\n",
              "      <td>0.0</td>\n",
              "    </tr>\n",
              "    <tr>\n",
              "      <th>204</th>\n",
              "      <td>2</td>\n",
              "      <td>2023-01-01 10:15:22</td>\n",
              "      <td>2023-01-01 10:15:30</td>\n",
              "      <td>1.0</td>\n",
              "      <td>0.00</td>\n",
              "      <td>1.0</td>\n",
              "      <td>N</td>\n",
              "      <td>75</td>\n",
              "      <td>75</td>\n",
              "      <td>1</td>\n",
              "      <td>...</td>\n",
              "      <td>0.0</td>\n",
              "      <td>-0.5</td>\n",
              "      <td>0.0</td>\n",
              "      <td>0.0</td>\n",
              "      <td>-1.0</td>\n",
              "      <td>-4.5</td>\n",
              "      <td>0.0</td>\n",
              "      <td>2023-01-01</td>\n",
              "      <td>10</td>\n",
              "      <td>0.0</td>\n",
              "    </tr>\n",
              "    <tr>\n",
              "      <th>272</th>\n",
              "      <td>2</td>\n",
              "      <td>2023-01-01 13:15:52</td>\n",
              "      <td>2023-01-01 13:28:52</td>\n",
              "      <td>1.0</td>\n",
              "      <td>2.47</td>\n",
              "      <td>1.0</td>\n",
              "      <td>N</td>\n",
              "      <td>246</td>\n",
              "      <td>125</td>\n",
              "      <td>4</td>\n",
              "      <td>...</td>\n",
              "      <td>0.0</td>\n",
              "      <td>-0.5</td>\n",
              "      <td>0.0</td>\n",
              "      <td>0.0</td>\n",
              "      <td>-1.0</td>\n",
              "      <td>-18.9</td>\n",
              "      <td>-2.5</td>\n",
              "      <td>2023-01-01</td>\n",
              "      <td>13</td>\n",
              "      <td>0.0</td>\n",
              "    </tr>\n",
              "    <tr>\n",
              "      <th>570</th>\n",
              "      <td>2</td>\n",
              "      <td>2023-01-02 07:11:35</td>\n",
              "      <td>2023-01-02 07:11:43</td>\n",
              "      <td>1.0</td>\n",
              "      <td>0.00</td>\n",
              "      <td>1.0</td>\n",
              "      <td>N</td>\n",
              "      <td>100</td>\n",
              "      <td>100</td>\n",
              "      <td>3</td>\n",
              "      <td>...</td>\n",
              "      <td>0.0</td>\n",
              "      <td>-0.5</td>\n",
              "      <td>0.0</td>\n",
              "      <td>0.0</td>\n",
              "      <td>-1.0</td>\n",
              "      <td>-7.0</td>\n",
              "      <td>-2.5</td>\n",
              "      <td>2023-01-02</td>\n",
              "      <td>7</td>\n",
              "      <td>0.0</td>\n",
              "    </tr>\n",
              "    <tr>\n",
              "      <th>...</th>\n",
              "      <td>...</td>\n",
              "      <td>...</td>\n",
              "      <td>...</td>\n",
              "      <td>...</td>\n",
              "      <td>...</td>\n",
              "      <td>...</td>\n",
              "      <td>...</td>\n",
              "      <td>...</td>\n",
              "      <td>...</td>\n",
              "      <td>...</td>\n",
              "      <td>...</td>\n",
              "      <td>...</td>\n",
              "      <td>...</td>\n",
              "      <td>...</td>\n",
              "      <td>...</td>\n",
              "      <td>...</td>\n",
              "      <td>...</td>\n",
              "      <td>...</td>\n",
              "      <td>...</td>\n",
              "      <td>...</td>\n",
              "      <td>...</td>\n",
              "    </tr>\n",
              "    <tr>\n",
              "      <th>267696</th>\n",
              "      <td>2</td>\n",
              "      <td>2023-11-30 15:02:21</td>\n",
              "      <td>2023-11-30 15:05:44</td>\n",
              "      <td>1.0</td>\n",
              "      <td>0.61</td>\n",
              "      <td>1.0</td>\n",
              "      <td>N</td>\n",
              "      <td>262</td>\n",
              "      <td>236</td>\n",
              "      <td>3</td>\n",
              "      <td>...</td>\n",
              "      <td>0.0</td>\n",
              "      <td>-0.5</td>\n",
              "      <td>0.0</td>\n",
              "      <td>0.0</td>\n",
              "      <td>-1.0</td>\n",
              "      <td>-9.8</td>\n",
              "      <td>-2.5</td>\n",
              "      <td>2023-11-30</td>\n",
              "      <td>15</td>\n",
              "      <td>0.0</td>\n",
              "    </tr>\n",
              "    <tr>\n",
              "      <th>267746</th>\n",
              "      <td>2</td>\n",
              "      <td>2023-11-30 16:04:13</td>\n",
              "      <td>2023-11-30 16:06:06</td>\n",
              "      <td>1.0</td>\n",
              "      <td>0.35</td>\n",
              "      <td>1.0</td>\n",
              "      <td>N</td>\n",
              "      <td>107</td>\n",
              "      <td>107</td>\n",
              "      <td>4</td>\n",
              "      <td>...</td>\n",
              "      <td>-2.5</td>\n",
              "      <td>-0.5</td>\n",
              "      <td>0.0</td>\n",
              "      <td>0.0</td>\n",
              "      <td>-1.0</td>\n",
              "      <td>-10.9</td>\n",
              "      <td>-2.5</td>\n",
              "      <td>2023-11-30</td>\n",
              "      <td>16</td>\n",
              "      <td>0.0</td>\n",
              "    </tr>\n",
              "    <tr>\n",
              "      <th>267780</th>\n",
              "      <td>2</td>\n",
              "      <td>2023-11-30 17:44:21</td>\n",
              "      <td>2023-11-30 17:44:40</td>\n",
              "      <td>1.0</td>\n",
              "      <td>0.06</td>\n",
              "      <td>1.0</td>\n",
              "      <td>N</td>\n",
              "      <td>70</td>\n",
              "      <td>70</td>\n",
              "      <td>3</td>\n",
              "      <td>...</td>\n",
              "      <td>-7.5</td>\n",
              "      <td>-0.5</td>\n",
              "      <td>0.0</td>\n",
              "      <td>0.0</td>\n",
              "      <td>-1.0</td>\n",
              "      <td>-12.0</td>\n",
              "      <td>0.0</td>\n",
              "      <td>2023-11-30</td>\n",
              "      <td>17</td>\n",
              "      <td>0.0</td>\n",
              "    </tr>\n",
              "    <tr>\n",
              "      <th>267792</th>\n",
              "      <td>2</td>\n",
              "      <td>2023-11-30 17:29:21</td>\n",
              "      <td>2023-11-30 17:29:39</td>\n",
              "      <td>1.0</td>\n",
              "      <td>0.03</td>\n",
              "      <td>1.0</td>\n",
              "      <td>N</td>\n",
              "      <td>142</td>\n",
              "      <td>142</td>\n",
              "      <td>3</td>\n",
              "      <td>...</td>\n",
              "      <td>-2.5</td>\n",
              "      <td>-0.5</td>\n",
              "      <td>0.0</td>\n",
              "      <td>0.0</td>\n",
              "      <td>-1.0</td>\n",
              "      <td>-9.5</td>\n",
              "      <td>-2.5</td>\n",
              "      <td>2023-11-30</td>\n",
              "      <td>17</td>\n",
              "      <td>0.0</td>\n",
              "    </tr>\n",
              "    <tr>\n",
              "      <th>267958</th>\n",
              "      <td>2</td>\n",
              "      <td>2023-11-30 20:10:42</td>\n",
              "      <td>2023-11-30 20:17:15</td>\n",
              "      <td>1.0</td>\n",
              "      <td>1.32</td>\n",
              "      <td>1.0</td>\n",
              "      <td>N</td>\n",
              "      <td>43</td>\n",
              "      <td>43</td>\n",
              "      <td>3</td>\n",
              "      <td>...</td>\n",
              "      <td>-1.0</td>\n",
              "      <td>-0.5</td>\n",
              "      <td>0.0</td>\n",
              "      <td>0.0</td>\n",
              "      <td>-1.0</td>\n",
              "      <td>-14.3</td>\n",
              "      <td>-2.5</td>\n",
              "      <td>2023-11-30</td>\n",
              "      <td>20</td>\n",
              "      <td>0.0</td>\n",
              "    </tr>\n",
              "  </tbody>\n",
              "</table>\n",
              "<p>2668 rows × 21 columns</p>\n",
              "</div>\n",
              "    <div class=\"colab-df-buttons\">\n",
              "\n",
              "  <div class=\"colab-df-container\">\n",
              "    <button class=\"colab-df-convert\" onclick=\"convertToInteractive('df-c6562356-0717-4a3f-9e57-784492c6fc6b')\"\n",
              "            title=\"Convert this dataframe to an interactive table.\"\n",
              "            style=\"display:none;\">\n",
              "\n",
              "  <svg xmlns=\"http://www.w3.org/2000/svg\" height=\"24px\" viewBox=\"0 -960 960 960\">\n",
              "    <path d=\"M120-120v-720h720v720H120Zm60-500h600v-160H180v160Zm220 220h160v-160H400v160Zm0 220h160v-160H400v160ZM180-400h160v-160H180v160Zm440 0h160v-160H620v160ZM180-180h160v-160H180v160Zm440 0h160v-160H620v160Z\"/>\n",
              "  </svg>\n",
              "    </button>\n",
              "\n",
              "  <style>\n",
              "    .colab-df-container {\n",
              "      display:flex;\n",
              "      gap: 12px;\n",
              "    }\n",
              "\n",
              "    .colab-df-convert {\n",
              "      background-color: #E8F0FE;\n",
              "      border: none;\n",
              "      border-radius: 50%;\n",
              "      cursor: pointer;\n",
              "      display: none;\n",
              "      fill: #1967D2;\n",
              "      height: 32px;\n",
              "      padding: 0 0 0 0;\n",
              "      width: 32px;\n",
              "    }\n",
              "\n",
              "    .colab-df-convert:hover {\n",
              "      background-color: #E2EBFA;\n",
              "      box-shadow: 0px 1px 2px rgba(60, 64, 67, 0.3), 0px 1px 3px 1px rgba(60, 64, 67, 0.15);\n",
              "      fill: #174EA6;\n",
              "    }\n",
              "\n",
              "    .colab-df-buttons div {\n",
              "      margin-bottom: 4px;\n",
              "    }\n",
              "\n",
              "    [theme=dark] .colab-df-convert {\n",
              "      background-color: #3B4455;\n",
              "      fill: #D2E3FC;\n",
              "    }\n",
              "\n",
              "    [theme=dark] .colab-df-convert:hover {\n",
              "      background-color: #434B5C;\n",
              "      box-shadow: 0px 1px 3px 1px rgba(0, 0, 0, 0.15);\n",
              "      filter: drop-shadow(0px 1px 2px rgba(0, 0, 0, 0.3));\n",
              "      fill: #FFFFFF;\n",
              "    }\n",
              "  </style>\n",
              "\n",
              "    <script>\n",
              "      const buttonEl =\n",
              "        document.querySelector('#df-c6562356-0717-4a3f-9e57-784492c6fc6b button.colab-df-convert');\n",
              "      buttonEl.style.display =\n",
              "        google.colab.kernel.accessAllowed ? 'block' : 'none';\n",
              "\n",
              "      async function convertToInteractive(key) {\n",
              "        const element = document.querySelector('#df-c6562356-0717-4a3f-9e57-784492c6fc6b');\n",
              "        const dataTable =\n",
              "          await google.colab.kernel.invokeFunction('convertToInteractive',\n",
              "                                                    [key], {});\n",
              "        if (!dataTable) return;\n",
              "\n",
              "        const docLinkHtml = 'Like what you see? Visit the ' +\n",
              "          '<a target=\"_blank\" href=https://colab.research.google.com/notebooks/data_table.ipynb>data table notebook</a>'\n",
              "          + ' to learn more about interactive tables.';\n",
              "        element.innerHTML = '';\n",
              "        dataTable['output_type'] = 'display_data';\n",
              "        await google.colab.output.renderOutput(dataTable, element);\n",
              "        const docLink = document.createElement('div');\n",
              "        docLink.innerHTML = docLinkHtml;\n",
              "        element.appendChild(docLink);\n",
              "      }\n",
              "    </script>\n",
              "  </div>\n",
              "\n",
              "\n",
              "    <div id=\"df-232030ba-4ba1-462c-bf0e-7b0e883df233\">\n",
              "      <button class=\"colab-df-quickchart\" onclick=\"quickchart('df-232030ba-4ba1-462c-bf0e-7b0e883df233')\"\n",
              "                title=\"Suggest charts\"\n",
              "                style=\"display:none;\">\n",
              "\n",
              "<svg xmlns=\"http://www.w3.org/2000/svg\" height=\"24px\"viewBox=\"0 0 24 24\"\n",
              "     width=\"24px\">\n",
              "    <g>\n",
              "        <path d=\"M19 3H5c-1.1 0-2 .9-2 2v14c0 1.1.9 2 2 2h14c1.1 0 2-.9 2-2V5c0-1.1-.9-2-2-2zM9 17H7v-7h2v7zm4 0h-2V7h2v10zm4 0h-2v-4h2v4z\"/>\n",
              "    </g>\n",
              "</svg>\n",
              "      </button>\n",
              "\n",
              "<style>\n",
              "  .colab-df-quickchart {\n",
              "      --bg-color: #E8F0FE;\n",
              "      --fill-color: #1967D2;\n",
              "      --hover-bg-color: #E2EBFA;\n",
              "      --hover-fill-color: #174EA6;\n",
              "      --disabled-fill-color: #AAA;\n",
              "      --disabled-bg-color: #DDD;\n",
              "  }\n",
              "\n",
              "  [theme=dark] .colab-df-quickchart {\n",
              "      --bg-color: #3B4455;\n",
              "      --fill-color: #D2E3FC;\n",
              "      --hover-bg-color: #434B5C;\n",
              "      --hover-fill-color: #FFFFFF;\n",
              "      --disabled-bg-color: #3B4455;\n",
              "      --disabled-fill-color: #666;\n",
              "  }\n",
              "\n",
              "  .colab-df-quickchart {\n",
              "    background-color: var(--bg-color);\n",
              "    border: none;\n",
              "    border-radius: 50%;\n",
              "    cursor: pointer;\n",
              "    display: none;\n",
              "    fill: var(--fill-color);\n",
              "    height: 32px;\n",
              "    padding: 0;\n",
              "    width: 32px;\n",
              "  }\n",
              "\n",
              "  .colab-df-quickchart:hover {\n",
              "    background-color: var(--hover-bg-color);\n",
              "    box-shadow: 0 1px 2px rgba(60, 64, 67, 0.3), 0 1px 3px 1px rgba(60, 64, 67, 0.15);\n",
              "    fill: var(--button-hover-fill-color);\n",
              "  }\n",
              "\n",
              "  .colab-df-quickchart-complete:disabled,\n",
              "  .colab-df-quickchart-complete:disabled:hover {\n",
              "    background-color: var(--disabled-bg-color);\n",
              "    fill: var(--disabled-fill-color);\n",
              "    box-shadow: none;\n",
              "  }\n",
              "\n",
              "  .colab-df-spinner {\n",
              "    border: 2px solid var(--fill-color);\n",
              "    border-color: transparent;\n",
              "    border-bottom-color: var(--fill-color);\n",
              "    animation:\n",
              "      spin 1s steps(1) infinite;\n",
              "  }\n",
              "\n",
              "  @keyframes spin {\n",
              "    0% {\n",
              "      border-color: transparent;\n",
              "      border-bottom-color: var(--fill-color);\n",
              "      border-left-color: var(--fill-color);\n",
              "    }\n",
              "    20% {\n",
              "      border-color: transparent;\n",
              "      border-left-color: var(--fill-color);\n",
              "      border-top-color: var(--fill-color);\n",
              "    }\n",
              "    30% {\n",
              "      border-color: transparent;\n",
              "      border-left-color: var(--fill-color);\n",
              "      border-top-color: var(--fill-color);\n",
              "      border-right-color: var(--fill-color);\n",
              "    }\n",
              "    40% {\n",
              "      border-color: transparent;\n",
              "      border-right-color: var(--fill-color);\n",
              "      border-top-color: var(--fill-color);\n",
              "    }\n",
              "    60% {\n",
              "      border-color: transparent;\n",
              "      border-right-color: var(--fill-color);\n",
              "    }\n",
              "    80% {\n",
              "      border-color: transparent;\n",
              "      border-right-color: var(--fill-color);\n",
              "      border-bottom-color: var(--fill-color);\n",
              "    }\n",
              "    90% {\n",
              "      border-color: transparent;\n",
              "      border-bottom-color: var(--fill-color);\n",
              "    }\n",
              "  }\n",
              "</style>\n",
              "\n",
              "      <script>\n",
              "        async function quickchart(key) {\n",
              "          const quickchartButtonEl =\n",
              "            document.querySelector('#' + key + ' button');\n",
              "          quickchartButtonEl.disabled = true;  // To prevent multiple clicks.\n",
              "          quickchartButtonEl.classList.add('colab-df-spinner');\n",
              "          try {\n",
              "            const charts = await google.colab.kernel.invokeFunction(\n",
              "                'suggestCharts', [key], {});\n",
              "          } catch (error) {\n",
              "            console.error('Error during call to suggestCharts:', error);\n",
              "          }\n",
              "          quickchartButtonEl.classList.remove('colab-df-spinner');\n",
              "          quickchartButtonEl.classList.add('colab-df-quickchart-complete');\n",
              "        }\n",
              "        (() => {\n",
              "          let quickchartButtonEl =\n",
              "            document.querySelector('#df-232030ba-4ba1-462c-bf0e-7b0e883df233 button');\n",
              "          quickchartButtonEl.style.display =\n",
              "            google.colab.kernel.accessAllowed ? 'block' : 'none';\n",
              "        })();\n",
              "      </script>\n",
              "    </div>\n",
              "\n",
              "    </div>\n",
              "  </div>\n"
            ],
            "application/vnd.google.colaboratory.intrinsic+json": {
              "type": "dataframe"
            }
          },
          "metadata": {},
          "execution_count": 239
        }
      ],
      "source": [
        "# check where values of fare amount are negative\n",
        "df[df['fare_amount'] < 0]"
      ]
    },
    {
      "cell_type": "markdown",
      "metadata": {
        "id": "JNKpDtTh8awi"
      },
      "source": [
        "Did you notice something different in the `RatecodeID` column for above records?"
      ]
    },
    {
      "cell_type": "code",
      "execution_count": 240,
      "metadata": {
        "id": "9eVrrj7c3kjq",
        "colab": {
          "base_uri": "https://localhost:8080/",
          "height": 272
        },
        "outputId": "c059c586-b32a-477d-fc0c-cb67153ce69e"
      },
      "outputs": [
        {
          "output_type": "execute_result",
          "data": {
            "text/plain": [
              "RatecodeID\n",
              "1.0    2353\n",
              "2.0     193\n",
              "5.0      40\n",
              "3.0      27\n",
              "4.0      12\n",
              "Name: count, dtype: int64"
            ],
            "text/html": [
              "<div>\n",
              "<style scoped>\n",
              "    .dataframe tbody tr th:only-of-type {\n",
              "        vertical-align: middle;\n",
              "    }\n",
              "\n",
              "    .dataframe tbody tr th {\n",
              "        vertical-align: top;\n",
              "    }\n",
              "\n",
              "    .dataframe thead th {\n",
              "        text-align: right;\n",
              "    }\n",
              "</style>\n",
              "<table border=\"1\" class=\"dataframe\">\n",
              "  <thead>\n",
              "    <tr style=\"text-align: right;\">\n",
              "      <th></th>\n",
              "      <th>count</th>\n",
              "    </tr>\n",
              "    <tr>\n",
              "      <th>RatecodeID</th>\n",
              "      <th></th>\n",
              "    </tr>\n",
              "  </thead>\n",
              "  <tbody>\n",
              "    <tr>\n",
              "      <th>1.0</th>\n",
              "      <td>2353</td>\n",
              "    </tr>\n",
              "    <tr>\n",
              "      <th>2.0</th>\n",
              "      <td>193</td>\n",
              "    </tr>\n",
              "    <tr>\n",
              "      <th>5.0</th>\n",
              "      <td>40</td>\n",
              "    </tr>\n",
              "    <tr>\n",
              "      <th>3.0</th>\n",
              "      <td>27</td>\n",
              "    </tr>\n",
              "    <tr>\n",
              "      <th>4.0</th>\n",
              "      <td>12</td>\n",
              "    </tr>\n",
              "  </tbody>\n",
              "</table>\n",
              "</div><br><label><b>dtype:</b> int64</label>"
            ]
          },
          "metadata": {},
          "execution_count": 240
        }
      ],
      "source": [
        "# Analyse RatecodeID for the negative fare amounts\n",
        "df[df['fare_amount'] < 0]['RatecodeID'].value_counts()"
      ]
    },
    {
      "cell_type": "code",
      "execution_count": 241,
      "metadata": {
        "id": "Ruyh2vaCRNxr",
        "colab": {
          "base_uri": "https://localhost:8080/",
          "height": 366
        },
        "outputId": "ae2d4bb4-57b1-4dc8-bb18-b3c4541b5911"
      },
      "outputs": [
        {
          "output_type": "execute_result",
          "data": {
            "text/plain": [
              "fare_amount              2668\n",
              "extra                    1344\n",
              "mta_tax                  2571\n",
              "tip_amount                 11\n",
              "tolls_amount              169\n",
              "improvement_surcharge    2638\n",
              "total_amount             2641\n",
              "congestion_surcharge     2117\n",
              "Airport_fee               353\n",
              "dtype: int64"
            ],
            "text/html": [
              "<div>\n",
              "<style scoped>\n",
              "    .dataframe tbody tr th:only-of-type {\n",
              "        vertical-align: middle;\n",
              "    }\n",
              "\n",
              "    .dataframe tbody tr th {\n",
              "        vertical-align: top;\n",
              "    }\n",
              "\n",
              "    .dataframe thead th {\n",
              "        text-align: right;\n",
              "    }\n",
              "</style>\n",
              "<table border=\"1\" class=\"dataframe\">\n",
              "  <thead>\n",
              "    <tr style=\"text-align: right;\">\n",
              "      <th></th>\n",
              "      <th>0</th>\n",
              "    </tr>\n",
              "  </thead>\n",
              "  <tbody>\n",
              "    <tr>\n",
              "      <th>fare_amount</th>\n",
              "      <td>2668</td>\n",
              "    </tr>\n",
              "    <tr>\n",
              "      <th>extra</th>\n",
              "      <td>1344</td>\n",
              "    </tr>\n",
              "    <tr>\n",
              "      <th>mta_tax</th>\n",
              "      <td>2571</td>\n",
              "    </tr>\n",
              "    <tr>\n",
              "      <th>tip_amount</th>\n",
              "      <td>11</td>\n",
              "    </tr>\n",
              "    <tr>\n",
              "      <th>tolls_amount</th>\n",
              "      <td>169</td>\n",
              "    </tr>\n",
              "    <tr>\n",
              "      <th>improvement_surcharge</th>\n",
              "      <td>2638</td>\n",
              "    </tr>\n",
              "    <tr>\n",
              "      <th>total_amount</th>\n",
              "      <td>2641</td>\n",
              "    </tr>\n",
              "    <tr>\n",
              "      <th>congestion_surcharge</th>\n",
              "      <td>2117</td>\n",
              "    </tr>\n",
              "    <tr>\n",
              "      <th>Airport_fee</th>\n",
              "      <td>353</td>\n",
              "    </tr>\n",
              "  </tbody>\n",
              "</table>\n",
              "</div><br><label><b>dtype:</b> int64</label>"
            ]
          },
          "metadata": {},
          "execution_count": 241
        }
      ],
      "source": [
        "# Find which columns have negative values\n",
        "neg_cols = df.select_dtypes(include=['number']).columns\n",
        "negative_value_counts = (df[neg_cols] < 0).sum()\n",
        "negative_value_counts[negative_value_counts > 0]\n",
        "\n"
      ]
    },
    {
      "cell_type": "code",
      "execution_count": 242,
      "metadata": {
        "id": "mPehZ6PJg3_J",
        "colab": {
          "base_uri": "https://localhost:8080/",
          "height": 366
        },
        "outputId": "4d6adf7f-b0ad-4d9e-886b-76748ad78530"
      },
      "outputs": [
        {
          "output_type": "execute_result",
          "data": {
            "text/plain": [
              "fare_amount              0\n",
              "extra                    0\n",
              "mta_tax                  0\n",
              "tip_amount               0\n",
              "tolls_amount             0\n",
              "improvement_surcharge    0\n",
              "total_amount             0\n",
              "congestion_surcharge     0\n",
              "Airport_fee              0\n",
              "dtype: int64"
            ],
            "text/html": [
              "<div>\n",
              "<style scoped>\n",
              "    .dataframe tbody tr th:only-of-type {\n",
              "        vertical-align: middle;\n",
              "    }\n",
              "\n",
              "    .dataframe tbody tr th {\n",
              "        vertical-align: top;\n",
              "    }\n",
              "\n",
              "    .dataframe thead th {\n",
              "        text-align: right;\n",
              "    }\n",
              "</style>\n",
              "<table border=\"1\" class=\"dataframe\">\n",
              "  <thead>\n",
              "    <tr style=\"text-align: right;\">\n",
              "      <th></th>\n",
              "      <th>0</th>\n",
              "    </tr>\n",
              "  </thead>\n",
              "  <tbody>\n",
              "    <tr>\n",
              "      <th>fare_amount</th>\n",
              "      <td>0</td>\n",
              "    </tr>\n",
              "    <tr>\n",
              "      <th>extra</th>\n",
              "      <td>0</td>\n",
              "    </tr>\n",
              "    <tr>\n",
              "      <th>mta_tax</th>\n",
              "      <td>0</td>\n",
              "    </tr>\n",
              "    <tr>\n",
              "      <th>tip_amount</th>\n",
              "      <td>0</td>\n",
              "    </tr>\n",
              "    <tr>\n",
              "      <th>tolls_amount</th>\n",
              "      <td>0</td>\n",
              "    </tr>\n",
              "    <tr>\n",
              "      <th>improvement_surcharge</th>\n",
              "      <td>0</td>\n",
              "    </tr>\n",
              "    <tr>\n",
              "      <th>total_amount</th>\n",
              "      <td>0</td>\n",
              "    </tr>\n",
              "    <tr>\n",
              "      <th>congestion_surcharge</th>\n",
              "      <td>0</td>\n",
              "    </tr>\n",
              "    <tr>\n",
              "      <th>Airport_fee</th>\n",
              "      <td>0</td>\n",
              "    </tr>\n",
              "  </tbody>\n",
              "</table>\n",
              "</div><br><label><b>dtype:</b> int64</label>"
            ]
          },
          "metadata": {},
          "execution_count": 242
        }
      ],
      "source": [
        "# fix these negative values\n",
        "cols_with_negatives = [\n",
        "    'fare_amount', 'extra', 'mta_tax', 'tip_amount',\n",
        "    'tolls_amount', 'improvement_surcharge', 'total_amount',\n",
        "    'congestion_surcharge', 'Airport_fee'\n",
        "]\n",
        "\n",
        "for col in cols_with_negatives:\n",
        "    df[col] = df[col].clip(lower=0)\n",
        "\n",
        "(df[cols_with_negatives] < 0).sum()\n"
      ]
    },
    {
      "cell_type": "markdown",
      "metadata": {
        "id": "x2hakCCy6wXI"
      },
      "source": [
        "### **2.2** Handling Missing Values\n",
        "<font color = red>[10 marks]</font> <br>"
      ]
    },
    {
      "cell_type": "markdown",
      "metadata": {
        "id": "-K-QNPDVVhzR"
      },
      "source": [
        "**2.2.1**  <font color = red>[2 marks]</font> <br>\n",
        "Find the proportion of missing values in each column\n",
        "\n",
        "\n"
      ]
    },
    {
      "cell_type": "code",
      "execution_count": 243,
      "metadata": {
        "id": "tfTa9cct6Gec",
        "colab": {
          "base_uri": "https://localhost:8080/",
          "height": 742
        },
        "outputId": "17e830ef-2802-40e1-aedc-f5a960a24baa"
      },
      "outputs": [
        {
          "output_type": "execute_result",
          "data": {
            "text/plain": [
              "VendorID                    0\n",
              "tpep_pickup_datetime        0\n",
              "tpep_dropoff_datetime       0\n",
              "passenger_count          8887\n",
              "trip_distance               0\n",
              "RatecodeID               8887\n",
              "store_and_fwd_flag       8887\n",
              "PULocationID                0\n",
              "DOLocationID                0\n",
              "payment_type                0\n",
              "fare_amount                 0\n",
              "extra                       0\n",
              "mta_tax                     0\n",
              "tip_amount                  0\n",
              "tolls_amount                0\n",
              "improvement_surcharge       0\n",
              "total_amount                0\n",
              "congestion_surcharge     8887\n",
              "date                        0\n",
              "hour                        0\n",
              "Airport_fee              8887\n",
              "dtype: int64"
            ],
            "text/html": [
              "<div>\n",
              "<style scoped>\n",
              "    .dataframe tbody tr th:only-of-type {\n",
              "        vertical-align: middle;\n",
              "    }\n",
              "\n",
              "    .dataframe tbody tr th {\n",
              "        vertical-align: top;\n",
              "    }\n",
              "\n",
              "    .dataframe thead th {\n",
              "        text-align: right;\n",
              "    }\n",
              "</style>\n",
              "<table border=\"1\" class=\"dataframe\">\n",
              "  <thead>\n",
              "    <tr style=\"text-align: right;\">\n",
              "      <th></th>\n",
              "      <th>0</th>\n",
              "    </tr>\n",
              "  </thead>\n",
              "  <tbody>\n",
              "    <tr>\n",
              "      <th>VendorID</th>\n",
              "      <td>0</td>\n",
              "    </tr>\n",
              "    <tr>\n",
              "      <th>tpep_pickup_datetime</th>\n",
              "      <td>0</td>\n",
              "    </tr>\n",
              "    <tr>\n",
              "      <th>tpep_dropoff_datetime</th>\n",
              "      <td>0</td>\n",
              "    </tr>\n",
              "    <tr>\n",
              "      <th>passenger_count</th>\n",
              "      <td>8887</td>\n",
              "    </tr>\n",
              "    <tr>\n",
              "      <th>trip_distance</th>\n",
              "      <td>0</td>\n",
              "    </tr>\n",
              "    <tr>\n",
              "      <th>RatecodeID</th>\n",
              "      <td>8887</td>\n",
              "    </tr>\n",
              "    <tr>\n",
              "      <th>store_and_fwd_flag</th>\n",
              "      <td>8887</td>\n",
              "    </tr>\n",
              "    <tr>\n",
              "      <th>PULocationID</th>\n",
              "      <td>0</td>\n",
              "    </tr>\n",
              "    <tr>\n",
              "      <th>DOLocationID</th>\n",
              "      <td>0</td>\n",
              "    </tr>\n",
              "    <tr>\n",
              "      <th>payment_type</th>\n",
              "      <td>0</td>\n",
              "    </tr>\n",
              "    <tr>\n",
              "      <th>fare_amount</th>\n",
              "      <td>0</td>\n",
              "    </tr>\n",
              "    <tr>\n",
              "      <th>extra</th>\n",
              "      <td>0</td>\n",
              "    </tr>\n",
              "    <tr>\n",
              "      <th>mta_tax</th>\n",
              "      <td>0</td>\n",
              "    </tr>\n",
              "    <tr>\n",
              "      <th>tip_amount</th>\n",
              "      <td>0</td>\n",
              "    </tr>\n",
              "    <tr>\n",
              "      <th>tolls_amount</th>\n",
              "      <td>0</td>\n",
              "    </tr>\n",
              "    <tr>\n",
              "      <th>improvement_surcharge</th>\n",
              "      <td>0</td>\n",
              "    </tr>\n",
              "    <tr>\n",
              "      <th>total_amount</th>\n",
              "      <td>0</td>\n",
              "    </tr>\n",
              "    <tr>\n",
              "      <th>congestion_surcharge</th>\n",
              "      <td>8887</td>\n",
              "    </tr>\n",
              "    <tr>\n",
              "      <th>date</th>\n",
              "      <td>0</td>\n",
              "    </tr>\n",
              "    <tr>\n",
              "      <th>hour</th>\n",
              "      <td>0</td>\n",
              "    </tr>\n",
              "    <tr>\n",
              "      <th>Airport_fee</th>\n",
              "      <td>8887</td>\n",
              "    </tr>\n",
              "  </tbody>\n",
              "</table>\n",
              "</div><br><label><b>dtype:</b> int64</label>"
            ]
          },
          "metadata": {},
          "execution_count": 243
        }
      ],
      "source": [
        "# Find the proportion of missing values in each column\n",
        "df.isnull().sum()\n",
        "\n"
      ]
    },
    {
      "cell_type": "markdown",
      "metadata": {
        "id": "-UdUl6AL_-E_"
      },
      "source": [
        "**2.2.2**  <font color = red>[3 marks]</font> <br>\n",
        "Handling missing values in `passenger_count`"
      ]
    },
    {
      "cell_type": "code",
      "execution_count": 244,
      "metadata": {
        "id": "JmNmhr4q8Xys",
        "colab": {
          "base_uri": "https://localhost:8080/"
        },
        "outputId": "6291e4fb-2b1c-46fc-ed8f-d0884985c3ba"
      },
      "outputs": [
        {
          "output_type": "stream",
          "name": "stderr",
          "text": [
            "<ipython-input-244-f6a7e1942724>:5: FutureWarning: A value is trying to be set on a copy of a DataFrame or Series through chained assignment using an inplace method.\n",
            "The behavior will change in pandas 3.0. This inplace method will never work because the intermediate object on which we are setting values always behaves as a copy.\n",
            "\n",
            "For example, when doing 'df[col].method(value, inplace=True)', try using 'df.method({col: value}, inplace=True)' or df[col] = df[col].method(value) instead, to perform the operation inplace on the original object.\n",
            "\n",
            "\n",
            "  df['passenger_count'].fillna(mean_passenger_count, inplace=True)\n"
          ]
        }
      ],
      "source": [
        "# Display the rows with null values\n",
        "# Impute NaN values in 'passenger_count'\n",
        "mean_passenger_count = df['passenger_count'].mean().round()\n",
        "df[df['passenger_count'].isnull()]\n",
        "df['passenger_count'].fillna(mean_passenger_count, inplace=True)"
      ]
    },
    {
      "cell_type": "markdown",
      "metadata": {
        "id": "hIPCyR6UCw0c"
      },
      "source": [
        "Did you find zeroes in passenger_count? Handle these."
      ]
    },
    {
      "cell_type": "code",
      "source": [
        "# checking if any row has passenger_count equalto zero\n",
        "df['passenger_count'].value_counts()\n",
        "df[df['passenger_count']==0]\n",
        "df.loc[df['passenger_count'] == 0, 'passenger_count'] = mean_passenger_count"
      ],
      "metadata": {
        "id": "D6wAcTu3VSmk"
      },
      "execution_count": 245,
      "outputs": []
    },
    {
      "cell_type": "code",
      "source": [],
      "metadata": {
        "id": "5PJVDRzMVcxv"
      },
      "execution_count": null,
      "outputs": []
    },
    {
      "cell_type": "markdown",
      "metadata": {
        "id": "IUr4fwkjBUTQ"
      },
      "source": [
        "**2.2.3**  <font color = red>[2 marks]</font> <br>\n",
        "Handle missing values in `RatecodeID`"
      ]
    },
    {
      "cell_type": "code",
      "execution_count": 246,
      "metadata": {
        "id": "qEgFxytzBkrB",
        "colab": {
          "base_uri": "https://localhost:8080/",
          "height": 600
        },
        "outputId": "56672bec-9523-475d-99e3-cc6ebf81cd25"
      },
      "outputs": [
        {
          "output_type": "stream",
          "name": "stderr",
          "text": [
            "<ipython-input-246-6f68c277a3eb>:3: FutureWarning: A value is trying to be set on a copy of a DataFrame or Series through chained assignment using an inplace method.\n",
            "The behavior will change in pandas 3.0. This inplace method will never work because the intermediate object on which we are setting values always behaves as a copy.\n",
            "\n",
            "For example, when doing 'df[col].method(value, inplace=True)', try using 'df.method({col: value}, inplace=True)' or df[col] = df[col].method(value) instead, to perform the operation inplace on the original object.\n",
            "\n",
            "\n",
            "  df['RatecodeID'].fillna(mode_val, inplace=True)\n"
          ]
        },
        {
          "output_type": "execute_result",
          "data": {
            "text/plain": [
              "0         1.0\n",
              "1         1.0\n",
              "2         1.0\n",
              "3         1.0\n",
              "4         2.0\n",
              "         ... \n",
              "268145    1.0\n",
              "268146    1.0\n",
              "268147    1.0\n",
              "268148    1.0\n",
              "268149    1.0\n",
              "Name: RatecodeID, Length: 268150, dtype: float64"
            ],
            "text/html": [
              "<div>\n",
              "<style scoped>\n",
              "    .dataframe tbody tr th:only-of-type {\n",
              "        vertical-align: middle;\n",
              "    }\n",
              "\n",
              "    .dataframe tbody tr th {\n",
              "        vertical-align: top;\n",
              "    }\n",
              "\n",
              "    .dataframe thead th {\n",
              "        text-align: right;\n",
              "    }\n",
              "</style>\n",
              "<table border=\"1\" class=\"dataframe\">\n",
              "  <thead>\n",
              "    <tr style=\"text-align: right;\">\n",
              "      <th></th>\n",
              "      <th>RatecodeID</th>\n",
              "    </tr>\n",
              "  </thead>\n",
              "  <tbody>\n",
              "    <tr>\n",
              "      <th>0</th>\n",
              "      <td>1.0</td>\n",
              "    </tr>\n",
              "    <tr>\n",
              "      <th>1</th>\n",
              "      <td>1.0</td>\n",
              "    </tr>\n",
              "    <tr>\n",
              "      <th>2</th>\n",
              "      <td>1.0</td>\n",
              "    </tr>\n",
              "    <tr>\n",
              "      <th>3</th>\n",
              "      <td>1.0</td>\n",
              "    </tr>\n",
              "    <tr>\n",
              "      <th>4</th>\n",
              "      <td>2.0</td>\n",
              "    </tr>\n",
              "    <tr>\n",
              "      <th>...</th>\n",
              "      <td>...</td>\n",
              "    </tr>\n",
              "    <tr>\n",
              "      <th>268145</th>\n",
              "      <td>1.0</td>\n",
              "    </tr>\n",
              "    <tr>\n",
              "      <th>268146</th>\n",
              "      <td>1.0</td>\n",
              "    </tr>\n",
              "    <tr>\n",
              "      <th>268147</th>\n",
              "      <td>1.0</td>\n",
              "    </tr>\n",
              "    <tr>\n",
              "      <th>268148</th>\n",
              "      <td>1.0</td>\n",
              "    </tr>\n",
              "    <tr>\n",
              "      <th>268149</th>\n",
              "      <td>1.0</td>\n",
              "    </tr>\n",
              "  </tbody>\n",
              "</table>\n",
              "<p>268150 rows × 1 columns</p>\n",
              "</div><br><label><b>dtype:</b> float64</label>"
            ]
          },
          "metadata": {},
          "execution_count": 246
        }
      ],
      "source": [
        "# Fix missing values in 'RatecodeID'\n",
        "mode_val = df['RatecodeID'].mode()[0]\n",
        "df['RatecodeID'].fillna(mode_val, inplace=True)\n",
        "df['RatecodeID']\n",
        "\n"
      ]
    },
    {
      "cell_type": "markdown",
      "metadata": {
        "id": "0TjHXzuODCUW"
      },
      "source": [
        "**2.2.4**  <font color = red>[3 marks]</font> <br>\n",
        "Impute NaN in `congestion_surcharge`"
      ]
    },
    {
      "cell_type": "code",
      "execution_count": 247,
      "metadata": {
        "id": "HqnabUGC3xOA",
        "colab": {
          "base_uri": "https://localhost:8080/",
          "height": 257
        },
        "outputId": "9e8b457e-af9e-40a0-dc4a-4ddbc5396d34"
      },
      "outputs": [
        {
          "output_type": "stream",
          "name": "stderr",
          "text": [
            "<ipython-input-247-a34180b7f340>:2: FutureWarning: A value is trying to be set on a copy of a DataFrame or Series through chained assignment using an inplace method.\n",
            "The behavior will change in pandas 3.0. This inplace method will never work because the intermediate object on which we are setting values always behaves as a copy.\n",
            "\n",
            "For example, when doing 'df[col].method(value, inplace=True)', try using 'df.method({col: value}, inplace=True)' or df[col] = df[col].method(value) instead, to perform the operation inplace on the original object.\n",
            "\n",
            "\n",
            "  df['congestion_surcharge'].fillna(0, inplace=True)\n"
          ]
        },
        {
          "output_type": "execute_result",
          "data": {
            "text/plain": [
              "Series([], Name: count, dtype: int64)"
            ],
            "text/html": [
              "<div>\n",
              "<style scoped>\n",
              "    .dataframe tbody tr th:only-of-type {\n",
              "        vertical-align: middle;\n",
              "    }\n",
              "\n",
              "    .dataframe tbody tr th {\n",
              "        vertical-align: top;\n",
              "    }\n",
              "\n",
              "    .dataframe thead th {\n",
              "        text-align: right;\n",
              "    }\n",
              "</style>\n",
              "<table border=\"1\" class=\"dataframe\">\n",
              "  <thead>\n",
              "    <tr style=\"text-align: right;\">\n",
              "      <th></th>\n",
              "      <th></th>\n",
              "      <th></th>\n",
              "      <th></th>\n",
              "      <th></th>\n",
              "      <th></th>\n",
              "      <th></th>\n",
              "      <th></th>\n",
              "      <th></th>\n",
              "      <th></th>\n",
              "      <th></th>\n",
              "      <th></th>\n",
              "      <th></th>\n",
              "      <th></th>\n",
              "      <th></th>\n",
              "      <th></th>\n",
              "      <th></th>\n",
              "      <th></th>\n",
              "      <th></th>\n",
              "      <th></th>\n",
              "      <th></th>\n",
              "      <th>count</th>\n",
              "    </tr>\n",
              "    <tr>\n",
              "      <th>VendorID</th>\n",
              "      <th>tpep_pickup_datetime</th>\n",
              "      <th>tpep_dropoff_datetime</th>\n",
              "      <th>passenger_count</th>\n",
              "      <th>trip_distance</th>\n",
              "      <th>RatecodeID</th>\n",
              "      <th>store_and_fwd_flag</th>\n",
              "      <th>PULocationID</th>\n",
              "      <th>DOLocationID</th>\n",
              "      <th>payment_type</th>\n",
              "      <th>fare_amount</th>\n",
              "      <th>extra</th>\n",
              "      <th>mta_tax</th>\n",
              "      <th>tip_amount</th>\n",
              "      <th>tolls_amount</th>\n",
              "      <th>improvement_surcharge</th>\n",
              "      <th>total_amount</th>\n",
              "      <th>congestion_surcharge</th>\n",
              "      <th>date</th>\n",
              "      <th>hour</th>\n",
              "      <th>Airport_fee</th>\n",
              "      <th></th>\n",
              "    </tr>\n",
              "  </thead>\n",
              "  <tbody>\n",
              "  </tbody>\n",
              "</table>\n",
              "</div><br><label><b>dtype:</b> int64</label>"
            ]
          },
          "metadata": {},
          "execution_count": 247
        }
      ],
      "source": [
        "# handle null values in congestion_surcharge\n",
        "df['congestion_surcharge'].fillna(0, inplace=True)\n",
        "\n",
        "df[df['congestion_surcharge'].isnull()].value_counts()\n"
      ]
    },
    {
      "cell_type": "markdown",
      "metadata": {
        "id": "4FZEdgAgUbPl"
      },
      "source": [
        "Are there missing values in other columns? Did you find NaN values in some other set of columns? Handle those missing values below."
      ]
    },
    {
      "cell_type": "code",
      "execution_count": 248,
      "metadata": {
        "id": "iDLpyqCRXa3K",
        "colab": {
          "base_uri": "https://localhost:8080/"
        },
        "outputId": "191b41c0-4c30-4d26-86f8-7ce3f382a8b4"
      },
      "outputs": [
        {
          "output_type": "stream",
          "name": "stderr",
          "text": [
            "<ipython-input-248-928524962db5>:4: FutureWarning: A value is trying to be set on a copy of a DataFrame or Series through chained assignment using an inplace method.\n",
            "The behavior will change in pandas 3.0. This inplace method will never work because the intermediate object on which we are setting values always behaves as a copy.\n",
            "\n",
            "For example, when doing 'df[col].method(value, inplace=True)', try using 'df.method({col: value}, inplace=True)' or df[col] = df[col].method(value) instead, to perform the operation inplace on the original object.\n",
            "\n",
            "\n",
            "  df['Airport_fee'].fillna(df['Airport_fee'].mean(), inplace=True)\n",
            "<ipython-input-248-928524962db5>:5: FutureWarning: A value is trying to be set on a copy of a DataFrame or Series through chained assignment using an inplace method.\n",
            "The behavior will change in pandas 3.0. This inplace method will never work because the intermediate object on which we are setting values always behaves as a copy.\n",
            "\n",
            "For example, when doing 'df[col].method(value, inplace=True)', try using 'df.method({col: value}, inplace=True)' or df[col] = df[col].method(value) instead, to perform the operation inplace on the original object.\n",
            "\n",
            "\n",
            "  df['store_and_fwd_flag'].fillna('N', inplace=True)\n"
          ]
        }
      ],
      "source": [
        "# Handle any remaining missing values\n",
        "\n",
        "# df.isnull().sum()\n",
        "df['Airport_fee'].fillna(df['Airport_fee'].mean(), inplace=True)\n",
        "df['store_and_fwd_flag'].fillna('N', inplace=True)\n",
        "# df.head()\n"
      ]
    },
    {
      "cell_type": "markdown",
      "metadata": {
        "id": "2jyQyYIpCztl"
      },
      "source": [
        "### **2.3** Handling Outliers\n",
        "<font color = red>[10 marks]</font> <br>"
      ]
    },
    {
      "cell_type": "markdown",
      "metadata": {
        "id": "ZoVwZzuEMTHB"
      },
      "source": [
        "Before we start fixing outliers, let's perform outlier analysis."
      ]
    },
    {
      "cell_type": "code",
      "execution_count": 252,
      "metadata": {
        "id": "zHK5K6uV8XpU",
        "colab": {
          "base_uri": "https://localhost:8080/",
          "height": 320
        },
        "outputId": "3e1bc858-6082-4df4-b114-180e38324cf4"
      },
      "outputs": [
        {
          "output_type": "execute_result",
          "data": {
            "text/plain": [
              "            VendorID  passenger_count  trip_distance     RatecodeID  \\\n",
              "count  268147.000000    268147.000000  268147.000000  268147.000000   \n",
              "mean        1.736801         1.373765       4.349952       1.609170   \n",
              "std         0.444584         0.864686     266.247967       7.231496   \n",
              "min         1.000000         1.000000       0.000000       1.000000   \n",
              "25%         1.000000         1.000000       1.040000       1.000000   \n",
              "50%         2.000000         1.000000       1.780000       1.000000   \n",
              "75%         2.000000         1.000000       3.400000       1.000000   \n",
              "max         6.000000         6.000000  116439.710000      99.000000   \n",
              "\n",
              "        PULocationID   DOLocationID   payment_type    fare_amount  \\\n",
              "count  268147.000000  268147.000000  268147.000000  268147.000000   \n",
              "mean      165.026459     163.957374       1.186704      19.668181   \n",
              "std        64.087084      69.832195       0.556279      18.470748   \n",
              "min         1.000000       1.000000       0.000000       0.000000   \n",
              "25%       132.000000     114.000000       1.000000       9.300000   \n",
              "50%       162.000000     162.000000       1.000000      13.500000   \n",
              "75%       234.000000     234.000000       1.000000      21.900000   \n",
              "max       265.000000     265.000000       4.000000     715.600000   \n",
              "\n",
              "               extra        mta_tax     tip_amount   tolls_amount  \\\n",
              "count  268147.000000  268147.000000  268147.000000  268147.000000   \n",
              "mean        1.570828       0.490384       3.516496       0.590095   \n",
              "std         1.825942       0.068695       4.033967       2.159835   \n",
              "min         0.000000       0.000000       0.000000       0.000000   \n",
              "25%         0.000000       0.500000       1.000000       0.000000   \n",
              "50%         1.000000       0.500000       2.800000       0.000000   \n",
              "75%         2.500000       0.500000       4.400000       0.000000   \n",
              "max        11.750000       0.800000     126.350000      72.000000   \n",
              "\n",
              "       improvement_surcharge   total_amount  congestion_surcharge  \\\n",
              "count          268147.000000  268147.000000         268147.000000   \n",
              "mean                0.989229      28.644123              2.208900   \n",
              "std                 0.102591      23.057358              0.801881   \n",
              "min                 0.000000       0.000000              0.000000   \n",
              "25%                 1.000000      15.900000              2.500000   \n",
              "50%                 1.000000      21.000000              2.500000   \n",
              "75%                 1.000000      30.720000              2.500000   \n",
              "max                 1.000000     724.150000              2.500000   \n",
              "\n",
              "                hour    Airport_fee  \n",
              "count  268147.000000  268147.000000  \n",
              "mean       14.261733       0.141017  \n",
              "std         5.813137       0.454060  \n",
              "min         0.000000       0.000000  \n",
              "25%        11.000000       0.000000  \n",
              "50%        15.000000       0.000000  \n",
              "75%        19.000000       0.000000  \n",
              "max        23.000000       1.750000  "
            ],
            "text/html": [
              "\n",
              "  <div id=\"df-27040fd2-0a19-42b0-9ca1-f9581e14e701\" class=\"colab-df-container\">\n",
              "    <div>\n",
              "<style scoped>\n",
              "    .dataframe tbody tr th:only-of-type {\n",
              "        vertical-align: middle;\n",
              "    }\n",
              "\n",
              "    .dataframe tbody tr th {\n",
              "        vertical-align: top;\n",
              "    }\n",
              "\n",
              "    .dataframe thead th {\n",
              "        text-align: right;\n",
              "    }\n",
              "</style>\n",
              "<table border=\"1\" class=\"dataframe\">\n",
              "  <thead>\n",
              "    <tr style=\"text-align: right;\">\n",
              "      <th></th>\n",
              "      <th>VendorID</th>\n",
              "      <th>passenger_count</th>\n",
              "      <th>trip_distance</th>\n",
              "      <th>RatecodeID</th>\n",
              "      <th>PULocationID</th>\n",
              "      <th>DOLocationID</th>\n",
              "      <th>payment_type</th>\n",
              "      <th>fare_amount</th>\n",
              "      <th>extra</th>\n",
              "      <th>mta_tax</th>\n",
              "      <th>tip_amount</th>\n",
              "      <th>tolls_amount</th>\n",
              "      <th>improvement_surcharge</th>\n",
              "      <th>total_amount</th>\n",
              "      <th>congestion_surcharge</th>\n",
              "      <th>hour</th>\n",
              "      <th>Airport_fee</th>\n",
              "    </tr>\n",
              "  </thead>\n",
              "  <tbody>\n",
              "    <tr>\n",
              "      <th>count</th>\n",
              "      <td>268147.000000</td>\n",
              "      <td>268147.000000</td>\n",
              "      <td>268147.000000</td>\n",
              "      <td>268147.000000</td>\n",
              "      <td>268147.000000</td>\n",
              "      <td>268147.000000</td>\n",
              "      <td>268147.000000</td>\n",
              "      <td>268147.000000</td>\n",
              "      <td>268147.000000</td>\n",
              "      <td>268147.000000</td>\n",
              "      <td>268147.000000</td>\n",
              "      <td>268147.000000</td>\n",
              "      <td>268147.000000</td>\n",
              "      <td>268147.000000</td>\n",
              "      <td>268147.000000</td>\n",
              "      <td>268147.000000</td>\n",
              "      <td>268147.000000</td>\n",
              "    </tr>\n",
              "    <tr>\n",
              "      <th>mean</th>\n",
              "      <td>1.736801</td>\n",
              "      <td>1.373765</td>\n",
              "      <td>4.349952</td>\n",
              "      <td>1.609170</td>\n",
              "      <td>165.026459</td>\n",
              "      <td>163.957374</td>\n",
              "      <td>1.186704</td>\n",
              "      <td>19.668181</td>\n",
              "      <td>1.570828</td>\n",
              "      <td>0.490384</td>\n",
              "      <td>3.516496</td>\n",
              "      <td>0.590095</td>\n",
              "      <td>0.989229</td>\n",
              "      <td>28.644123</td>\n",
              "      <td>2.208900</td>\n",
              "      <td>14.261733</td>\n",
              "      <td>0.141017</td>\n",
              "    </tr>\n",
              "    <tr>\n",
              "      <th>std</th>\n",
              "      <td>0.444584</td>\n",
              "      <td>0.864686</td>\n",
              "      <td>266.247967</td>\n",
              "      <td>7.231496</td>\n",
              "      <td>64.087084</td>\n",
              "      <td>69.832195</td>\n",
              "      <td>0.556279</td>\n",
              "      <td>18.470748</td>\n",
              "      <td>1.825942</td>\n",
              "      <td>0.068695</td>\n",
              "      <td>4.033967</td>\n",
              "      <td>2.159835</td>\n",
              "      <td>0.102591</td>\n",
              "      <td>23.057358</td>\n",
              "      <td>0.801881</td>\n",
              "      <td>5.813137</td>\n",
              "      <td>0.454060</td>\n",
              "    </tr>\n",
              "    <tr>\n",
              "      <th>min</th>\n",
              "      <td>1.000000</td>\n",
              "      <td>1.000000</td>\n",
              "      <td>0.000000</td>\n",
              "      <td>1.000000</td>\n",
              "      <td>1.000000</td>\n",
              "      <td>1.000000</td>\n",
              "      <td>0.000000</td>\n",
              "      <td>0.000000</td>\n",
              "      <td>0.000000</td>\n",
              "      <td>0.000000</td>\n",
              "      <td>0.000000</td>\n",
              "      <td>0.000000</td>\n",
              "      <td>0.000000</td>\n",
              "      <td>0.000000</td>\n",
              "      <td>0.000000</td>\n",
              "      <td>0.000000</td>\n",
              "      <td>0.000000</td>\n",
              "    </tr>\n",
              "    <tr>\n",
              "      <th>25%</th>\n",
              "      <td>1.000000</td>\n",
              "      <td>1.000000</td>\n",
              "      <td>1.040000</td>\n",
              "      <td>1.000000</td>\n",
              "      <td>132.000000</td>\n",
              "      <td>114.000000</td>\n",
              "      <td>1.000000</td>\n",
              "      <td>9.300000</td>\n",
              "      <td>0.000000</td>\n",
              "      <td>0.500000</td>\n",
              "      <td>1.000000</td>\n",
              "      <td>0.000000</td>\n",
              "      <td>1.000000</td>\n",
              "      <td>15.900000</td>\n",
              "      <td>2.500000</td>\n",
              "      <td>11.000000</td>\n",
              "      <td>0.000000</td>\n",
              "    </tr>\n",
              "    <tr>\n",
              "      <th>50%</th>\n",
              "      <td>2.000000</td>\n",
              "      <td>1.000000</td>\n",
              "      <td>1.780000</td>\n",
              "      <td>1.000000</td>\n",
              "      <td>162.000000</td>\n",
              "      <td>162.000000</td>\n",
              "      <td>1.000000</td>\n",
              "      <td>13.500000</td>\n",
              "      <td>1.000000</td>\n",
              "      <td>0.500000</td>\n",
              "      <td>2.800000</td>\n",
              "      <td>0.000000</td>\n",
              "      <td>1.000000</td>\n",
              "      <td>21.000000</td>\n",
              "      <td>2.500000</td>\n",
              "      <td>15.000000</td>\n",
              "      <td>0.000000</td>\n",
              "    </tr>\n",
              "    <tr>\n",
              "      <th>75%</th>\n",
              "      <td>2.000000</td>\n",
              "      <td>1.000000</td>\n",
              "      <td>3.400000</td>\n",
              "      <td>1.000000</td>\n",
              "      <td>234.000000</td>\n",
              "      <td>234.000000</td>\n",
              "      <td>1.000000</td>\n",
              "      <td>21.900000</td>\n",
              "      <td>2.500000</td>\n",
              "      <td>0.500000</td>\n",
              "      <td>4.400000</td>\n",
              "      <td>0.000000</td>\n",
              "      <td>1.000000</td>\n",
              "      <td>30.720000</td>\n",
              "      <td>2.500000</td>\n",
              "      <td>19.000000</td>\n",
              "      <td>0.000000</td>\n",
              "    </tr>\n",
              "    <tr>\n",
              "      <th>max</th>\n",
              "      <td>6.000000</td>\n",
              "      <td>6.000000</td>\n",
              "      <td>116439.710000</td>\n",
              "      <td>99.000000</td>\n",
              "      <td>265.000000</td>\n",
              "      <td>265.000000</td>\n",
              "      <td>4.000000</td>\n",
              "      <td>715.600000</td>\n",
              "      <td>11.750000</td>\n",
              "      <td>0.800000</td>\n",
              "      <td>126.350000</td>\n",
              "      <td>72.000000</td>\n",
              "      <td>1.000000</td>\n",
              "      <td>724.150000</td>\n",
              "      <td>2.500000</td>\n",
              "      <td>23.000000</td>\n",
              "      <td>1.750000</td>\n",
              "    </tr>\n",
              "  </tbody>\n",
              "</table>\n",
              "</div>\n",
              "    <div class=\"colab-df-buttons\">\n",
              "\n",
              "  <div class=\"colab-df-container\">\n",
              "    <button class=\"colab-df-convert\" onclick=\"convertToInteractive('df-27040fd2-0a19-42b0-9ca1-f9581e14e701')\"\n",
              "            title=\"Convert this dataframe to an interactive table.\"\n",
              "            style=\"display:none;\">\n",
              "\n",
              "  <svg xmlns=\"http://www.w3.org/2000/svg\" height=\"24px\" viewBox=\"0 -960 960 960\">\n",
              "    <path d=\"M120-120v-720h720v720H120Zm60-500h600v-160H180v160Zm220 220h160v-160H400v160Zm0 220h160v-160H400v160ZM180-400h160v-160H180v160Zm440 0h160v-160H620v160ZM180-180h160v-160H180v160Zm440 0h160v-160H620v160Z\"/>\n",
              "  </svg>\n",
              "    </button>\n",
              "\n",
              "  <style>\n",
              "    .colab-df-container {\n",
              "      display:flex;\n",
              "      gap: 12px;\n",
              "    }\n",
              "\n",
              "    .colab-df-convert {\n",
              "      background-color: #E8F0FE;\n",
              "      border: none;\n",
              "      border-radius: 50%;\n",
              "      cursor: pointer;\n",
              "      display: none;\n",
              "      fill: #1967D2;\n",
              "      height: 32px;\n",
              "      padding: 0 0 0 0;\n",
              "      width: 32px;\n",
              "    }\n",
              "\n",
              "    .colab-df-convert:hover {\n",
              "      background-color: #E2EBFA;\n",
              "      box-shadow: 0px 1px 2px rgba(60, 64, 67, 0.3), 0px 1px 3px 1px rgba(60, 64, 67, 0.15);\n",
              "      fill: #174EA6;\n",
              "    }\n",
              "\n",
              "    .colab-df-buttons div {\n",
              "      margin-bottom: 4px;\n",
              "    }\n",
              "\n",
              "    [theme=dark] .colab-df-convert {\n",
              "      background-color: #3B4455;\n",
              "      fill: #D2E3FC;\n",
              "    }\n",
              "\n",
              "    [theme=dark] .colab-df-convert:hover {\n",
              "      background-color: #434B5C;\n",
              "      box-shadow: 0px 1px 3px 1px rgba(0, 0, 0, 0.15);\n",
              "      filter: drop-shadow(0px 1px 2px rgba(0, 0, 0, 0.3));\n",
              "      fill: #FFFFFF;\n",
              "    }\n",
              "  </style>\n",
              "\n",
              "    <script>\n",
              "      const buttonEl =\n",
              "        document.querySelector('#df-27040fd2-0a19-42b0-9ca1-f9581e14e701 button.colab-df-convert');\n",
              "      buttonEl.style.display =\n",
              "        google.colab.kernel.accessAllowed ? 'block' : 'none';\n",
              "\n",
              "      async function convertToInteractive(key) {\n",
              "        const element = document.querySelector('#df-27040fd2-0a19-42b0-9ca1-f9581e14e701');\n",
              "        const dataTable =\n",
              "          await google.colab.kernel.invokeFunction('convertToInteractive',\n",
              "                                                    [key], {});\n",
              "        if (!dataTable) return;\n",
              "\n",
              "        const docLinkHtml = 'Like what you see? Visit the ' +\n",
              "          '<a target=\"_blank\" href=https://colab.research.google.com/notebooks/data_table.ipynb>data table notebook</a>'\n",
              "          + ' to learn more about interactive tables.';\n",
              "        element.innerHTML = '';\n",
              "        dataTable['output_type'] = 'display_data';\n",
              "        await google.colab.output.renderOutput(dataTable, element);\n",
              "        const docLink = document.createElement('div');\n",
              "        docLink.innerHTML = docLinkHtml;\n",
              "        element.appendChild(docLink);\n",
              "      }\n",
              "    </script>\n",
              "  </div>\n",
              "\n",
              "\n",
              "    <div id=\"df-3a255510-9918-4f93-9583-f4a364d197cf\">\n",
              "      <button class=\"colab-df-quickchart\" onclick=\"quickchart('df-3a255510-9918-4f93-9583-f4a364d197cf')\"\n",
              "                title=\"Suggest charts\"\n",
              "                style=\"display:none;\">\n",
              "\n",
              "<svg xmlns=\"http://www.w3.org/2000/svg\" height=\"24px\"viewBox=\"0 0 24 24\"\n",
              "     width=\"24px\">\n",
              "    <g>\n",
              "        <path d=\"M19 3H5c-1.1 0-2 .9-2 2v14c0 1.1.9 2 2 2h14c1.1 0 2-.9 2-2V5c0-1.1-.9-2-2-2zM9 17H7v-7h2v7zm4 0h-2V7h2v10zm4 0h-2v-4h2v4z\"/>\n",
              "    </g>\n",
              "</svg>\n",
              "      </button>\n",
              "\n",
              "<style>\n",
              "  .colab-df-quickchart {\n",
              "      --bg-color: #E8F0FE;\n",
              "      --fill-color: #1967D2;\n",
              "      --hover-bg-color: #E2EBFA;\n",
              "      --hover-fill-color: #174EA6;\n",
              "      --disabled-fill-color: #AAA;\n",
              "      --disabled-bg-color: #DDD;\n",
              "  }\n",
              "\n",
              "  [theme=dark] .colab-df-quickchart {\n",
              "      --bg-color: #3B4455;\n",
              "      --fill-color: #D2E3FC;\n",
              "      --hover-bg-color: #434B5C;\n",
              "      --hover-fill-color: #FFFFFF;\n",
              "      --disabled-bg-color: #3B4455;\n",
              "      --disabled-fill-color: #666;\n",
              "  }\n",
              "\n",
              "  .colab-df-quickchart {\n",
              "    background-color: var(--bg-color);\n",
              "    border: none;\n",
              "    border-radius: 50%;\n",
              "    cursor: pointer;\n",
              "    display: none;\n",
              "    fill: var(--fill-color);\n",
              "    height: 32px;\n",
              "    padding: 0;\n",
              "    width: 32px;\n",
              "  }\n",
              "\n",
              "  .colab-df-quickchart:hover {\n",
              "    background-color: var(--hover-bg-color);\n",
              "    box-shadow: 0 1px 2px rgba(60, 64, 67, 0.3), 0 1px 3px 1px rgba(60, 64, 67, 0.15);\n",
              "    fill: var(--button-hover-fill-color);\n",
              "  }\n",
              "\n",
              "  .colab-df-quickchart-complete:disabled,\n",
              "  .colab-df-quickchart-complete:disabled:hover {\n",
              "    background-color: var(--disabled-bg-color);\n",
              "    fill: var(--disabled-fill-color);\n",
              "    box-shadow: none;\n",
              "  }\n",
              "\n",
              "  .colab-df-spinner {\n",
              "    border: 2px solid var(--fill-color);\n",
              "    border-color: transparent;\n",
              "    border-bottom-color: var(--fill-color);\n",
              "    animation:\n",
              "      spin 1s steps(1) infinite;\n",
              "  }\n",
              "\n",
              "  @keyframes spin {\n",
              "    0% {\n",
              "      border-color: transparent;\n",
              "      border-bottom-color: var(--fill-color);\n",
              "      border-left-color: var(--fill-color);\n",
              "    }\n",
              "    20% {\n",
              "      border-color: transparent;\n",
              "      border-left-color: var(--fill-color);\n",
              "      border-top-color: var(--fill-color);\n",
              "    }\n",
              "    30% {\n",
              "      border-color: transparent;\n",
              "      border-left-color: var(--fill-color);\n",
              "      border-top-color: var(--fill-color);\n",
              "      border-right-color: var(--fill-color);\n",
              "    }\n",
              "    40% {\n",
              "      border-color: transparent;\n",
              "      border-right-color: var(--fill-color);\n",
              "      border-top-color: var(--fill-color);\n",
              "    }\n",
              "    60% {\n",
              "      border-color: transparent;\n",
              "      border-right-color: var(--fill-color);\n",
              "    }\n",
              "    80% {\n",
              "      border-color: transparent;\n",
              "      border-right-color: var(--fill-color);\n",
              "      border-bottom-color: var(--fill-color);\n",
              "    }\n",
              "    90% {\n",
              "      border-color: transparent;\n",
              "      border-bottom-color: var(--fill-color);\n",
              "    }\n",
              "  }\n",
              "</style>\n",
              "\n",
              "      <script>\n",
              "        async function quickchart(key) {\n",
              "          const quickchartButtonEl =\n",
              "            document.querySelector('#' + key + ' button');\n",
              "          quickchartButtonEl.disabled = true;  // To prevent multiple clicks.\n",
              "          quickchartButtonEl.classList.add('colab-df-spinner');\n",
              "          try {\n",
              "            const charts = await google.colab.kernel.invokeFunction(\n",
              "                'suggestCharts', [key], {});\n",
              "          } catch (error) {\n",
              "            console.error('Error during call to suggestCharts:', error);\n",
              "          }\n",
              "          quickchartButtonEl.classList.remove('colab-df-spinner');\n",
              "          quickchartButtonEl.classList.add('colab-df-quickchart-complete');\n",
              "        }\n",
              "        (() => {\n",
              "          let quickchartButtonEl =\n",
              "            document.querySelector('#df-3a255510-9918-4f93-9583-f4a364d197cf button');\n",
              "          quickchartButtonEl.style.display =\n",
              "            google.colab.kernel.accessAllowed ? 'block' : 'none';\n",
              "        })();\n",
              "      </script>\n",
              "    </div>\n",
              "\n",
              "    </div>\n",
              "  </div>\n"
            ],
            "application/vnd.google.colaboratory.intrinsic+json": {
              "type": "dataframe",
              "summary": "{\n  \"name\": \"df\",\n  \"rows\": 8,\n  \"fields\": [\n    {\n      \"column\": \"VendorID\",\n      \"properties\": {\n        \"dtype\": \"number\",\n        \"std\": 94803.56477471677,\n        \"min\": 0.44458439237796815,\n        \"max\": 268147.0,\n        \"num_unique_values\": 6,\n        \"samples\": [\n          268147.0,\n          1.7368010829880625,\n          6.0\n        ],\n        \"semantic_type\": \"\",\n        \"description\": \"\"\n      }\n    },\n    {\n      \"column\": \"passenger_count\",\n      \"properties\": {\n        \"dtype\": \"number\",\n        \"std\": 94803.66290830358,\n        \"min\": 0.8646856937014652,\n        \"max\": 268147.0,\n        \"num_unique_values\": 5,\n        \"samples\": [\n          1.3737651362871857,\n          6.0,\n          0.8646856937014652\n        ],\n        \"semantic_type\": \"\",\n        \"description\": \"\"\n      }\n    },\n    {\n      \"column\": \"trip_distance\",\n      \"properties\": {\n        \"dtype\": \"number\",\n        \"std\": 97794.31673991425,\n        \"min\": 0.0,\n        \"max\": 268147.0,\n        \"num_unique_values\": 8,\n        \"samples\": [\n          4.349951556422409,\n          1.78,\n          268147.0\n        ],\n        \"semantic_type\": \"\",\n        \"description\": \"\"\n      }\n    },\n    {\n      \"column\": \"RatecodeID\",\n      \"properties\": {\n        \"dtype\": \"number\",\n        \"std\": 94798.63830356022,\n        \"min\": 1.0,\n        \"max\": 268147.0,\n        \"num_unique_values\": 5,\n        \"samples\": [\n          1.6091695972731375,\n          99.0,\n          7.231496194183191\n        ],\n        \"semantic_type\": \"\",\n        \"description\": \"\"\n      }\n    },\n    {\n      \"column\": \"PULocationID\",\n      \"properties\": {\n        \"dtype\": \"number\",\n        \"std\": 94752.64402397219,\n        \"min\": 1.0,\n        \"max\": 268147.0,\n        \"num_unique_values\": 8,\n        \"samples\": [\n          165.02645936743653,\n          162.0,\n          268147.0\n        ],\n        \"semantic_type\": \"\",\n        \"description\": \"\"\n      }\n    },\n    {\n      \"column\": \"DOLocationID\",\n      \"properties\": {\n        \"dtype\": \"number\",\n        \"std\": 94753.31687985272,\n        \"min\": 1.0,\n        \"max\": 268147.0,\n        \"num_unique_values\": 8,\n        \"samples\": [\n          163.95737412687816,\n          162.0,\n          268147.0\n        ],\n        \"semantic_type\": \"\",\n        \"description\": \"\"\n      }\n    },\n    {\n      \"column\": \"payment_type\",\n      \"properties\": {\n        \"dtype\": \"number\",\n        \"std\": 94803.83944747919,\n        \"min\": 0.0,\n        \"max\": 268147.0,\n        \"num_unique_values\": 6,\n        \"samples\": [\n          268147.0,\n          1.1867035618522677,\n          4.0\n        ],\n        \"semantic_type\": \"\",\n        \"description\": \"\"\n      }\n    },\n    {\n      \"column\": \"fare_amount\",\n      \"properties\": {\n        \"dtype\": \"number\",\n        \"std\": 94764.2722222339,\n        \"min\": 0.0,\n        \"max\": 268147.0,\n        \"num_unique_values\": 8,\n        \"samples\": [\n          19.66818066209952,\n          13.5,\n          268147.0\n        ],\n        \"semantic_type\": \"\",\n        \"description\": \"\"\n      }\n    },\n    {\n      \"column\": \"extra\",\n      \"properties\": {\n        \"dtype\": \"number\",\n        \"std\": 94803.33929973794,\n        \"min\": 0.0,\n        \"max\": 268147.0,\n        \"num_unique_values\": 7,\n        \"samples\": [\n          268147.0,\n          1.5708282024411984,\n          2.5\n        ],\n        \"semantic_type\": \"\",\n        \"description\": \"\"\n      }\n    },\n    {\n      \"column\": \"mta_tax\",\n      \"properties\": {\n        \"dtype\": \"number\",\n        \"std\": 94804.13662250068,\n        \"min\": 0.0,\n        \"max\": 268147.0,\n        \"num_unique_values\": 6,\n        \"samples\": [\n          268147.0,\n          0.49038363285809655,\n          0.8\n        ],\n        \"semantic_type\": \"\",\n        \"description\": \"\"\n      }\n    },\n    {\n      \"column\": \"tip_amount\",\n      \"properties\": {\n        \"dtype\": \"number\",\n        \"std\": 94797.11376842909,\n        \"min\": 0.0,\n        \"max\": 268147.0,\n        \"num_unique_values\": 8,\n        \"samples\": [\n          3.5164956907964657,\n          2.8,\n          268147.0\n        ],\n        \"semantic_type\": \"\",\n        \"description\": \"\"\n      }\n    },\n    {\n      \"column\": \"tolls_amount\",\n      \"properties\": {\n        \"dtype\": \"number\",\n        \"std\": 94800.50889410893,\n        \"min\": 0.0,\n        \"max\": 268147.0,\n        \"num_unique_values\": 5,\n        \"samples\": [\n          0.5900945749905835,\n          72.0,\n          2.159835424733242\n        ],\n        \"semantic_type\": \"\",\n        \"description\": \"\"\n      }\n    },\n    {\n      \"column\": \"improvement_surcharge\",\n      \"properties\": {\n        \"dtype\": \"number\",\n        \"std\": 94804.0238526179,\n        \"min\": 0.0,\n        \"max\": 268147.0,\n        \"num_unique_values\": 5,\n        \"samples\": [\n          0.9892290422790482,\n          1.0,\n          0.10259132576616282\n        ],\n        \"semantic_type\": \"\",\n        \"description\": \"\"\n      }\n    },\n    {\n      \"column\": \"total_amount\",\n      \"properties\": {\n        \"dtype\": \"number\",\n        \"std\": 94762.00020008312,\n        \"min\": 0.0,\n        \"max\": 268147.0,\n        \"num_unique_values\": 8,\n        \"samples\": [\n          28.644123186162815,\n          21.0,\n          268147.0\n        ],\n        \"semantic_type\": \"\",\n        \"description\": \"\"\n      }\n    },\n    {\n      \"column\": \"congestion_surcharge\",\n      \"properties\": {\n        \"dtype\": \"number\",\n        \"std\": 94803.62388851601,\n        \"min\": 0.0,\n        \"max\": 268147.0,\n        \"num_unique_values\": 5,\n        \"samples\": [\n          2.2089003419766025,\n          2.5,\n          0.8018806221259226\n        ],\n        \"semantic_type\": \"\",\n        \"description\": \"\"\n      }\n    },\n    {\n      \"column\": \"hour\",\n      \"properties\": {\n        \"dtype\": \"number\",\n        \"std\": 94799.8328497364,\n        \"min\": 0.0,\n        \"max\": 268147.0,\n        \"num_unique_values\": 8,\n        \"samples\": [\n          14.261733303001712,\n          15.0,\n          268147.0\n        ],\n        \"semantic_type\": \"\",\n        \"description\": \"\"\n      }\n    },\n    {\n      \"column\": \"Airport_fee\",\n      \"properties\": {\n        \"dtype\": \"number\",\n        \"std\": 94804.1625850387,\n        \"min\": 0.0,\n        \"max\": 268147.0,\n        \"num_unique_values\": 5,\n        \"samples\": [\n          0.14101668587255284,\n          1.75,\n          0.4540600513002865\n        ],\n        \"semantic_type\": \"\",\n        \"description\": \"\"\n      }\n    }\n  ]\n}"
            }
          },
          "metadata": {},
          "execution_count": 252
        }
      ],
      "source": [
        "# Describe the data and check if there are any potential outliers present\n",
        "# Check for potential out of place values in various columns\n",
        "# df.isna().sum()\n",
        "# df.isnull().sum()\n",
        "df.describe()"
      ]
    },
    {
      "cell_type": "markdown",
      "metadata": {
        "id": "4XDuLkufyJ2g"
      },
      "source": [
        "**2.3.1**  <font color = red>[10 marks]</font> <br>\n",
        "Based on the above analysis, it seems that some of the outliers are present due to errors in registering the trips. Fix the outliers.\n",
        "\n",
        "Some points you can look for:\n",
        "- Entries where `trip_distance` is nearly 0 and `fare_amount` is more than 300\n",
        "- Entries where `trip_distance` and `fare_amount` are 0 but the pickup and dropoff zones are different (both distance and fare should not be zero for different zones)\n",
        "- Entries where `trip_distance` is more than 250  miles.\n",
        "- Entries where `payment_type` is 0 (there is no payment_type 0 defined in the data dictionary)\n",
        "\n",
        "These are just some suggestions. You can handle outliers in any way you wish, using the insights from above outlier analysis."
      ]
    },
    {
      "cell_type": "markdown",
      "metadata": {
        "id": "u-YNHI8tea9c"
      },
      "source": [
        "How will you fix each of these values? Which ones will you drop and which ones will you replace?"
      ]
    },
    {
      "cell_type": "markdown",
      "metadata": {
        "id": "Ap4IfwXO4yZe"
      },
      "source": [
        "First, let us remove 7+ passenger counts as there are very less instances."
      ]
    },
    {
      "cell_type": "code",
      "execution_count": 250,
      "metadata": {
        "id": "XfsOFY5y9-fA",
        "colab": {
          "base_uri": "https://localhost:8080/",
          "height": 303
        },
        "outputId": "f2af2782-6b00-44ef-8e58-c43d982f4279"
      },
      "outputs": [
        {
          "output_type": "execute_result",
          "data": {
            "text/plain": [
              "passenger_count\n",
              "1.0    207742\n",
              "2.0     39572\n",
              "3.0      9674\n",
              "4.0      5562\n",
              "5.0      3367\n",
              "6.0      2230\n",
              "Name: count, dtype: int64"
            ],
            "text/html": [
              "<div>\n",
              "<style scoped>\n",
              "    .dataframe tbody tr th:only-of-type {\n",
              "        vertical-align: middle;\n",
              "    }\n",
              "\n",
              "    .dataframe tbody tr th {\n",
              "        vertical-align: top;\n",
              "    }\n",
              "\n",
              "    .dataframe thead th {\n",
              "        text-align: right;\n",
              "    }\n",
              "</style>\n",
              "<table border=\"1\" class=\"dataframe\">\n",
              "  <thead>\n",
              "    <tr style=\"text-align: right;\">\n",
              "      <th></th>\n",
              "      <th>count</th>\n",
              "    </tr>\n",
              "    <tr>\n",
              "      <th>passenger_count</th>\n",
              "      <th></th>\n",
              "    </tr>\n",
              "  </thead>\n",
              "  <tbody>\n",
              "    <tr>\n",
              "      <th>1.0</th>\n",
              "      <td>207742</td>\n",
              "    </tr>\n",
              "    <tr>\n",
              "      <th>2.0</th>\n",
              "      <td>39572</td>\n",
              "    </tr>\n",
              "    <tr>\n",
              "      <th>3.0</th>\n",
              "      <td>9674</td>\n",
              "    </tr>\n",
              "    <tr>\n",
              "      <th>4.0</th>\n",
              "      <td>5562</td>\n",
              "    </tr>\n",
              "    <tr>\n",
              "      <th>5.0</th>\n",
              "      <td>3367</td>\n",
              "    </tr>\n",
              "    <tr>\n",
              "      <th>6.0</th>\n",
              "      <td>2230</td>\n",
              "    </tr>\n",
              "  </tbody>\n",
              "</table>\n",
              "</div><br><label><b>dtype:</b> int64</label>"
            ]
          },
          "metadata": {},
          "execution_count": 250
        }
      ],
      "source": [
        "# remove passenger_count > 6\n",
        "df = df[df['passenger_count'] <= 6]\n",
        "df = df[df['trip_distance'] >= 1 and df['fare_amount'] < 300 and df['PULocationID'] != df['DOLocationID']]\n",
        "df = df[df['trip_distance'] != 0 and df['fare_amount'] != 0]\n",
        "df = df[df['trip_distance'] < 250]\n",
        "df = df[df['payment_type'] != 0]\n",
        "\n",
        "\n",
        "\n",
        "df['passenger_count'].value_counts()"
      ]
    },
    {
      "cell_type": "code",
      "execution_count": null,
      "metadata": {
        "id": "FCUNe3tu8bie"
      },
      "outputs": [],
      "source": [
        "# Continue with outlier handling\n",
        "\n"
      ]
    },
    {
      "cell_type": "code",
      "execution_count": null,
      "metadata": {
        "id": "PuzQXfuT8YKV"
      },
      "outputs": [],
      "source": [
        "# Do any columns need standardising?\n",
        "\n"
      ]
    },
    {
      "cell_type": "markdown",
      "metadata": {
        "id": "gPpJyFFNffcL"
      },
      "source": [
        "## **3** Exploratory Data Analysis\n",
        "<font color = red>[90 marks]</font> <br>"
      ]
    },
    {
      "cell_type": "code",
      "execution_count": 28,
      "metadata": {
        "id": "cl-0PcYTfkqh",
        "colab": {
          "base_uri": "https://localhost:8080/"
        },
        "outputId": "5de4c738-26c5-4a91-e74b-62a5eb4db4c8"
      },
      "outputs": [
        {
          "output_type": "execute_result",
          "data": {
            "text/plain": [
              "['VendorID',\n",
              " 'tpep_pickup_datetime',\n",
              " 'tpep_dropoff_datetime',\n",
              " 'passenger_count',\n",
              " 'trip_distance',\n",
              " 'RatecodeID',\n",
              " 'store_and_fwd_flag',\n",
              " 'PULocationID',\n",
              " 'DOLocationID',\n",
              " 'payment_type',\n",
              " 'fare_amount',\n",
              " 'extra',\n",
              " 'mta_tax',\n",
              " 'tip_amount',\n",
              " 'tolls_amount',\n",
              " 'improvement_surcharge',\n",
              " 'total_amount',\n",
              " 'congestion_surcharge',\n",
              " 'airport_fee',\n",
              " 'date',\n",
              " 'hour',\n",
              " 'Airport_fee']"
            ]
          },
          "metadata": {},
          "execution_count": 28
        }
      ],
      "source": [
        "df.columns.tolist()"
      ]
    },
    {
      "cell_type": "markdown",
      "metadata": {
        "id": "a4N3PvkSTwcN"
      },
      "source": [
        "#### **3.1** General EDA: Finding Patterns and Trends\n",
        "<font color = red>[40 marks]</font> <br>"
      ]
    },
    {
      "cell_type": "markdown",
      "metadata": {
        "id": "9hwonDfZTJO6"
      },
      "source": [
        "**3.1.1** <font color = red>[3 marks]</font> <br>\n",
        "Categorise the varaibles into Numerical or Categorical.\n",
        "* `VendorID`:\n",
        "* `tpep_pickup_datetime`:\n",
        "* `tpep_dropoff_datetime`:\n",
        "* `passenger_count`:\n",
        "* `trip_distance`:\n",
        "* `RatecodeID`:\n",
        "* `PULocationID`:\n",
        "* `DOLocationID`:\n",
        "* `payment_type`:\n",
        "* `pickup_hour`:\n",
        "* `trip_duration`:\n",
        "\n",
        "\n",
        "The following monetary parameters belong in the same category, is it categorical or numerical?\n",
        "\n",
        "\n",
        "* `fare_amount`\n",
        "* `extra`\n",
        "* `mta_tax`\n",
        "* `tip_amount`\n",
        "* `tolls_amount`\n",
        "* `improvement_surcharge`\n",
        "* `total_amount`\n",
        "* `congestion_surcharge`\n",
        "* `airport_fee`"
      ]
    },
    {
      "cell_type": "markdown",
      "metadata": {
        "id": "MbGMjArkiXjL"
      },
      "source": [
        "##### Temporal Analysis"
      ]
    },
    {
      "cell_type": "markdown",
      "metadata": {
        "id": "ZCCbmQ49s2qj"
      },
      "source": [
        "**3.1.2** <font color = red>[5 marks]</font> <br>\n",
        "Analyse the distribution of taxi pickups by hours, days of the week, and months."
      ]
    },
    {
      "cell_type": "code",
      "execution_count": 29,
      "metadata": {
        "id": "RwgWN_MWg0Au"
      },
      "outputs": [],
      "source": [
        "# Find and show the hourly trends in taxi pickups\n",
        "\n"
      ]
    },
    {
      "cell_type": "code",
      "execution_count": 30,
      "metadata": {
        "id": "R64b8zfkG5OK"
      },
      "outputs": [],
      "source": [
        "# Find and show the daily trends in taxi pickups (days of the week)\n",
        "\n"
      ]
    },
    {
      "cell_type": "code",
      "execution_count": 31,
      "metadata": {
        "id": "H7V-jmRQG5hJ"
      },
      "outputs": [],
      "source": [
        "# Show the monthly trends in pickups\n",
        "\n"
      ]
    },
    {
      "cell_type": "markdown",
      "metadata": {
        "id": "23IqsgNjHNpJ"
      },
      "source": [
        "##### Financial Analysis"
      ]
    },
    {
      "cell_type": "markdown",
      "metadata": {
        "id": "fRaO-3NqHSM6"
      },
      "source": [
        "Take a look at the financial parameters like `fare_amount`, `tip_amount`, `total_amount`, and also `trip_distance`. Do these contain zero/negative values?"
      ]
    },
    {
      "cell_type": "code",
      "execution_count": 32,
      "metadata": {
        "id": "Z7JUnPeRHRqF"
      },
      "outputs": [],
      "source": [
        "# Analyse the above parameters\n",
        "\n"
      ]
    },
    {
      "cell_type": "markdown",
      "metadata": {
        "id": "dbOS_-GDJTyv"
      },
      "source": [
        "Do you think it is beneficial to create a copy DataFrame leaving out the zero values from these?"
      ]
    },
    {
      "cell_type": "markdown",
      "metadata": {
        "id": "YDN14J63o9gV"
      },
      "source": [
        "**3.1.3** <font color = red>[2 marks]</font> <br>\n",
        "Filter out the zero values from the above columns.\n",
        "\n",
        "**Note:** The distance might be 0 in cases where pickup and drop is in the same zone. Do you think it is suitable to drop such cases of zero distance?"
      ]
    },
    {
      "cell_type": "code",
      "execution_count": 33,
      "metadata": {
        "id": "5mk7Yp41JqJd"
      },
      "outputs": [],
      "source": [
        "# Create a df with non zero entries for the selected parameters.\n",
        "\n"
      ]
    },
    {
      "cell_type": "markdown",
      "metadata": {
        "id": "kJcgwyrtKivH"
      },
      "source": [
        "**3.1.4** <font color = red>[3 marks]</font> <br>\n",
        "Analyse the monthly revenue (`total_amount`) trend"
      ]
    },
    {
      "cell_type": "code",
      "execution_count": 34,
      "metadata": {
        "id": "U_gl8rBD6ZH0"
      },
      "outputs": [],
      "source": [
        "# Group data by month and analyse monthly revenue\n",
        "\n"
      ]
    },
    {
      "cell_type": "markdown",
      "metadata": {
        "id": "3vQHosTZLalB"
      },
      "source": [
        "**3.1.5** <font color = red>[3 marks]</font> <br>\n",
        "Show the proportion of each quarter of the year in the revenue"
      ]
    },
    {
      "cell_type": "code",
      "execution_count": 35,
      "metadata": {
        "id": "foV9BpFbVTbu"
      },
      "outputs": [],
      "source": [
        "# Calculate proportion of each quarter\n",
        "\n"
      ]
    },
    {
      "cell_type": "markdown",
      "metadata": {
        "id": "JncXEPjBLyHp"
      },
      "source": [
        "**3.1.6** <font color = red>[3 marks]</font> <br>\n",
        "Visualise the relationship between `trip_distance` and `fare_amount`. Also find the correlation value for these two.\n",
        "\n",
        "**Hint:** You can leave out the trips with trip_distance = 0"
      ]
    },
    {
      "cell_type": "code",
      "execution_count": 36,
      "metadata": {
        "id": "-z8Fegh_P5At"
      },
      "outputs": [],
      "source": [
        "# Show how trip fare is affected by distance\n",
        "\n"
      ]
    },
    {
      "cell_type": "markdown",
      "metadata": {
        "id": "-OGNFTX4QdeS"
      },
      "source": [
        "**3.1.7** <font color = red>[5 marks]</font> <br>\n",
        "Find and visualise the correlation between:\n",
        "1. `fare_amount` and trip duration (pickup time to dropoff time)\n",
        "2. `fare_amount` and `passenger_count`\n",
        "3. `tip_amount` and `trip_distance`"
      ]
    },
    {
      "cell_type": "code",
      "execution_count": 37,
      "metadata": {
        "id": "EtSNqFw19TB3"
      },
      "outputs": [],
      "source": [
        "# Show relationship between fare and trip duration\n",
        "\n"
      ]
    },
    {
      "cell_type": "code",
      "execution_count": 38,
      "metadata": {
        "id": "oTrlXiBm9TB3"
      },
      "outputs": [],
      "source": [
        "# Show relationship between fare and number of passengers\n",
        "\n"
      ]
    },
    {
      "cell_type": "code",
      "execution_count": 39,
      "metadata": {
        "id": "Lph7rakc9TB3"
      },
      "outputs": [],
      "source": [
        "# Show relationship between tip and trip distance\n",
        "\n"
      ]
    },
    {
      "cell_type": "markdown",
      "metadata": {
        "id": "3EL5CU47QJ5u"
      },
      "source": [
        "**3.1.8** <font color = red>[3 marks]</font> <br>\n",
        "Analyse the distribution of different payment types (`payment_type`)"
      ]
    },
    {
      "cell_type": "code",
      "execution_count": 40,
      "metadata": {
        "id": "pknOiYLp9Wnd"
      },
      "outputs": [],
      "source": [
        "# Analyse the distribution of different payment types (payment_type).\n",
        "\n",
        "\n"
      ]
    },
    {
      "cell_type": "markdown",
      "metadata": {
        "id": "PxxbUmSZ9Wne"
      },
      "source": [
        "- 1= Credit card\n",
        "- 2= Cash\n",
        "- 3= No charge\n",
        "- 4= Dispute\n",
        "\n"
      ]
    },
    {
      "cell_type": "markdown",
      "metadata": {
        "id": "CVXxcSYHj9sh"
      },
      "source": [
        "##### Geographical Analysis"
      ]
    },
    {
      "cell_type": "markdown",
      "metadata": {
        "id": "tvBXuYW7kEyS"
      },
      "source": [
        "For this, you have to use the *taxi_zones.shp* file from the *taxi_zones* folder.\n",
        "\n",
        "There would be multiple files inside the folder (such as *.shx, .sbx, .sbn* etc). You do not need to import/read any of the files other than the shapefile, *taxi_zones.shp*.\n",
        "\n",
        "Do not change any folder structure - all the files need to be present inside the folder for it to work.\n",
        "\n",
        "The folder structure should look like this:\n",
        "```\n",
        "Taxi Zones\n",
        "|- taxi_zones.shp.xml\n",
        "|- taxi_zones.prj\n",
        "|- taxi_zones.sbn\n",
        "|- taxi_zones.shp\n",
        "|- taxi_zones.dbf\n",
        "|- taxi_zones.shx\n",
        "|- taxi_zones.sbx\n",
        "\n",
        " ```\n",
        "\n",
        " You only need to read the `taxi_zones.shp` file. The *shp* file will utilise the other files by itself."
      ]
    },
    {
      "cell_type": "markdown",
      "metadata": {
        "id": "hR8f8ypXUtxJ"
      },
      "source": [
        "We will use the *GeoPandas* library for geopgraphical analysis\n",
        "```\n",
        "import geopandas as gpd\n",
        "```\n",
        "\n",
        "More about geopandas and shapefiles: [About](https://geopandas.org/en/stable/about.html)\n",
        "\n",
        "\n",
        "Reading the shapefile is very similar to *Pandas*. Use `gpd.read_file()` function to load the data (*taxi_zones.shp*) as a GeoDataFrame. Documentation: [Reading and Writing Files](https://geopandas.org/en/stable/docs/user_guide/io.html)"
      ]
    },
    {
      "cell_type": "code",
      "execution_count": 41,
      "metadata": {
        "id": "FJ76QD9IXNz8"
      },
      "outputs": [],
      "source": [
        "# !pip install geopandas"
      ]
    },
    {
      "cell_type": "markdown",
      "metadata": {
        "id": "q_QpZLl_WU-b"
      },
      "source": [
        "**3.1.9** <font color = red>[2 marks]</font> <br>\n",
        "Load the shapefile and display it."
      ]
    },
    {
      "cell_type": "code",
      "execution_count": 42,
      "metadata": {
        "id": "hLyVd3TQkCdG",
        "colab": {
          "base_uri": "https://localhost:8080/",
          "height": 106
        },
        "outputId": "764ff939-bef7-48b1-c1a6-1ad03e7eb1f1"
      },
      "outputs": [
        {
          "output_type": "error",
          "ename": "SyntaxError",
          "evalue": "invalid syntax (<ipython-input-42-92b6d5fb067f>, line 5)",
          "traceback": [
            "\u001b[0;36m  File \u001b[0;32m\"<ipython-input-42-92b6d5fb067f>\"\u001b[0;36m, line \u001b[0;32m5\u001b[0m\n\u001b[0;31m    zones = # read the .shp file using gpd\u001b[0m\n\u001b[0m            ^\u001b[0m\n\u001b[0;31mSyntaxError\u001b[0m\u001b[0;31m:\u001b[0m invalid syntax\n"
          ]
        }
      ],
      "source": [
        "# import geopandas as gpd\n",
        "\n",
        "\n",
        "# Read the shapefile using geopandas\n",
        "zones = # read the .shp file using gpd\n",
        "zones.head()"
      ]
    },
    {
      "cell_type": "markdown",
      "metadata": {
        "id": "8YXJMzRoWxeg"
      },
      "source": [
        "Now, if you look at the DataFrame created, you will see columns like: `OBJECTID`,`Shape_Leng`, `Shape_Area`, `zone`, `LocationID`, `borough`, `geometry`.\n",
        "<br><br>\n",
        "\n",
        "Now, the `locationID` here is also what we are using to mark pickup and drop zones in the trip records.\n",
        "\n",
        "The geometric parameters like shape length, shape area and geometry are used to plot the zones on a map.\n",
        "\n",
        "This can be easily done using the `plot()` method."
      ]
    },
    {
      "cell_type": "code",
      "execution_count": null,
      "metadata": {
        "id": "lTqdZChLYE6H"
      },
      "outputs": [],
      "source": [
        "# print(zones.info())\n",
        "# zones.plot()"
      ]
    },
    {
      "cell_type": "markdown",
      "metadata": {
        "id": "fBkWokLIY_BH"
      },
      "source": [
        "Now, you have to merge the trip records and zones data using the location IDs.\n",
        "\n"
      ]
    },
    {
      "cell_type": "markdown",
      "metadata": {
        "id": "YzUMLUjqaJLN"
      },
      "source": [
        "**3.1.10** <font color = red>[3 marks]</font> <br>\n",
        "Merge the zones data into trip data using the `locationID` and `PULocationID` columns."
      ]
    },
    {
      "cell_type": "code",
      "execution_count": null,
      "metadata": {
        "id": "A2L8hWMQaYkX"
      },
      "outputs": [],
      "source": [
        "# Merge zones and trip records using locationID and PULocationID\n",
        "\n"
      ]
    },
    {
      "cell_type": "markdown",
      "metadata": {
        "id": "9CYc36Weai5-"
      },
      "source": [
        "**3.1.11** <font color = red>[3 marks]</font> <br>\n",
        "Group data by location IDs to find the total number of trips per location ID"
      ]
    },
    {
      "cell_type": "code",
      "execution_count": null,
      "metadata": {
        "id": "XpTIaPSSbwZZ"
      },
      "outputs": [],
      "source": [
        "# Group data by location and calculate the number of trips\n",
        "\n"
      ]
    },
    {
      "cell_type": "markdown",
      "metadata": {
        "id": "As0dVJpdcK2_"
      },
      "source": [
        "**3.1.12** <font color = red>[2 marks]</font> <br>\n",
        "Now, use the grouped data to add number of trips to the GeoDataFrame.\n",
        "\n",
        "We will use this to plot a map of zones showing total trips per zone."
      ]
    },
    {
      "cell_type": "code",
      "execution_count": null,
      "metadata": {
        "id": "H9Sheg7vdZ6q"
      },
      "outputs": [],
      "source": [
        "# Merge trip counts back to the zones GeoDataFrame\n",
        "\n",
        "\n"
      ]
    },
    {
      "cell_type": "markdown",
      "metadata": {
        "id": "DsfomL6Od0_R"
      },
      "source": [
        "The next step is creating a color map (choropleth map) showing zones by the number of trips taken.\n",
        "\n",
        "Again, you can use the `zones.plot()` method for this. [Plot Method GPD](https://geopandas.org/en/stable/docs/reference/api/geopandas.GeoDataFrame.plot.html#geopandas.GeoDataFrame.plot)\n",
        "\n",
        "But first, you need to define the figure and axis for the plot.\n",
        "\n",
        "`fig, ax = plt.subplots(1, 1, figsize = (12, 10))`\n",
        "\n",
        "This function creates a figure (fig) and a single subplot (ax)\n",
        "\n",
        "---"
      ]
    },
    {
      "cell_type": "markdown",
      "metadata": {
        "id": "QgDcw8gUejVk"
      },
      "source": [
        "After setting up the figure and axis, we can proceed to plot the GeoDataFrame on this axis. This is done in the next step where we use the plot method of the GeoDataFrame.\n",
        "\n",
        "You can define the following parameters in the `zones.plot()` method:\n",
        "```\n",
        "column = '',\n",
        "ax = ax,\n",
        "legend = True,\n",
        "legend_kwds = {'label': \"label\", 'orientation': \"<horizontal/vertical>\"}\n",
        "```\n",
        "\n",
        "To display the plot, use `plt.show()`."
      ]
    },
    {
      "cell_type": "markdown",
      "metadata": {
        "id": "xFQmkJipfU1P"
      },
      "source": [
        "**3.1.13** <font color = red>[3 marks]</font> <br>\n",
        "Plot a color-coded map showing zone-wise trips"
      ]
    },
    {
      "cell_type": "code",
      "execution_count": null,
      "metadata": {
        "id": "i506kVTgefM5"
      },
      "outputs": [],
      "source": [
        "# Define figure and axis\n",
        "\n",
        "\n",
        "# Plot the map and display it\n",
        "\n"
      ]
    },
    {
      "cell_type": "code",
      "execution_count": null,
      "metadata": {
        "id": "gwDs7OaBSopP"
      },
      "outputs": [],
      "source": [
        "# can you try displaying the zones DF sorted by the number of trips?\n",
        "\n"
      ]
    },
    {
      "cell_type": "markdown",
      "metadata": {
        "id": "T1bE7-QbgSrZ"
      },
      "source": [
        "Here we have completed the temporal, financial and geographical analysis on the trip records.\n",
        "\n",
        "**Compile your findings from general analysis below:**"
      ]
    },
    {
      "cell_type": "markdown",
      "metadata": {
        "id": "7YiVFIX3gcL3"
      },
      "source": [
        "You can consider the following points:\n",
        "\n",
        "* Busiest hours, days and months\n",
        "* Trends in revenue collected\n",
        "* Trends in quarterly revenue\n",
        "* How fare depends on trip distance, trip duration and passenger counts\n",
        "* How tip amount depends on trip distance\n",
        "* Busiest zones\n"
      ]
    },
    {
      "cell_type": "markdown",
      "metadata": {
        "id": "Rv0oYLcbhOTU"
      },
      "source": [
        "#### **3.2** Detailed EDA: Insights and Strategies\n",
        "<font color = red>[50 marks]</font> <br>"
      ]
    },
    {
      "cell_type": "markdown",
      "metadata": {
        "id": "xWJk-CGihnU1"
      },
      "source": [
        "Having performed basic analyses for finding trends and patterns, we will now move on to some detailed analysis focussed on operational efficiency, pricing strategies, and customer experience."
      ]
    },
    {
      "cell_type": "markdown",
      "metadata": {
        "id": "XBY2Y4Jrz9IQ"
      },
      "source": [
        "##### Operational Efficiency"
      ]
    },
    {
      "cell_type": "markdown",
      "metadata": {
        "id": "BXU8Q3sGjGnE"
      },
      "source": [
        "Analyze variations by time of day and location to identify bottlenecks or inefficiencies in routes"
      ]
    },
    {
      "cell_type": "markdown",
      "metadata": {
        "id": "H97VPqVdq7Lz"
      },
      "source": [
        "**3.2.1** <font color = red>[3 marks]</font> <br>\n",
        "Identify slow routes by calculating the average time taken by cabs to get from one zone to another at different hours of the day."
      ]
    },
    {
      "cell_type": "markdown",
      "metadata": {
        "id": "NzTRZyw2q9IR"
      },
      "source": [
        "Speed on a route *X* for hour *Y* = (*distance of the route X / average trip duration for hour Y*)"
      ]
    },
    {
      "cell_type": "code",
      "execution_count": null,
      "metadata": {
        "id": "Ovf-1vIyhk7E"
      },
      "outputs": [],
      "source": [
        "# Find routes which have the slowest speeds at different times of the day\n",
        "\n"
      ]
    },
    {
      "cell_type": "markdown",
      "metadata": {
        "id": "NmRPbH3rm2Ub"
      },
      "source": [
        "How does identifying high-traffic, high-demand routes help us?"
      ]
    },
    {
      "cell_type": "markdown",
      "metadata": {
        "id": "7-w-OCB_nLmb"
      },
      "source": [
        "**3.2.2** <font color = red>[3 marks]</font> <br>\n",
        "Calculate the number of trips at each hour of the day and visualise them. Find the busiest hour and show the number of trips for that hour."
      ]
    },
    {
      "cell_type": "code",
      "execution_count": null,
      "metadata": {
        "id": "BEbRCT31nLUw"
      },
      "outputs": [],
      "source": [
        "# Visualise the number of trips per hour and find the busiest hour\n",
        "\n"
      ]
    },
    {
      "cell_type": "markdown",
      "metadata": {
        "id": "8FuSAA0zn3F4"
      },
      "source": [
        "Remember, we took a fraction of trips. To find the actual number, you have to scale the number up by the sampling ratio."
      ]
    },
    {
      "cell_type": "markdown",
      "metadata": {
        "id": "bapn075QrKaz"
      },
      "source": [
        "**3.2.3** <font color = red>[2 mark]</font> <br>\n",
        "Find the actual number of trips in the five busiest hours"
      ]
    },
    {
      "cell_type": "code",
      "execution_count": null,
      "metadata": {
        "id": "79Hy-YWOoapQ"
      },
      "outputs": [],
      "source": [
        "# Scale up the number of trips\n",
        "\n",
        "# Fill in the value of your sampling fraction and use that to scale up the numbers\n",
        "sample_fraction =\n",
        "\n"
      ]
    },
    {
      "cell_type": "markdown",
      "metadata": {
        "id": "74fhoLxEoaTP"
      },
      "source": [
        "**3.2.4** <font color = red>[3 marks]</font> <br>\n",
        "Compare hourly traffic pattern on weekdays. Also compare for weekend."
      ]
    },
    {
      "cell_type": "code",
      "execution_count": null,
      "metadata": {
        "id": "sYMmCQHwpFRY"
      },
      "outputs": [],
      "source": [
        "# Compare traffic trends for the week days and weekends\n",
        "\n"
      ]
    },
    {
      "cell_type": "markdown",
      "metadata": {
        "id": "tWeuAulNpSOL"
      },
      "source": [
        "What can you infer from the above patterns? How will finding busy and quiet hours for each day help us?"
      ]
    },
    {
      "cell_type": "markdown",
      "metadata": {
        "id": "-S90VG94rGUm"
      },
      "source": [
        "**3.2.5** <font color = red>[3 marks]</font> <br>\n",
        "Identify top 10 zones with high hourly pickups. Do the same for hourly dropoffs. Show pickup and dropoff trends in these zones."
      ]
    },
    {
      "cell_type": "code",
      "execution_count": null,
      "metadata": {
        "id": "-nJGifJFrslP"
      },
      "outputs": [],
      "source": [
        "# Find top 10 pickup and dropoff zones\n",
        "\n"
      ]
    },
    {
      "cell_type": "markdown",
      "metadata": {
        "id": "okkQ17VssMqP"
      },
      "source": [
        "**3.2.6** <font color = red>[3 marks]</font> <br>\n",
        "Find the ratio of pickups and dropoffs in each zone. Display the 10 highest (pickup/drop) and 10 lowest (pickup/drop) ratios."
      ]
    },
    {
      "cell_type": "code",
      "execution_count": null,
      "metadata": {
        "id": "Qbuc8y-KgeDR"
      },
      "outputs": [],
      "source": [
        "# Find the top 10 and bottom 10 pickup/dropoff ratios\n",
        "\n"
      ]
    },
    {
      "cell_type": "markdown",
      "metadata": {
        "id": "2j1ukv-rrxny"
      },
      "source": [
        "**3.2.7** <font color = red>[3 marks]</font> <br>\n",
        "Identify zones with high pickup and dropoff traffic during night hours (11PM to 5AM)"
      ]
    },
    {
      "cell_type": "code",
      "execution_count": null,
      "metadata": {
        "id": "ve65f0GltyE_"
      },
      "outputs": [],
      "source": [
        "# During night hours (11pm to 5am) find the top 10 pickup and dropoff zones\n",
        "# Note that the top zones should be of night hours and not the overall top zones\n",
        "\n"
      ]
    },
    {
      "cell_type": "markdown",
      "metadata": {
        "id": "OtPTHyhTNnNL"
      },
      "source": [
        "Now, let us find the revenue share for the night time hours and the day time hours. After this, we will move to deciding a pricing strategy.\n",
        "\n",
        "**3.2.8** <font color = red>[2 marks]</font> <br>\n",
        "Find the revenue share for nighttime and daytime hours."
      ]
    },
    {
      "cell_type": "code",
      "execution_count": null,
      "metadata": {
        "id": "0ohk4curNl3g"
      },
      "outputs": [],
      "source": [
        "# Filter for night hours (11 PM to 5 AM)\n",
        "\n"
      ]
    },
    {
      "cell_type": "markdown",
      "metadata": {
        "id": "nG77smP4tyWu"
      },
      "source": [
        "##### Pricing Strategy"
      ]
    },
    {
      "cell_type": "markdown",
      "metadata": {
        "id": "ciF6eThit5IH"
      },
      "source": [
        "**3.2.9** <font color = red>[2 marks]</font> <br>\n",
        "For the different passenger counts, find the average fare per mile per passenger.\n",
        "\n",
        "For instance, suppose the average fare per mile for trips with 3 passengers is 3 USD/mile, then the fare per mile per passenger will be 1 USD/mile."
      ]
    },
    {
      "cell_type": "code",
      "execution_count": null,
      "metadata": {
        "id": "AO7MIuXd9C16"
      },
      "outputs": [],
      "source": [
        "# Analyse the fare per mile per passenger for different passenger counts\n",
        "\n",
        "\n"
      ]
    },
    {
      "cell_type": "markdown",
      "metadata": {
        "id": "WZrN-cxR9DIb"
      },
      "source": [
        "**3.2.10** <font color = red>[3 marks]</font> <br>\n",
        "Find the average fare per mile by hours of the day and by days of the week"
      ]
    },
    {
      "cell_type": "code",
      "execution_count": null,
      "metadata": {
        "id": "hUzCJm2y9SOq"
      },
      "outputs": [],
      "source": [
        "# Compare the average fare per mile for different days and for different times of the day\n",
        "\n"
      ]
    },
    {
      "cell_type": "markdown",
      "metadata": {
        "id": "211WFkhHDUMG"
      },
      "source": [
        "**3.2.11** <font color = red>[3 marks]</font> <br>\n",
        "Analyse the average fare per mile for the different vendors for different hours of the day"
      ]
    },
    {
      "cell_type": "code",
      "execution_count": null,
      "metadata": {
        "id": "my3cGHL1DU04"
      },
      "outputs": [],
      "source": [
        "# Compare fare per mile for different vendors\n",
        "\n"
      ]
    },
    {
      "cell_type": "markdown",
      "metadata": {
        "id": "FH9YJdodtDk4"
      },
      "source": [
        "**3.2.12** <font color = red>[5 marks]</font> <br>\n",
        "Compare the fare rates of the different vendors in a tiered fashion. Analyse the average fare per mile for distances upto 2 miles. Analyse the fare per mile for distances from 2 to 5 miles. And then for distances more than 5 miles.\n"
      ]
    },
    {
      "cell_type": "code",
      "execution_count": null,
      "metadata": {
        "id": "TFRPgO7mgEeT"
      },
      "outputs": [],
      "source": [
        "# Defining distance tiers\n",
        "\n"
      ]
    },
    {
      "cell_type": "markdown",
      "metadata": {
        "id": "M2o6xY0Yh6Gv"
      },
      "source": [
        "##### Customer Experience and Other Factors"
      ]
    },
    {
      "cell_type": "markdown",
      "metadata": {
        "id": "VSneN-rCh6Gw"
      },
      "source": [
        "**3.2.13** <font color = red>[5 marks]</font> <br>\n",
        "Analyse average tip percentages based on trip distances, passenger counts and time of pickup. What factors lead to low tip percentages?"
      ]
    },
    {
      "cell_type": "code",
      "execution_count": null,
      "metadata": {
        "id": "LO5WazK8h6Gx"
      },
      "outputs": [],
      "source": [
        "#  Analyze tip percentages based on distances, passenger counts and pickup times\n",
        "\n"
      ]
    },
    {
      "cell_type": "markdown",
      "metadata": {
        "id": "wQAIQsrcLm6X"
      },
      "source": [
        "Additional analysis [optional]: Let's try comparing cases of low tips with cases of high tips to find out if we find a clear aspect that drives up the tipping behaviours"
      ]
    },
    {
      "cell_type": "code",
      "execution_count": null,
      "metadata": {
        "collapsed": true,
        "id": "QYoUed6Dn6YW"
      },
      "outputs": [],
      "source": [
        "# Compare trips with tip percentage < 10% to trips with tip percentage > 25%\n",
        "\n"
      ]
    },
    {
      "cell_type": "markdown",
      "metadata": {
        "id": "0UjvGTRKh6Gx"
      },
      "source": [
        "**3.2.14** <font color = red>[3 marks]</font> <br>\n",
        "Analyse the variation of passenger count across hours and days of the week."
      ]
    },
    {
      "cell_type": "code",
      "execution_count": null,
      "metadata": {
        "id": "rFP0DNRvh6Gx"
      },
      "outputs": [],
      "source": [
        "# See how passenger count varies across hours and days\n",
        "\n",
        "\n"
      ]
    },
    {
      "cell_type": "markdown",
      "metadata": {
        "id": "zWKLLlb7h6Gy"
      },
      "source": [
        "**3.2.15** <font color = red>[2 marks]</font> <br>\n",
        "Analyse the variation of passenger counts across zones"
      ]
    },
    {
      "cell_type": "code",
      "execution_count": null,
      "metadata": {
        "id": "30h27Uz2h6Gy"
      },
      "outputs": [],
      "source": [
        "# How does passenger count vary across zones\n",
        "\n"
      ]
    },
    {
      "cell_type": "code",
      "execution_count": null,
      "metadata": {
        "id": "C3I0AfOkvBWA"
      },
      "outputs": [],
      "source": [
        "# For a more detailed analysis, we can use the zones_with_trips GeoDataFrame\n",
        "# Create a new column for the average passenger count in each zone.\n",
        "\n"
      ]
    },
    {
      "cell_type": "markdown",
      "metadata": {
        "id": "rw0j5Z-1h6Gz"
      },
      "source": [
        "Find out how often surcharges/extra charges are applied to understand their prevalance"
      ]
    },
    {
      "cell_type": "markdown",
      "metadata": {
        "id": "x9IHjHFBx6Ye"
      },
      "source": [
        "**3.2.16** <font color = red>[5 marks]</font> <br>\n",
        "Analyse the pickup/dropoff zones or times when extra charges are applied more frequently"
      ]
    },
    {
      "cell_type": "code",
      "execution_count": null,
      "metadata": {
        "id": "nKbXwZJwh6Gz"
      },
      "outputs": [],
      "source": [
        "# How often is each surcharge applied?\n",
        "\n"
      ]
    },
    {
      "cell_type": "markdown",
      "metadata": {
        "id": "bkyc9q40Cts-"
      },
      "source": [
        "## **4** Conclusion\n",
        "<font color = red>[15 marks]</font> <br>"
      ]
    },
    {
      "cell_type": "markdown",
      "metadata": {
        "id": "Z5yCODI-C6yR"
      },
      "source": [
        "### **4.1** Final Insights and Recommendations\n",
        "<font color = red>[15 marks]</font> <br>\n",
        "\n",
        "Conclude your analyses here. Include all the outcomes you found based on the analysis.\n",
        "\n",
        "Based on the insights, frame a concluding story explaining suitable parameters such as location, time of the day, day of the week etc. to be kept in mind while devising a strategy to meet customer demand and optimise supply."
      ]
    },
    {
      "cell_type": "markdown",
      "metadata": {
        "id": "0dy8J-C8jJjk"
      },
      "source": [
        "**4.1.1** <font color = red>[5 marks]</font> <br>\n",
        "Recommendations to optimize routing and dispatching based on demand patterns and operational inefficiencies"
      ]
    },
    {
      "cell_type": "code",
      "execution_count": null,
      "metadata": {
        "id": "J03px17x_rD9"
      },
      "outputs": [],
      "source": []
    },
    {
      "cell_type": "markdown",
      "metadata": {
        "id": "AaLgTWxpjt7h"
      },
      "source": [
        "**4.1.2** <font color = red>[5 marks]</font> <br>\n",
        "\n",
        "Suggestions on strategically positioning cabs across different zones to make best use of insights uncovered by analysing trip trends across time, days and months."
      ]
    },
    {
      "cell_type": "code",
      "execution_count": null,
      "metadata": {
        "id": "c8ZbTIF7_rsN"
      },
      "outputs": [],
      "source": []
    },
    {
      "cell_type": "markdown",
      "metadata": {
        "id": "mUU4mn50jMZy"
      },
      "source": [
        "**4.1.3** <font color = red>[5 marks]</font> <br>\n",
        "Propose data-driven adjustments to the pricing strategy to maximize revenue while maintaining competitive rates with other vendors."
      ]
    },
    {
      "cell_type": "code",
      "execution_count": null,
      "metadata": {
        "id": "SXErHFjx_sGN"
      },
      "outputs": [],
      "source": []
    }
  ],
  "metadata": {
    "colab": {
      "collapsed_sections": [
        "-OVfUMlHFkZD",
        "Kw-WRzBfyS7j",
        "NgHgbPIepaYl",
        "HZvPSwJx0S3K",
        "gPpJyFFNffcL",
        "MbGMjArkiXjL",
        "23IqsgNjHNpJ",
        "Rv0oYLcbhOTU",
        "XBY2Y4Jrz9IQ",
        "nG77smP4tyWu",
        "M2o6xY0Yh6Gv",
        "bkyc9q40Cts-",
        "Z5yCODI-C6yR"
      ],
      "provenance": [],
      "toc_visible": true,
      "include_colab_link": true
    },
    "kernelspec": {
      "display_name": "base",
      "language": "python",
      "name": "python3"
    },
    "language_info": {
      "codemirror_mode": {
        "name": "ipython",
        "version": 3
      },
      "file_extension": ".py",
      "mimetype": "text/x-python",
      "name": "python",
      "nbconvert_exporter": "python",
      "pygments_lexer": "ipython3",
      "version": "3.12.7"
    }
  },
  "nbformat": 4,
  "nbformat_minor": 0
}